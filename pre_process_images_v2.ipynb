{
 "cells": [
  {
   "cell_type": "markdown",
   "id": "589bc9a0",
   "metadata": {},
   "source": [
    "#### Perform a variety of pre-processing steps on images\n",
    "\n",
    "* Image Loading\n",
    "* Image Resizing (All images are 224 X 224 X 3 in jpg format)\n",
    "* Image Cropping (All images in the dataset have been cropped so that only the image of a single card is present and the card occupies well over 50% of the pixels in the image)\n",
    "* Convert to Grayscale \n",
    "* Image Enhancement (histogram equalization, sharpening, noise reduction, etc.)\n",
    "* Normalization\n",
    "* Data Augmentation: Apply data augmentation techniques to increase the size and diversity of your dataset. This can include random rotations, flips, translations, or other transformations to simulate different viewpoints or variations in lighting conditions.\n",
    "* Image Filtering: : Apply filters or convolutions to smooth the image or enhance specific features. This can include techniques such as blurring (e.g., Gaussian blur), edge detection (e.g., Sobel, Canny), or other spatial filters.\n"
   ]
  },
  {
   "cell_type": "code",
   "execution_count": 2,
   "id": "0a265302",
   "metadata": {},
   "outputs": [],
   "source": [
    "import os\n",
    "import cv2\n",
    "import pandas as pd\n",
    "import numpy as np\n",
    "import matplotlib.pyplot as plt\n",
    "import random\n",
    "import math\n",
    "\n",
    "from sklearn.model_selection import train_test_split\n",
    "\n",
    "from scipy.ndimage import convolve, binary_fill_holes\n",
    "from scipy.stats import mode\n",
    "\n",
    "from skimage import io, exposure\n",
    "from skimage.color import rgb2gray\n",
    "from skimage.feature import canny\n",
    "from skimage.transform import rotate, hough_line, hough_line_peaks, resize\n",
    "from skimage.filters import threshold_otsu, sobel, gaussian, threshold_local\n",
    "\n",
    "\n",
    "import tensorflow as tf\n",
    "from tensorflow.keras.layers import Input, Lambda, Dense, Flatten, GlobalAveragePooling2D\n",
    "from tensorflow.keras.models import Model\n",
    "from tensorflow.keras.applications import ResNet50\n",
    "from tensorflow.keras.preprocessing import image\n",
    "from tensorflow.keras.preprocessing.image import ImageDataGenerator, load_img, img_to_array\n",
    "from tensorflow.keras.models import Sequential\n",
    "from tensorflow.keras.optimizers.legacy import Adam\n",
    "\n",
    "\n",
    "from glob import glob\n",
    "\n",
    "\n",
    "from sklearn.model_selection import train_test_split\n",
    "from sklearn.preprocessing import OneHotEncoder\n",
    "from sklearn.metrics import precision_score, recall_score, f1_score"
   ]
  },
  {
   "cell_type": "markdown",
   "id": "cd7f482c",
   "metadata": {},
   "source": [
    "## Image Loading"
   ]
  },
  {
   "cell_type": "code",
   "execution_count": 3,
   "id": "b10649df",
   "metadata": {},
   "outputs": [
    {
     "data": {
      "text/html": [
       "<div>\n",
       "<style scoped>\n",
       "    .dataframe tbody tr th:only-of-type {\n",
       "        vertical-align: middle;\n",
       "    }\n",
       "\n",
       "    .dataframe tbody tr th {\n",
       "        vertical-align: top;\n",
       "    }\n",
       "\n",
       "    .dataframe thead th {\n",
       "        text-align: right;\n",
       "    }\n",
       "</style>\n",
       "<table border=\"1\" class=\"dataframe\">\n",
       "  <thead>\n",
       "    <tr style=\"text-align: right;\">\n",
       "      <th></th>\n",
       "      <th>class_index</th>\n",
       "      <th>filepaths</th>\n",
       "      <th>labels</th>\n",
       "      <th>card_type</th>\n",
       "      <th>data_set</th>\n",
       "    </tr>\n",
       "  </thead>\n",
       "  <tbody>\n",
       "    <tr>\n",
       "      <th>0</th>\n",
       "      <td>0</td>\n",
       "      <td>train/ace of clubs/001.jpg</td>\n",
       "      <td>ace of clubs</td>\n",
       "      <td>ace</td>\n",
       "      <td>train</td>\n",
       "    </tr>\n",
       "    <tr>\n",
       "      <th>1</th>\n",
       "      <td>0</td>\n",
       "      <td>train/ace of clubs/002.jpg</td>\n",
       "      <td>ace of clubs</td>\n",
       "      <td>ace</td>\n",
       "      <td>train</td>\n",
       "    </tr>\n",
       "    <tr>\n",
       "      <th>2</th>\n",
       "      <td>0</td>\n",
       "      <td>train/ace of clubs/003.jpg</td>\n",
       "      <td>ace of clubs</td>\n",
       "      <td>ace</td>\n",
       "      <td>train</td>\n",
       "    </tr>\n",
       "    <tr>\n",
       "      <th>3</th>\n",
       "      <td>0</td>\n",
       "      <td>train/ace of clubs/004.jpg</td>\n",
       "      <td>ace of clubs</td>\n",
       "      <td>ace</td>\n",
       "      <td>train</td>\n",
       "    </tr>\n",
       "    <tr>\n",
       "      <th>4</th>\n",
       "      <td>0</td>\n",
       "      <td>train/ace of clubs/005.jpg</td>\n",
       "      <td>ace of clubs</td>\n",
       "      <td>ace</td>\n",
       "      <td>train</td>\n",
       "    </tr>\n",
       "  </tbody>\n",
       "</table>\n",
       "</div>"
      ],
      "text/plain": [
       "   class_index                   filepaths        labels card_type data_set\n",
       "0            0  train/ace of clubs/001.jpg  ace of clubs       ace    train\n",
       "1            0  train/ace of clubs/002.jpg  ace of clubs       ace    train\n",
       "2            0  train/ace of clubs/003.jpg  ace of clubs       ace    train\n",
       "3            0  train/ace of clubs/004.jpg  ace of clubs       ace    train\n",
       "4            0  train/ace of clubs/005.jpg  ace of clubs       ace    train"
      ]
     },
     "execution_count": 3,
     "metadata": {},
     "output_type": "execute_result"
    }
   ],
   "source": [
    "# Load images from csv file\n",
    "\n",
    "path = pd.read_csv('Dataset/cards.csv')\n",
    "path_df = pd.DataFrame(path)\n",
    "# For column names that contain space, replace the space with an underscore\n",
    "path_df.columns = [c.replace(' ', '_') for c in path_df.columns]\n",
    "path_df.head()"
   ]
  },
  {
   "cell_type": "code",
   "execution_count": 4,
   "id": "4356867e",
   "metadata": {},
   "outputs": [
    {
     "name": "stdout",
     "output_type": "stream",
     "text": [
      "['clubs' 'diamonds' 'hearts' 'spades' 'joker']\n"
     ]
    }
   ],
   "source": [
    "path_df['suit'] = path_df['labels'].str.split().str[-1]\n",
    "print(path_df['suit'].unique())"
   ]
  },
  {
   "cell_type": "code",
   "execution_count": 5,
   "id": "7335ea46",
   "metadata": {},
   "outputs": [
    {
     "name": "stdout",
     "output_type": "stream",
     "text": [
      "Unique suits without Jokers:  ['clubs' 'diamonds' 'hearts' 'spades']\n"
     ]
    }
   ],
   "source": [
    "# Remove rows with jokers\n",
    "path_df = path_df[~path_df['suit'].str.contains('joker', case=False)]\n",
    "print(\"Unique suits without Jokers: \", path_df['suit'].unique())"
   ]
  },
  {
   "cell_type": "code",
   "execution_count": 6,
   "id": "41a68e30",
   "metadata": {},
   "outputs": [
    {
     "data": {
      "text/html": [
       "<div>\n",
       "<style scoped>\n",
       "    .dataframe tbody tr th:only-of-type {\n",
       "        vertical-align: middle;\n",
       "    }\n",
       "\n",
       "    .dataframe tbody tr th {\n",
       "        vertical-align: top;\n",
       "    }\n",
       "\n",
       "    .dataframe thead th {\n",
       "        text-align: right;\n",
       "    }\n",
       "</style>\n",
       "<table border=\"1\" class=\"dataframe\">\n",
       "  <thead>\n",
       "    <tr style=\"text-align: right;\">\n",
       "      <th></th>\n",
       "      <th>filepaths</th>\n",
       "      <th>labels</th>\n",
       "      <th>suit</th>\n",
       "    </tr>\n",
       "  </thead>\n",
       "  <tbody>\n",
       "    <tr>\n",
       "      <th>0</th>\n",
       "      <td>train/ace of clubs/001.jpg</td>\n",
       "      <td>ace of clubs</td>\n",
       "      <td>clubs</td>\n",
       "    </tr>\n",
       "    <tr>\n",
       "      <th>1</th>\n",
       "      <td>train/ace of clubs/002.jpg</td>\n",
       "      <td>ace of clubs</td>\n",
       "      <td>clubs</td>\n",
       "    </tr>\n",
       "    <tr>\n",
       "      <th>2</th>\n",
       "      <td>train/ace of clubs/003.jpg</td>\n",
       "      <td>ace of clubs</td>\n",
       "      <td>clubs</td>\n",
       "    </tr>\n",
       "    <tr>\n",
       "      <th>3</th>\n",
       "      <td>train/ace of clubs/004.jpg</td>\n",
       "      <td>ace of clubs</td>\n",
       "      <td>clubs</td>\n",
       "    </tr>\n",
       "    <tr>\n",
       "      <th>4</th>\n",
       "      <td>train/ace of clubs/005.jpg</td>\n",
       "      <td>ace of clubs</td>\n",
       "      <td>clubs</td>\n",
       "    </tr>\n",
       "  </tbody>\n",
       "</table>\n",
       "</div>"
      ],
      "text/plain": [
       "                    filepaths        labels   suit\n",
       "0  train/ace of clubs/001.jpg  ace of clubs  clubs\n",
       "1  train/ace of clubs/002.jpg  ace of clubs  clubs\n",
       "2  train/ace of clubs/003.jpg  ace of clubs  clubs\n",
       "3  train/ace of clubs/004.jpg  ace of clubs  clubs\n",
       "4  train/ace of clubs/005.jpg  ace of clubs  clubs"
      ]
     },
     "execution_count": 6,
     "metadata": {},
     "output_type": "execute_result"
    }
   ],
   "source": [
    "# Remove columns that are not needed\n",
    "\n",
    "\n",
    "path_df = path_df.drop(columns = ['data_set'])\n",
    "path_df = path_df.drop(columns = ['class_index'])\n",
    "# path_df = path_df.drop(columns = ['labels'])\n",
    "path_df = path_df.drop(columns = ['card_type'])\n",
    "path_df.head()"
   ]
  },
  {
   "cell_type": "markdown",
   "id": "e8b6a729",
   "metadata": {},
   "source": [
    "## Check Image Size"
   ]
  },
  {
   "cell_type": "code",
   "execution_count": 7,
   "id": "b50c75b2",
   "metadata": {},
   "outputs": [
    {
     "name": "stdout",
     "output_type": "stream",
     "text": [
      "[(224, 224)]\n"
     ]
    }
   ],
   "source": [
    "# All images are 224 X 224 X 3 in jpg format\n",
    "# Double check by printing out unique shapes of images\n",
    "\n",
    "image_shapes = []\n",
    "\n",
    "for folder in path_df.suit.unique():\n",
    "    for filepath in path_df[path_df.suit == folder].filepaths:\n",
    "        image = cv2.imread('Dataset/' + filepath)\n",
    "\n",
    "        if (filepath[-3:] == \"jpg\"):\n",
    "\n",
    "            # Obtain shape of each image and store them in an array\n",
    "            (width, height) = image.shape[1], image.shape[0]\n",
    "            image_shapes.append((width, height))\n",
    "    \n",
    "# Return only unique shapes\n",
    "unique_shapes = list(set(image_shapes))\n",
    "print(unique_shapes)\n"
   ]
  },
  {
   "cell_type": "markdown",
   "id": "1b70ae58",
   "metadata": {},
   "source": [
    "## Convert Images to Grayscale"
   ]
  },
  {
   "cell_type": "code",
   "execution_count": 8,
   "id": "05a730dc",
   "metadata": {},
   "outputs": [],
   "source": [
    "# Convert images to grayscale\n",
    "\n",
    "def convert_to_grayscale(filepath):\n",
    "    filename = 'Dataset/' + filepath\n",
    "    image = cv2.imread(filename)\n",
    "    gray = cv2.cvtColor(image, cv2.COLOR_BGR2GRAY)\n",
    "    return gray"
   ]
  },
  {
   "cell_type": "code",
   "execution_count": 9,
   "id": "f8dc0a43",
   "metadata": {},
   "outputs": [
    {
     "data": {
      "text/plain": [
       "<matplotlib.image.AxesImage at 0x7f81ad9ffe50>"
      ]
     },
     "execution_count": 9,
     "metadata": {},
     "output_type": "execute_result"
    },
    {
     "data": {
      "image/png": "[encoded data removed]",
      "text/plain": [
       "<Figure size 640x480 with 1 Axes>"
      ]
     },
     "metadata": {},
     "output_type": "display_data"
    }
   ],
   "source": [
    "# Test if an image is actually gray\n",
    "\n",
    "test_colored_image = 'train/ace of diamonds/001.jpg'\n",
    "test_gray_img = convert_to_grayscale(test_colored_image)\n",
    "plt.imshow(test_gray_img, cmap='gray', vmin=0, vmax=255)"
   ]
  },
  {
   "cell_type": "markdown",
   "id": "7e10925e",
   "metadata": {},
   "source": [
    "## Image Enhancement\n",
    "\n",
    "Apply techniques to improve the image quality or highlight specific features. Includes contrast stretching, histogram equalization, and sharpening"
   ]
  },
  {
   "cell_type": "code",
   "execution_count": 10,
   "id": "e450412a",
   "metadata": {},
   "outputs": [],
   "source": [
    "#logarithmic correction - replaces pixels with their log value\n",
    "def log_correction(image):\n",
    "    log_adjusted_image =  exposure.adjust_log(image)\n",
    "    return log_adjusted_image\n",
    "\n",
    "#gamma correction - adjusts brightness of image\n",
    "def gamma_correction(image):\n",
    "    random_gamma = np.random.uniform(low = 0, high = 1)\n",
    "    \n",
    "    gamma_adjusted_image = exposure.adjust_gamma(log_correction(image), 2)\n",
    "    return gamma_adjusted_image\n",
    "\n",
    "# BLURRING AND SHARPENING\n",
    "# Blurring the image\n",
    "def blur_image(image):\n",
    "    blur_img = gaussian(gamma_correction(image), sigma = 3)\n",
    "    return blur_img\n",
    "\n",
    "# Sharpening image\n",
    "def sharpen_image(image):\n",
    "    blurred_image = blur_image(image)\n",
    "    sharp_img = image + (image - blurred_image)\n",
    "    return sharp_img\n",
    "\n",
    "# NORMALIZATION\n",
    "def normalize_img(image):\n",
    "    normalized = (sharpen_image(image) - np.min(sharpen_image(image)))/(np.max(sharpen_image(image)) - np.min(sharpen_image(image)))   \n",
    "    return normalized"
   ]
  },
  {
   "cell_type": "markdown",
   "id": "8c645b77",
   "metadata": {},
   "source": [
    "### Preprocess images and save to DatasetPreProcessed folder"
   ]
  },
  {
   "cell_type": "code",
   "execution_count": null,
   "id": "227b5759",
   "metadata": {},
   "outputs": [],
   "source": [
    "# Preprocess images and save to a new folder called 'DatasetPreProcessed'\n",
    "\n",
    "for index, row in path_df.iterrows():\n",
    "    filepath = row['filepaths']\n",
    "    image = convert_to_grayscale(filepath) #convert to grayscale\n",
    "    preprocessed_image = normalize_img(image) #log correction, gamma correction, blurred, sharpened, and normalized\n",
    "    scaled_preprocessed_image = (preprocessed_image * 255).astype(np.uint8) #scale images\n",
    "    \n",
    "    # save preprocessed images to new DatasetPreProcessed folder\n",
    "    directory = os.path.split('./DatasetPreProcessed/' + filepath)[0] \n",
    "    os.makedirs(directory, exist_ok=True)\n",
    "    save_path = os.path.join(directory, os.path.basename(filepath))\n",
    "\n",
    "    # save normalized images\n",
    "    cv2.imwrite(save_path, scaled_preprocessed_image)\n"
   ]
  },
  {
   "cell_type": "markdown",
   "id": "ede4bed0",
   "metadata": {},
   "source": [
    "### Train-Train-Validation Split"
   ]
  },
  {
   "cell_type": "code",
   "execution_count": null,
   "id": "6712e445",
   "metadata": {},
   "outputs": [],
   "source": [
    "# Splitting into train, test, and validation sets (80% - 10% - 10% split)\n",
    "\n",
    "# Split dataframe into train and test sets, stratified by the 'suit' column\n",
    "train_df, test_df = train_test_split(df, test_size=0.2, stratify=df['suit'], random_state=42)\n",
    "\n",
    "# Split train set into train and validation sets, stratified by the 'suit' column\n",
    "train_df, val_df = train_test_split(train_df, test_size=0.2, stratify=train_df['suit'], random_state=42)"
   ]
  },
  {
   "cell_type": "code",
   "execution_count": null,
   "id": "1c5112df",
   "metadata": {},
   "outputs": [],
   "source": [
    "# Check class distribution in the train, validation, and test sets\n",
    "train_class_distribution = train_df['suit'].value_counts(normalize=True)\n",
    "val_class_distribution = val_df['suit'].value_counts(normalize=True)\n",
    "test_class_distribution = test_df['suit'].value_counts(normalize=True)\n",
    "\n",
    "print(\"Train Set - Class Distribution:\")\n",
    "print(train_class_distribution)\n",
    "\n",
    "print(\"Validation Set - Class Distribution:\")\n",
    "print(val_class_distribution)\n",
    "\n",
    "print(\"Test Set - Class Distribution:\")\n",
    "print(test_class_distribution)"
   ]
  },
  {
   "cell_type": "markdown",
   "id": "c95605ed",
   "metadata": {},
   "source": [
    "### Data Augmentation\n",
    "Apply data augmentation techniques to increase the size and diversity of dataset. This include rotations, flips, and augmentation. This simulate different viewpoints or variations."
   ]
  },
  {
   "cell_type": "code",
   "execution_count": null,
   "id": "54ca194b",
   "metadata": {},
   "outputs": [],
   "source": [
    "# Initialize data generator class\n",
    "\n",
    "train_data_generator = ImageDataGenerator(\n",
    "    rescale = 1/255.0,\n",
    "    rotation_range= 45,\n",
    "    zoom_range= 0.2,\n",
    "    width_shift_range = 0.2,\n",
    "    height_shift_range = 0.2,\n",
    "    shear_range= 0.2,\n",
    "    horizontal_flip=True,\n",
    "    vertical_flip=True\n",
    ")\n",
    "\n",
    "test_data_generator = ImageDataGenerator(rescale = 1/255.0)"
   ]
  },
  {
   "cell_type": "code",
   "execution_count": null,
   "id": "496c0aae",
   "metadata": {},
   "outputs": [],
   "source": [
    "# Create data generators for train, validation, and test\n",
    "\n",
    "batch_size = 32\n",
    "\n",
    "train_generator = train_data_generator.flow_from_dataframe(\n",
    "    dataframe = train_df,\n",
    "    x_col = 'filepaths',\n",
    "    y_col = 'suit',\n",
    "    target_size = (224,224),\n",
    "    batch_size = batch_size,\n",
    "    class_mode = 'categorical'\n",
    ")\n",
    "\n",
    "valid_generator = train_data_generator.flow_from_dataframe(\n",
    "    dataframe = val_df,\n",
    "    x_col = 'filepaths',\n",
    "    y_col = 'suit',\n",
    "    target_size = (224,224),\n",
    "    batch_size = batch_size,\n",
    "    class_mode = 'categorical'\n",
    ")\n",
    "\n",
    "test_generator = test_data_generator.flow_from_dataframe(\n",
    "    dataframe = test_df,\n",
    "    x_col = 'filepaths',\n",
    "    y_col = 'suit',\n",
    "    target_size = (224,224),\n",
    "    batch_size = batch_size,\n",
    "    class_mode = 'categorical',\n",
    "    shuffle = False,\n",
    ")\n"
   ]
  },
  {
   "cell_type": "markdown",
   "id": "7be426a8",
   "metadata": {},
   "source": [
    "### To train models use:\n",
    "* train_generator\n",
    "* valid_generator\n",
    "* test_generator"
   ]
  }
 ],
 "metadata": {
  "kernelspec": {
   "display_name": "Python 3 (ipykernel)",
   "language": "python",
   "name": "python3"
  },
  "language_info": {
   "codemirror_mode": {
    "name": "ipython",
    "version": 3
   },
   "file_extension": ".py",
   "mimetype": "text/x-python",
   "name": "python",
   "nbconvert_exporter": "python",
   "pygments_lexer": "ipython3",
   "version": "3.10.6"
  }
 },
 "nbformat": 4,
 "nbformat_minor": 5
}
