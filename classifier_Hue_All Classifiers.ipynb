{
 "cells": [
  {
   "cell_type": "code",
   "execution_count": 167,
   "id": "048c5e7c",
   "metadata": {},
   "outputs": [],
   "source": [
    "import pandas as pd\n",
    "import numpy as np\n",
    "import cv2\n",
    "import tensorflow as tf\n",
    "import matplotlib.pyplot as plt\n",
    "import matplotlib.patches as patches\n",
    "from skimage.feature import hog\n",
    "from skimage import exposure\n",
    "import keras_tuner as kt\n",
    "\n",
    "from tensorflow.keras.models import Sequential\n",
    "from tensorflow.keras.layers import Dense, Dropout\n",
    "from tensorflow.keras.optimizers import Adam\n",
    "from tensorflow.keras.utils import to_categorical\n",
    "from tensorflow.keras.preprocessing.image import load_img, img_to_array\n",
    "from tensorflow.keras.preprocessing.image import ImageDataGenerator\n",
    "\n",
    "from skimage import exposure\n",
    "from skimage import color\n",
    "from skimage.filters import threshold_otsu\n",
    "from skimage.morphology import binary_erosion\n",
    "from skimage.measure import regionprops, find_contours\n",
    "from tensorflow.keras.preprocessing.image import load_img, img_to_array\n",
    "\n",
    "from sklearn.model_selection import train_test_split\n",
    "from sklearn.metrics import classification_report\n",
    "from sklearn.metrics import precision_score, recall_score, f1_score\n",
    "from sklearn.decomposition import PCA\n",
    "from sklearn.preprocessing import StandardScaler\n",
    "from sklearn.svm import SVC\n",
    "from sklearn.ensemble import RandomForestClassifier\n",
    "from sklearn.linear_model import LogisticRegression\n",
    "from sklearn.metrics import accuracy_score\n",
    "from sklearn.metrics import confusion_matrix\n",
    "from sklearn.metrics import ConfusionMatrixDisplay\n",
    "from sklearn.model_selection import GridSearchCV\n",
    "\n",
    "\n",
    "from utils import *\n",
    "from feature_util import *\n",
    "\n",
    "\n",
    "\n"
   ]
  },
  {
   "cell_type": "code",
   "execution_count": 10,
   "id": "8cda539c",
   "metadata": {},
   "outputs": [
    {
     "data": {
      "text/html": [
       "<div>\n",
       "<style scoped>\n",
       "    .dataframe tbody tr th:only-of-type {\n",
       "        vertical-align: middle;\n",
       "    }\n",
       "\n",
       "    .dataframe tbody tr th {\n",
       "        vertical-align: top;\n",
       "    }\n",
       "\n",
       "    .dataframe thead th {\n",
       "        text-align: right;\n",
       "    }\n",
       "</style>\n",
       "<table border=\"1\" class=\"dataframe\">\n",
       "  <thead>\n",
       "    <tr style=\"text-align: right;\">\n",
       "      <th></th>\n",
       "      <th>filepaths</th>\n",
       "      <th>suit</th>\n",
       "    </tr>\n",
       "  </thead>\n",
       "  <tbody>\n",
       "    <tr>\n",
       "      <th>0</th>\n",
       "      <td>Dataset/train/ace of clubs/001.jpg</td>\n",
       "      <td>clubs</td>\n",
       "    </tr>\n",
       "    <tr>\n",
       "      <th>1</th>\n",
       "      <td>Dataset/train/ace of clubs/002.jpg</td>\n",
       "      <td>clubs</td>\n",
       "    </tr>\n",
       "    <tr>\n",
       "      <th>2</th>\n",
       "      <td>Dataset/train/ace of clubs/003.jpg</td>\n",
       "      <td>clubs</td>\n",
       "    </tr>\n",
       "    <tr>\n",
       "      <th>3</th>\n",
       "      <td>Dataset/train/ace of clubs/004.jpg</td>\n",
       "      <td>clubs</td>\n",
       "    </tr>\n",
       "    <tr>\n",
       "      <th>4</th>\n",
       "      <td>Dataset/train/ace of clubs/005.jpg</td>\n",
       "      <td>clubs</td>\n",
       "    </tr>\n",
       "  </tbody>\n",
       "</table>\n",
       "</div>"
      ],
      "text/plain": [
       "                            filepaths   suit\n",
       "0  Dataset/train/ace of clubs/001.jpg  clubs\n",
       "1  Dataset/train/ace of clubs/002.jpg  clubs\n",
       "2  Dataset/train/ace of clubs/003.jpg  clubs\n",
       "3  Dataset/train/ace of clubs/004.jpg  clubs\n",
       "4  Dataset/train/ace of clubs/005.jpg  clubs"
      ]
     },
     "execution_count": 10,
     "metadata": {},
     "output_type": "execute_result"
    }
   ],
   "source": [
    "# Load the image paths and labels from the DataFrame\n",
    "df = pd.read_csv('Dataset/cards.csv')\n",
    "\n",
    "# For column names that contain space, replace the space with an underscore\n",
    "df.columns = [c.replace(' ', '_') for c in df.columns]\n",
    "\n",
    "# Add suits column\n",
    "df['suit'] = df['labels'].str.split().str[-1]\n",
    "\n",
    "# Remove rows with jokers\n",
    "df = df[~df['suit'].str.contains('joker', case=False)]\n",
    "\n",
    "# Remove unwanted columns\n",
    "df = df.drop(columns = ['data_set'])\n",
    "df = df.drop(columns = ['class_index'])\n",
    "df = df.drop(columns = ['labels'])\n",
    "df = df.drop(columns = ['card_type'])\n",
    "\n",
    "# Add folder name to the filepath\n",
    "df['filepaths'] = df['filepaths'].apply(lambda x: 'Dataset/' + x)\n",
    "df.head()"
   ]
  },
  {
   "cell_type": "code",
   "execution_count": 11,
   "id": "2fabeb0a",
   "metadata": {},
   "outputs": [
    {
     "name": "stdout",
     "output_type": "stream",
     "text": [
      "Train Set - Class Distribution:\n",
      "spades      0.269171\n",
      "hearts      0.246010\n",
      "diamonds    0.243675\n",
      "clubs       0.241144\n",
      "Name: suit, dtype: float64\n",
      "Validation Set - Class Distribution:\n",
      "spades      0.269261\n",
      "hearts      0.245914\n",
      "diamonds    0.243580\n",
      "clubs       0.241245\n",
      "Name: suit, dtype: float64\n",
      "Test Set - Class Distribution:\n",
      "spades      0.268991\n",
      "hearts      0.245953\n",
      "diamonds    0.244085\n",
      "clubs       0.240971\n",
      "Name: suit, dtype: float64\n"
     ]
    }
   ],
   "source": [
    "# Split dataframe into train and test sets, stratified by the 'suit' column\n",
    "train_df, test_df = train_test_split(df, test_size=0.2, stratify=df['suit'], random_state=42)\n",
    "\n",
    "# Split train set into train and validation sets, stratified by the 'suit' column\n",
    "train_df, val_df = train_test_split(train_df, test_size=0.2, stratify=train_df['suit'], random_state=42)\n",
    "\n",
    "# Check class distribution in the train, validation, and test sets\n",
    "train_class_distribution = train_df['suit'].value_counts(normalize=True)\n",
    "val_class_distribution = val_df['suit'].value_counts(normalize=True)\n",
    "test_class_distribution = test_df['suit'].value_counts(normalize=True)\n",
    "\n",
    "print(\"Train Set - Class Distribution:\")\n",
    "print(train_class_distribution)\n",
    "\n",
    "print(\"Validation Set - Class Distribution:\")\n",
    "print(val_class_distribution)\n",
    "\n",
    "print(\"Test Set - Class Distribution:\")\n",
    "print(test_class_distribution)"
   ]
  },
  {
   "cell_type": "markdown",
   "id": "2b360a9b",
   "metadata": {},
   "source": [
    "## Augment Images"
   ]
  },
  {
   "cell_type": "code",
   "execution_count": 12,
   "id": "2dd1b9bc",
   "metadata": {},
   "outputs": [
    {
     "name": "stdout",
     "output_type": "stream",
     "text": [
      "Found 5138 validated image filenames belonging to 4 classes.\n",
      "Found 1285 validated image filenames belonging to 4 classes.\n",
      "Found 1606 validated image filenames belonging to 4 classes.\n"
     ]
    }
   ],
   "source": [
    "# Initialize data generator class\n",
    "\n",
    "train_data_generator = ImageDataGenerator(\n",
    "    #rescale = 1/255.0,   #Want 0 to 255 values for the color histogram\n",
    "#     rotation_range= 45,\n",
    "#     zoom_range= 0.2,\n",
    "#     width_shift_range = 0.2,\n",
    "#     height_shift_range = 0.2,\n",
    "#     shear_range= 0.2,\n",
    "#     horizontal_flip=True,\n",
    "#     vertical_flip=True\n",
    "# \n",
    ")\n",
    "test_data_generator = ImageDataGenerator() #rescale = 1/255.0) #want 0 to 255 values for the color histogram\n",
    "\n",
    "# Create data generators for train, validation, and test\n",
    "batch_size = 32\n",
    "\n",
    "train_generator = train_data_generator.flow_from_dataframe(\n",
    "    dataframe = train_df,\n",
    "    x_col = 'filepaths',\n",
    "    y_col = 'suit',\n",
    "    target_size = (224,224),\n",
    "    batch_size = batch_size,\n",
    "    class_mode = 'categorical',\n",
    "    shuffle=False\n",
    ")\n",
    "\n",
    "valid_generator = test_data_generator.flow_from_dataframe( #change this to use test_data_generator since don't want to augment the valid images\n",
    "    dataframe = val_df,\n",
    "    x_col = 'filepaths',\n",
    "    y_col = 'suit',\n",
    "    target_size = (224,224),\n",
    "    batch_size = batch_size,\n",
    "    class_mode = 'categorical',\n",
    "    shuffle=False\n",
    ")\n",
    "\n",
    "test_generator = test_data_generator.flow_from_dataframe( #change this to use test_data_generator since don't want to augment the valid images\n",
    "    dataframe = test_df,\n",
    "    x_col = 'filepaths',\n",
    "    y_col = 'suit',\n",
    "    target_size = (224,224),\n",
    "    batch_size = batch_size,\n",
    "    class_mode = 'categorical',\n",
    "    shuffle=False\n",
    ")\n"
   ]
  },
  {
   "cell_type": "markdown",
   "id": "31996457",
   "metadata": {},
   "source": [
    "### Functions"
   ]
  },
  {
   "cell_type": "code",
   "execution_count": 18,
   "id": "971493de",
   "metadata": {},
   "outputs": [],
   "source": [
    "\n",
    "def hist_hsv(image, channel = 0):\n",
    "    \n",
    "  # Convert the image from RGB to HSV\n",
    "    image_hsv = cv2.cvtColor(image, cv2.COLOR_RGB2HSV)\n",
    "\n",
    "    # Calculate histograms for each channel (hsv, Saturation, Value)\n",
    "    hist_hsv = cv2.calcHist([image_hsv], [channel], None, [256], [0, 256]).flatten().astype(np.uint8)\n",
    "\n",
    "    # Normalize histograms with area under curve\n",
    "    hist_hsv_normalized = (hist_hsv / np.sum(hist_hsv))\n",
    "    \n",
    "    # Scale the normalized histograms to have values between 0 and 255\n",
    "    hist_hsv_scaled = (hist_hsv_normalized * 255).astype(np.uint8)\n",
    "    \n",
    "    return hist_hsv_scaled\n",
    "\n",
    "\n",
    "# Function to compute hsv features for a batch of images\n",
    "def extract_hsv_features_from_generator(data_generator, channel = 0):\n",
    "    hsv_features = []\n",
    "    labels = []\n",
    "    num_batches = len(data_generator)\n",
    "    \n",
    "    for _ in range(num_batches):\n",
    "        batch_images, class_labels = data_generator.next()  # Get the next batch of augmented images (ignoring the labels)\n",
    "        \n",
    "        # Compute hsv features for each image in the batch\n",
    "        for image, label in zip(batch_images,class_labels):\n",
    "            hsv_feature = hist_hsv(image,channel)\n",
    "            hsv_features.append(hsv_feature)\n",
    "            label = list(label)\n",
    "            labels.append(label)\n",
    "            \n",
    "    return np.array(hsv_features),labels\n",
    "\n",
    "\n"
   ]
  },
  {
   "cell_type": "code",
   "execution_count": 147,
   "id": "f40bca78",
   "metadata": {},
   "outputs": [],
   "source": [
    "def compute_class_accuracies(model, features, labels):\n",
    "    # Predict using the provided model\n",
    "    predictions = model.predict(features)\n",
    "    if model == cnn:\n",
    "        predictions = np.argmax(predictions,axis=1)\n",
    "    # Calculate accuracy for each class\n",
    "    class_accuracies = []\n",
    "    unique_classes = np.unique(labels)    \n",
    "\n",
    "    \n",
    "    for class_label in unique_classes:\n",
    "        class_indices = np.where(labels == class_label)\n",
    "        class_predictions = predictions[class_indices]\n",
    "        correct_predictions = np.sum(class_predictions == class_label)\n",
    "        total_samples = len(class_indices[0])\n",
    "        accuracy = np.round(correct_predictions / total_samples,4)\n",
    "        class_accuracies.append(accuracy)\n",
    "\n",
    "    correct_predictions = np.sum(predictions == labels)\n",
    "    total_samples = len(labels)\n",
    "    accuracy = np.round(correct_predictions / total_samples,4)\n",
    "    \n",
    "    class_accuracies.append(accuracy)\n",
    "    \n",
    "    return class_accuracies"
   ]
  },
  {
   "cell_type": "markdown",
   "id": "766b23cf",
   "metadata": {},
   "source": [
    "### Hue feature vector"
   ]
  },
  {
   "cell_type": "code",
   "execution_count": 69,
   "id": "d90a8847",
   "metadata": {},
   "outputs": [
    {
     "name": "stderr",
     "output_type": "stream",
     "text": [
      "<ipython-input-18-cca07e127b0b>:10: RuntimeWarning: invalid value encountered in true_divide\n",
      "  hist_hsv_normalized = (hist_hsv / np.sum(hist_hsv))\n"
     ]
    }
   ],
   "source": [
    "\n",
    "train_hsv_features, train_labels = extract_hsv_features_from_generator(train_generator, channel = 0)\n",
    "valid_hsv_features, valid_labels = extract_hsv_features_from_generator(valid_generator,channel = 0)\n",
    "test_hsv_features, test_labels = extract_hsv_features_from_generator(test_generator, channel = 0)\n",
    "\n",
    "train_labels = np.array(train_labels)\n",
    "valid_labels = np.array(valid_labels)\n",
    "test_labels = np.array(test_labels)"
   ]
  },
  {
   "cell_type": "markdown",
   "id": "13e5af2a",
   "metadata": {},
   "source": [
    "### CNN Classification - Hue"
   ]
  },
  {
   "cell_type": "code",
   "execution_count": 72,
   "id": "a1177551",
   "metadata": {},
   "outputs": [],
   "source": [
    "# cnn using the train hsv features\n",
    "num_classes = 4\n",
    "\n",
    "cnn = Sequential()\n",
    "cnn.add(Dense(128, activation='relu', input_shape=(train_hsv_features.shape[1],)))\n",
    "cnn.add(Dropout(0.03))\n",
    "cnn.add(Dense(64, activation='relu'))\n",
    "cnn.add(Dropout(0.03))\n",
    "cnn.add(Dense(num_classes, activation='softmax'))\n",
    "\n",
    "cnn.compile(optimizer=Adam(learning_rate=0.0001), loss='categorical_crossentropy', metrics=['accuracy'])"
   ]
  },
  {
   "cell_type": "code",
   "execution_count": 73,
   "id": "d87774f3",
   "metadata": {},
   "outputs": [
    {
     "name": "stdout",
     "output_type": "stream",
     "text": [
      "Epoch 1/20\n",
      "322/322 [==============================] - 1s 3ms/step - loss: 1.8355 - accuracy: 0.3447 - val_loss: 1.3886 - val_accuracy: 0.3798\n",
      "Epoch 2/20\n",
      "322/322 [==============================] - 1s 2ms/step - loss: 1.3756 - accuracy: 0.4039 - val_loss: 1.2901 - val_accuracy: 0.3922\n",
      "Epoch 3/20\n",
      "322/322 [==============================] - 1s 2ms/step - loss: 1.2926 - accuracy: 0.4247 - val_loss: 1.2544 - val_accuracy: 0.4031\n",
      "Epoch 4/20\n",
      "322/322 [==============================] - 1s 2ms/step - loss: 1.2191 - accuracy: 0.4510 - val_loss: 1.2315 - val_accuracy: 0.4062\n",
      "Epoch 5/20\n",
      "322/322 [==============================] - 1s 2ms/step - loss: 1.1990 - accuracy: 0.4484 - val_loss: 1.2150 - val_accuracy: 0.4179\n",
      "Epoch 6/20\n",
      "322/322 [==============================] - 1s 2ms/step - loss: 1.1594 - accuracy: 0.4726 - val_loss: 1.2053 - val_accuracy: 0.4171\n",
      "Epoch 7/20\n",
      "322/322 [==============================] - 1s 2ms/step - loss: 1.1254 - accuracy: 0.4807 - val_loss: 1.1957 - val_accuracy: 0.4140\n",
      "Epoch 8/20\n",
      "322/322 [==============================] - 1s 2ms/step - loss: 1.1074 - accuracy: 0.4955 - val_loss: 1.1987 - val_accuracy: 0.4241\n",
      "Epoch 9/20\n",
      "322/322 [==============================] - 1s 2ms/step - loss: 1.0767 - accuracy: 0.5072 - val_loss: 1.1858 - val_accuracy: 0.4210\n",
      "Epoch 10/20\n",
      "322/322 [==============================] - 1s 2ms/step - loss: 1.0568 - accuracy: 0.5212 - val_loss: 1.1857 - val_accuracy: 0.4265\n",
      "Epoch 11/20\n",
      "322/322 [==============================] - 1s 2ms/step - loss: 1.0392 - accuracy: 0.5247 - val_loss: 1.1786 - val_accuracy: 0.4179\n",
      "Epoch 12/20\n",
      "322/322 [==============================] - 1s 2ms/step - loss: 1.0113 - accuracy: 0.5459 - val_loss: 1.1795 - val_accuracy: 0.4202\n",
      "Epoch 13/20\n",
      "322/322 [==============================] - 1s 2ms/step - loss: 1.0071 - accuracy: 0.5387 - val_loss: 1.1787 - val_accuracy: 0.4233\n",
      "Epoch 14/20\n",
      "322/322 [==============================] - 1s 2ms/step - loss: 0.9768 - accuracy: 0.5693 - val_loss: 1.1760 - val_accuracy: 0.4249\n",
      "Epoch 15/20\n",
      "322/322 [==============================] - 1s 2ms/step - loss: 0.9651 - accuracy: 0.5705 - val_loss: 1.1810 - val_accuracy: 0.4280\n",
      "Epoch 16/20\n",
      "322/322 [==============================] - 1s 2ms/step - loss: 0.9545 - accuracy: 0.5810 - val_loss: 1.1787 - val_accuracy: 0.4280\n",
      "Epoch 17/20\n",
      "322/322 [==============================] - 1s 2ms/step - loss: 0.9276 - accuracy: 0.5897 - val_loss: 1.1800 - val_accuracy: 0.4304\n",
      "Epoch 18/20\n",
      "322/322 [==============================] - 1s 2ms/step - loss: 0.9194 - accuracy: 0.6088 - val_loss: 1.1831 - val_accuracy: 0.4272\n",
      "Epoch 19/20\n",
      "322/322 [==============================] - 1s 2ms/step - loss: 0.9032 - accuracy: 0.6057 - val_loss: 1.1836 - val_accuracy: 0.4272\n",
      "Epoch 20/20\n",
      "322/322 [==============================] - 1s 2ms/step - loss: 0.8916 - accuracy: 0.6090 - val_loss: 1.1863 - val_accuracy: 0.4319\n"
     ]
    },
    {
     "data": {
      "text/plain": [
       "<keras.callbacks.History at 0x7fd568b42c40>"
      ]
     },
     "execution_count": 73,
     "metadata": {},
     "output_type": "execute_result"
    }
   ],
   "source": [
    "# Train the CNN model\n",
    "cnn.fit(train_hsv_features, train_labels,\n",
    "                    batch_size=16,\n",
    "                    epochs=20,\n",
    "                    validation_data=(valid_hsv_features, valid_labels))\n"
   ]
  },
  {
   "cell_type": "code",
   "execution_count": 74,
   "id": "17282d75",
   "metadata": {},
   "outputs": [
    {
     "name": "stdout",
     "output_type": "stream",
     "text": [
      "41/41 [==============================] - 0s 1ms/step\n"
     ]
    }
   ],
   "source": [
    "predict_valid_hsv = cnn.predict(valid_hsv_features)\n",
    "predict_classes_valid_hsv =np.argmax(predict_valid_hsv,axis=1)\n",
    "\n",
    "classes_valid_labels_hsv = np.argmax(valid_labels,axis=1)"
   ]
  },
  {
   "cell_type": "code",
   "execution_count": 75,
   "id": "381d9a15",
   "metadata": {},
   "outputs": [
    {
     "name": "stdout",
     "output_type": "stream",
     "text": [
      "Validation Classification Report:\n",
      "               precision    recall  f1-score   support\n",
      "\n",
      "           0       0.41      0.26      0.32       310\n",
      "           1       0.39      0.43      0.41       313\n",
      "           2       0.47      0.44      0.45       316\n",
      "           3       0.45      0.57      0.51       346\n",
      "\n",
      "    accuracy                           0.43      1285\n",
      "   macro avg       0.43      0.43      0.42      1285\n",
      "weighted avg       0.43      0.43      0.43      1285\n",
      "\n"
     ]
    }
   ],
   "source": [
    "# Get the class names from the generator (assuming it has the 'class_indices' attribute)\n",
    "class_indices = train_generator.class_indices\n",
    "class_names = list(class_indices.keys())\n",
    "\n",
    "# Calculate classification report for validation set\n",
    "valid_report = classification_report(classes_valid_labels_hsv, predict_classes_valid_hsv)\n",
    "print(\"Validation Classification Report:\\n\", valid_report)\n"
   ]
  },
  {
   "cell_type": "code",
   "execution_count": 76,
   "id": "195adf20",
   "metadata": {},
   "outputs": [
    {
     "data": {
      "text/plain": [
       "<sklearn.metrics._plot.confusion_matrix.ConfusionMatrixDisplay at 0x7fd5538b14c0>"
      ]
     },
     "execution_count": 76,
     "metadata": {},
     "output_type": "execute_result"
    },
    {
     "data": {
      "image/png": "[encoded data removed]",
      "text/plain": [
       "<Figure size 432x288 with 2 Axes>"
      ]
     },
     "metadata": {
      "needs_background": "light"
     },
     "output_type": "display_data"
    }
   ],
   "source": [
    "confusion = confusion_matrix(classes_valid_labels_hsv,predict_classes_valid_hsv)\n",
    "disp = ConfusionMatrixDisplay(confusion,display_labels = class_names)\n",
    "disp.plot()"
   ]
  },
  {
   "cell_type": "markdown",
   "id": "fee6eec2",
   "metadata": {},
   "source": [
    "### Logistic Regression Classification - Hue"
   ]
  },
  {
   "cell_type": "code",
   "execution_count": 77,
   "id": "a25662bb",
   "metadata": {},
   "outputs": [
    {
     "data": {
      "text/plain": [
       "LogisticRegression(max_iter=2000, random_state=1)"
      ]
     },
     "execution_count": 77,
     "metadata": {},
     "output_type": "execute_result"
    }
   ],
   "source": [
    "train_labels_1d = np.argmax(train_labels,axis = 1)\n",
    "\n",
    "# Create the logistic regression model\n",
    "logreg = LogisticRegression(max_iter=2000, random_state=1)\n",
    "\n",
    "logreg.fit(train_hsv_features, train_labels_1d)\n"
   ]
  },
  {
   "cell_type": "code",
   "execution_count": 78,
   "id": "847b1e48",
   "metadata": {},
   "outputs": [],
   "source": [
    "predict_classes_valid_hsv = logreg.predict(valid_hsv_features)\n",
    "\n",
    "classes_valid_labels_hsv = np.argmax(valid_labels,axis=1)"
   ]
  },
  {
   "cell_type": "code",
   "execution_count": 79,
   "id": "1ef0e832",
   "metadata": {},
   "outputs": [
    {
     "name": "stdout",
     "output_type": "stream",
     "text": [
      "Validation Classification Report:\n",
      "               precision    recall  f1-score   support\n",
      "\n",
      "           0       0.38      0.25      0.30       310\n",
      "           1       0.37      0.35      0.36       313\n",
      "           2       0.39      0.43      0.41       316\n",
      "           3       0.45      0.58      0.51       346\n",
      "\n",
      "    accuracy                           0.41      1285\n",
      "   macro avg       0.40      0.40      0.40      1285\n",
      "weighted avg       0.40      0.41      0.40      1285\n",
      "\n"
     ]
    }
   ],
   "source": [
    "# Get the class names from the generator (assuming it has the 'class_indices' attribute)\n",
    "class_indices = train_generator.class_indices\n",
    "class_names = list(class_indices.keys())\n",
    "\n",
    "# Calculate classification report for validation set\n",
    "valid_report = classification_report(classes_valid_labels_hsv, predict_classes_valid_hsv)\n",
    "print(\"Validation Classification Report:\\n\", valid_report)"
   ]
  },
  {
   "cell_type": "code",
   "execution_count": 80,
   "id": "57f55fb5",
   "metadata": {},
   "outputs": [
    {
     "data": {
      "text/plain": [
       "<sklearn.metrics._plot.confusion_matrix.ConfusionMatrixDisplay at 0x7fd57006fdf0>"
      ]
     },
     "execution_count": 80,
     "metadata": {},
     "output_type": "execute_result"
    },
    {
     "data": {
      "image/png": "[encoded data removed]",
      "text/plain": [
       "<Figure size 432x288 with 2 Axes>"
      ]
     },
     "metadata": {
      "needs_background": "light"
     },
     "output_type": "display_data"
    }
   ],
   "source": [
    "confusion = confusion_matrix(classes_valid_labels_hsv,predict_classes_valid_hsv)\n",
    "disp = ConfusionMatrixDisplay(confusion,display_labels = class_names)\n",
    "disp.plot()"
   ]
  },
  {
   "cell_type": "markdown",
   "id": "14387fe4",
   "metadata": {},
   "source": [
    "### SVM Classification - Hue"
   ]
  },
  {
   "cell_type": "code",
   "execution_count": 189,
   "id": "af302ac5",
   "metadata": {},
   "outputs": [
    {
     "name": "stdout",
     "output_type": "stream",
     "text": [
      "[LibSVM]"
     ]
    },
    {
     "data": {
      "text/plain": [
       "SVC(C=1, random_state=1, verbose=1)"
      ]
     },
     "execution_count": 189,
     "metadata": {},
     "output_type": "execute_result"
    }
   ],
   "source": [
    "train_labels_1d = np.argmax(train_labels,axis = 1)\n",
    "\n",
    "# Create the SVM model\n",
    "svm_model = SVC(C=1, kernel='rbf', random_state=1, verbose = 1)\n",
    "\n",
    "svm_model.fit(train_hsv_features, train_labels_1d)\n",
    "\n"
   ]
  },
  {
   "cell_type": "code",
   "execution_count": 190,
   "id": "de860162",
   "metadata": {},
   "outputs": [],
   "source": [
    "predict_classes_valid_hsv = svm_model.predict(valid_hsv_features)\n",
    "\n",
    "classes_valid_labels_hsv = np.argmax(valid_labels,axis=1)"
   ]
  },
  {
   "cell_type": "code",
   "execution_count": 191,
   "id": "9338ddd1",
   "metadata": {},
   "outputs": [
    {
     "name": "stdout",
     "output_type": "stream",
     "text": [
      "Validation Classification Report:\n",
      "               precision    recall  f1-score   support\n",
      "\n",
      "           0       0.45      0.24      0.31       310\n",
      "           1       0.37      0.34      0.35       313\n",
      "           2       0.47      0.54      0.50       316\n",
      "           3       0.47      0.64      0.54       346\n",
      "\n",
      "    accuracy                           0.45      1285\n",
      "   macro avg       0.44      0.44      0.43      1285\n",
      "weighted avg       0.44      0.45      0.43      1285\n",
      "\n"
     ]
    }
   ],
   "source": [
    "# Get the class names from the generator (assuming it has the 'class_indices' attribute)\n",
    "class_indices = train_generator.class_indices\n",
    "class_names = list(class_indices.keys())\n",
    "\n",
    "# Calculate classification report for validation set\n",
    "valid_report = classification_report(classes_valid_labels_hsv, predict_classes_valid_hsv)\n",
    "print(\"Validation Classification Report:\\n\", valid_report)"
   ]
  },
  {
   "cell_type": "code",
   "execution_count": 192,
   "id": "802839a4",
   "metadata": {},
   "outputs": [
    {
     "data": {
      "text/plain": [
       "<sklearn.metrics._plot.confusion_matrix.ConfusionMatrixDisplay at 0x7fd5531bc280>"
      ]
     },
     "execution_count": 192,
     "metadata": {},
     "output_type": "execute_result"
    },
    {
     "data": {
      "image/png": "[encoded data removed]",
      "text/plain": [
       "<Figure size 432x288 with 2 Axes>"
      ]
     },
     "metadata": {
      "needs_background": "light"
     },
     "output_type": "display_data"
    }
   ],
   "source": [
    "confusion = confusion_matrix(classes_valid_labels_hsv,predict_classes_valid_hsv)\n",
    "disp = ConfusionMatrixDisplay(confusion,display_labels = class_names)\n",
    "disp.plot()"
   ]
  },
  {
   "cell_type": "markdown",
   "id": "97fce45f",
   "metadata": {},
   "source": [
    "### Random Forest Classification - Hue"
   ]
  },
  {
   "cell_type": "code",
   "execution_count": 85,
   "id": "0448ac3b",
   "metadata": {},
   "outputs": [
    {
     "data": {
      "text/plain": [
       "RandomForestClassifier(random_state=1)"
      ]
     },
     "execution_count": 85,
     "metadata": {},
     "output_type": "execute_result"
    }
   ],
   "source": [
    "train_labels_1d = np.argmax(train_labels,axis = 1)\n",
    "\n",
    "#Create random forest classifier\n",
    "rf_classifier = RandomForestClassifier(n_estimators=100, random_state=1)\n",
    "\n",
    "rf_classifier.fit(train_hsv_features, train_labels_1d)"
   ]
  },
  {
   "cell_type": "code",
   "execution_count": 86,
   "id": "d83f50f6",
   "metadata": {},
   "outputs": [],
   "source": [
    "predict_classes_valid_hsv = rf_classifier.predict(valid_hsv_features)\n",
    "\n",
    "classes_valid_labels_hsv = np.argmax(valid_labels,axis=1)"
   ]
  },
  {
   "cell_type": "code",
   "execution_count": 87,
   "id": "32599bc5",
   "metadata": {},
   "outputs": [
    {
     "name": "stdout",
     "output_type": "stream",
     "text": [
      "Validation Classification Report:\n",
      "               precision    recall  f1-score   support\n",
      "\n",
      "           0       0.45      0.28      0.34       310\n",
      "           1       0.41      0.46      0.43       313\n",
      "           2       0.46      0.46      0.46       316\n",
      "           3       0.51      0.62      0.56       346\n",
      "\n",
      "    accuracy                           0.46      1285\n",
      "   macro avg       0.46      0.46      0.45      1285\n",
      "weighted avg       0.46      0.46      0.45      1285\n",
      "\n"
     ]
    }
   ],
   "source": [
    "# Get the class names from the generator (assuming it has the 'class_indices' attribute)\n",
    "class_indices = train_generator.class_indices\n",
    "class_names = list(class_indices.keys())\n",
    "\n",
    "# Calculate classification report for validation set\n",
    "valid_report = classification_report(classes_valid_labels_hsv, predict_classes_valid_hsv)\n",
    "print(\"Validation Classification Report:\\n\", valid_report)"
   ]
  },
  {
   "cell_type": "code",
   "execution_count": 88,
   "id": "0975a1ca",
   "metadata": {},
   "outputs": [
    {
     "data": {
      "text/plain": [
       "<sklearn.metrics._plot.confusion_matrix.ConfusionMatrixDisplay at 0x7fd553a0fa60>"
      ]
     },
     "execution_count": 88,
     "metadata": {},
     "output_type": "execute_result"
    },
    {
     "data": {
      "image/png": "[encoded data removed]",
      "text/plain": [
       "<Figure size 432x288 with 2 Axes>"
      ]
     },
     "metadata": {
      "needs_background": "light"
     },
     "output_type": "display_data"
    }
   ],
   "source": [
    "confusion = confusion_matrix(classes_valid_labels_hsv,predict_classes_valid_hsv)\n",
    "disp = ConfusionMatrixDisplay(confusion,display_labels = class_names)\n",
    "disp.plot()"
   ]
  },
  {
   "cell_type": "markdown",
   "id": "66dae637",
   "metadata": {},
   "source": [
    "## Review performance by model"
   ]
  },
  {
   "cell_type": "code",
   "execution_count": 194,
   "id": "102c8ee6",
   "metadata": {},
   "outputs": [
    {
     "name": "stdout",
     "output_type": "stream",
     "text": [
      "161/161 [==============================] - 0s 1ms/step\n",
      "41/41 [==============================] - 0s 1ms/step\n"
     ]
    }
   ],
   "source": [
    "# Define the list of models\n",
    "models = [cnn, logreg, svm_model, rf_classifier]\n",
    "model_names = [\"cnn\", \"logreg\", \"svm_model\", \"rf_classifier\"]\n",
    "\n",
    "# Create an empty dictionary to store accuracies for each model\n",
    "all_accuracies = {}\n",
    "\n",
    "# Loop through each model\n",
    "for model, model_names in zip(models,model_names):\n",
    "\n",
    "    # Calculate accuracies for training and validation sets\n",
    "    train_accuracies = compute_class_accuracies(model, train_hsv_features, train_labels_1d)\n",
    "    valid_accuracies = compute_class_accuracies(model, valid_hsv_features, classes_valid_labels_hsv)\n",
    "    \n",
    "    # Store the accuracies in the dictionary\n",
    "    all_accuracies[model_names] = {'Train': train_accuracies, 'Validation': valid_accuracies}\n"
   ]
  },
  {
   "cell_type": "code",
   "execution_count": 195,
   "id": "2e02228d",
   "metadata": {},
   "outputs": [
    {
     "name": "stdout",
     "output_type": "stream",
     "text": [
      "[0.5448, 0.6925, 0.6203, 0.778, 0.6621]\n",
      "[0.2645, 0.4313, 0.443, 0.5723, 0.4319]\n",
      "[0.3535, 0.4601, 0.5166, 0.6471, 0.4986]\n",
      "[0.2581, 0.3482, 0.4557, 0.578, 0.4148]\n",
      "[0.4092, 0.4521, 0.6076, 0.7354, 0.5562]\n",
      "[0.2387, 0.3387, 0.5443, 0.6358, 0.4451]\n",
      "[0.8273, 0.9856, 0.9739, 1.0, 0.9484]\n",
      "[0.2774, 0.4601, 0.462, 0.6214, 0.4599]\n",
      "{'Train_cnn': [0.5448, 0.6925, 0.6203, 0.778, 0.6621], 'Validation_cnn': [0.2645, 0.4313, 0.443, 0.5723, 0.4319], 'Train_logreg': [0.3535, 0.4601, 0.5166, 0.6471, 0.4986], 'Validation_logreg': [0.2581, 0.3482, 0.4557, 0.578, 0.4148], 'Train_svm_model': [0.4092, 0.4521, 0.6076, 0.7354, 0.5562], 'Validation_svm_model': [0.2387, 0.3387, 0.5443, 0.6358, 0.4451], 'Train_rf_classifier': [0.8273, 0.9856, 0.9739, 1.0, 0.9484], 'Validation_rf_classifier': [0.2774, 0.4601, 0.462, 0.6214, 0.4599]}\n"
     ]
    }
   ],
   "source": [
    "flattened_dict = {}\n",
    "for model_name, model_data in all_accuracies.items():\n",
    "    for mode, accuracy_list in model_data.items():\n",
    "        print(accuracy_list)\n",
    "        key = f\"{mode.capitalize()}_{model_name}\"\n",
    "        flattened_dict[key] = accuracy_list\n",
    "        \n",
    "\n",
    "print(flattened_dict)\n",
    "            \n",
    "# Create a DataFrame from the flattened dictionary\n",
    "df = pd.DataFrame(flattened_dict, index=class_names + ['Overall'])\n"
   ]
  },
  {
   "cell_type": "code",
   "execution_count": 196,
   "id": "5aa872ab",
   "metadata": {},
   "outputs": [
    {
     "data": {
      "text/html": [
       "<div>\n",
       "<style scoped>\n",
       "    .dataframe tbody tr th:only-of-type {\n",
       "        vertical-align: middle;\n",
       "    }\n",
       "\n",
       "    .dataframe tbody tr th {\n",
       "        vertical-align: top;\n",
       "    }\n",
       "\n",
       "    .dataframe thead th {\n",
       "        text-align: right;\n",
       "    }\n",
       "</style>\n",
       "<table border=\"1\" class=\"dataframe\">\n",
       "  <thead>\n",
       "    <tr style=\"text-align: right;\">\n",
       "      <th></th>\n",
       "      <th>Train_cnn</th>\n",
       "      <th>Validation_cnn</th>\n",
       "      <th>Train_logreg</th>\n",
       "      <th>Validation_logreg</th>\n",
       "      <th>Train_svm_model</th>\n",
       "      <th>Validation_svm_model</th>\n",
       "      <th>Train_rf_classifier</th>\n",
       "      <th>Validation_rf_classifier</th>\n",
       "    </tr>\n",
       "  </thead>\n",
       "  <tbody>\n",
       "    <tr>\n",
       "      <th>clubs</th>\n",
       "      <td>0.5448</td>\n",
       "      <td>0.2645</td>\n",
       "      <td>0.3535</td>\n",
       "      <td>0.2581</td>\n",
       "      <td>0.4092</td>\n",
       "      <td>0.2387</td>\n",
       "      <td>0.8273</td>\n",
       "      <td>0.2774</td>\n",
       "    </tr>\n",
       "    <tr>\n",
       "      <th>diamonds</th>\n",
       "      <td>0.6925</td>\n",
       "      <td>0.4313</td>\n",
       "      <td>0.4601</td>\n",
       "      <td>0.3482</td>\n",
       "      <td>0.4521</td>\n",
       "      <td>0.3387</td>\n",
       "      <td>0.9856</td>\n",
       "      <td>0.4601</td>\n",
       "    </tr>\n",
       "    <tr>\n",
       "      <th>hearts</th>\n",
       "      <td>0.6203</td>\n",
       "      <td>0.4430</td>\n",
       "      <td>0.5166</td>\n",
       "      <td>0.4557</td>\n",
       "      <td>0.6076</td>\n",
       "      <td>0.5443</td>\n",
       "      <td>0.9739</td>\n",
       "      <td>0.4620</td>\n",
       "    </tr>\n",
       "    <tr>\n",
       "      <th>spades</th>\n",
       "      <td>0.7780</td>\n",
       "      <td>0.5723</td>\n",
       "      <td>0.6471</td>\n",
       "      <td>0.5780</td>\n",
       "      <td>0.7354</td>\n",
       "      <td>0.6358</td>\n",
       "      <td>1.0000</td>\n",
       "      <td>0.6214</td>\n",
       "    </tr>\n",
       "    <tr>\n",
       "      <th>Overall</th>\n",
       "      <td>0.6621</td>\n",
       "      <td>0.4319</td>\n",
       "      <td>0.4986</td>\n",
       "      <td>0.4148</td>\n",
       "      <td>0.5562</td>\n",
       "      <td>0.4451</td>\n",
       "      <td>0.9484</td>\n",
       "      <td>0.4599</td>\n",
       "    </tr>\n",
       "  </tbody>\n",
       "</table>\n",
       "</div>"
      ],
      "text/plain": [
       "          Train_cnn  Validation_cnn  Train_logreg  Validation_logreg  \\\n",
       "clubs        0.5448          0.2645        0.3535             0.2581   \n",
       "diamonds     0.6925          0.4313        0.4601             0.3482   \n",
       "hearts       0.6203          0.4430        0.5166             0.4557   \n",
       "spades       0.7780          0.5723        0.6471             0.5780   \n",
       "Overall      0.6621          0.4319        0.4986             0.4148   \n",
       "\n",
       "          Train_svm_model  Validation_svm_model  Train_rf_classifier  \\\n",
       "clubs              0.4092                0.2387               0.8273   \n",
       "diamonds           0.4521                0.3387               0.9856   \n",
       "hearts             0.6076                0.5443               0.9739   \n",
       "spades             0.7354                0.6358               1.0000   \n",
       "Overall            0.5562                0.4451               0.9484   \n",
       "\n",
       "          Validation_rf_classifier  \n",
       "clubs                       0.2774  \n",
       "diamonds                    0.4601  \n",
       "hearts                      0.4620  \n",
       "spades                      0.6214  \n",
       "Overall                     0.4599  "
      ]
     },
     "execution_count": 196,
     "metadata": {},
     "output_type": "execute_result"
    }
   ],
   "source": [
    "df"
   ]
  },
  {
   "cell_type": "markdown",
   "id": "73618460",
   "metadata": {},
   "source": [
    "The most accurate model was the random forest classifier but overfitting is extreme.\n",
    "\n",
    "The logistic regression model had the least amount of overfitting and accuracy not far off from the random forest so would go with that as the best model for this feature."
   ]
  },
  {
   "cell_type": "markdown",
   "id": "dd13889b",
   "metadata": {},
   "source": [
    "### hyperparameter search"
   ]
  },
  {
   "cell_type": "code",
   "execution_count": 171,
   "id": "8f0a1369",
   "metadata": {},
   "outputs": [
    {
     "name": "stderr",
     "output_type": "stream",
     "text": [
      "/Users/caseyhahn/opt/anaconda3/lib/python3.8/site-packages/sklearn/linear_model/_logistic.py:763: ConvergenceWarning: lbfgs failed to converge (status=1):\n",
      "STOP: TOTAL NO. of ITERATIONS REACHED LIMIT.\n",
      "\n",
      "Increase the number of iterations (max_iter) or scale the data as shown in:\n",
      "    https://scikit-learn.org/stable/modules/preprocessing.html\n",
      "Please also refer to the documentation for alternative solver options:\n",
      "    https://scikit-learn.org/stable/modules/linear_model.html#logistic-regression\n",
      "  n_iter_i = _check_optimize_result(\n",
      "/Users/caseyhahn/opt/anaconda3/lib/python3.8/site-packages/sklearn/linear_model/_logistic.py:763: ConvergenceWarning: lbfgs failed to converge (status=1):\n",
      "STOP: TOTAL NO. of ITERATIONS REACHED LIMIT.\n",
      "\n",
      "Increase the number of iterations (max_iter) or scale the data as shown in:\n",
      "    https://scikit-learn.org/stable/modules/preprocessing.html\n",
      "Please also refer to the documentation for alternative solver options:\n",
      "    https://scikit-learn.org/stable/modules/linear_model.html#logistic-regression\n",
      "  n_iter_i = _check_optimize_result(\n",
      "/Users/caseyhahn/opt/anaconda3/lib/python3.8/site-packages/sklearn/linear_model/_logistic.py:763: ConvergenceWarning: lbfgs failed to converge (status=1):\n",
      "STOP: TOTAL NO. of ITERATIONS REACHED LIMIT.\n",
      "\n",
      "Increase the number of iterations (max_iter) or scale the data as shown in:\n",
      "    https://scikit-learn.org/stable/modules/preprocessing.html\n",
      "Please also refer to the documentation for alternative solver options:\n",
      "    https://scikit-learn.org/stable/modules/linear_model.html#logistic-regression\n",
      "  n_iter_i = _check_optimize_result(\n",
      "/Users/caseyhahn/opt/anaconda3/lib/python3.8/site-packages/sklearn/linear_model/_logistic.py:763: ConvergenceWarning: lbfgs failed to converge (status=1):\n",
      "STOP: TOTAL NO. of ITERATIONS REACHED LIMIT.\n",
      "\n",
      "Increase the number of iterations (max_iter) or scale the data as shown in:\n",
      "    https://scikit-learn.org/stable/modules/preprocessing.html\n",
      "Please also refer to the documentation for alternative solver options:\n",
      "    https://scikit-learn.org/stable/modules/linear_model.html#logistic-regression\n",
      "  n_iter_i = _check_optimize_result(\n",
      "/Users/caseyhahn/opt/anaconda3/lib/python3.8/site-packages/sklearn/linear_model/_logistic.py:763: ConvergenceWarning: lbfgs failed to converge (status=1):\n",
      "STOP: TOTAL NO. of ITERATIONS REACHED LIMIT.\n",
      "\n",
      "Increase the number of iterations (max_iter) or scale the data as shown in:\n",
      "    https://scikit-learn.org/stable/modules/preprocessing.html\n",
      "Please also refer to the documentation for alternative solver options:\n",
      "    https://scikit-learn.org/stable/modules/linear_model.html#logistic-regression\n",
      "  n_iter_i = _check_optimize_result(\n"
     ]
    }
   ],
   "source": [
    "num_classes = 4\n",
    "\n",
    "# Define the hyperparameter grid\n",
    "param_grid = {\n",
    "    'C': [0.01, 0.1, 1, 10],  # Regularization parameter\n",
    "    'max_iter': [2000, 3000, 4000]  # Maximum number of iterations\n",
    "}\n",
    "\n",
    "# Create the GridSearchCV object\n",
    "grid_search = GridSearchCV(logreg, param_grid, cv=5, scoring='accuracy')\n",
    "\n",
    "# Fit the grid search to your data\n",
    "grid_search.fit(train_hsv_features, train_labels_1d)\n",
    "\n",
    "# Get the best hyperparameters and the corresponding model\n",
    "best_params = grid_search.best_params_\n",
    "best_model = grid_search.best_estimator_\n"
   ]
  },
  {
   "cell_type": "code",
   "execution_count": 173,
   "id": "79924d17",
   "metadata": {},
   "outputs": [
    {
     "data": {
      "text/plain": [
       "{'C': 0.01, 'max_iter': 2000}"
      ]
     },
     "execution_count": 173,
     "metadata": {},
     "output_type": "execute_result"
    }
   ],
   "source": [
    "best_params"
   ]
  },
  {
   "cell_type": "markdown",
   "id": "9308b178",
   "metadata": {},
   "source": [
    "### Logistic Regression Classification using grid search parameters - Hue"
   ]
  },
  {
   "cell_type": "code",
   "execution_count": 174,
   "id": "228b85a3",
   "metadata": {},
   "outputs": [
    {
     "data": {
      "text/plain": [
       "LogisticRegression(C=0.01, max_iter=2000, random_state=1)"
      ]
     },
     "execution_count": 174,
     "metadata": {},
     "output_type": "execute_result"
    }
   ],
   "source": [
    "train_labels_1d = np.argmax(train_labels,axis = 1)\n",
    "\n",
    "# Create the logistic regression model\n",
    "logreg = LogisticRegression(max_iter=2000, random_state=1, C = .01)\n",
    "\n",
    "logreg.fit(train_hsv_features, train_labels_1d)\n"
   ]
  },
  {
   "cell_type": "code",
   "execution_count": 175,
   "id": "1a2f3868",
   "metadata": {},
   "outputs": [],
   "source": [
    "predict_classes_valid_hsv = logreg.predict(valid_hsv_features)\n",
    "\n",
    "classes_valid_labels_hsv = np.argmax(valid_labels,axis=1)"
   ]
  },
  {
   "cell_type": "code",
   "execution_count": 176,
   "id": "12abb0bb",
   "metadata": {},
   "outputs": [
    {
     "name": "stdout",
     "output_type": "stream",
     "text": [
      "Validation Classification Report:\n",
      "               precision    recall  f1-score   support\n",
      "\n",
      "           0       0.39      0.26      0.31       310\n",
      "           1       0.38      0.35      0.36       313\n",
      "           2       0.41      0.46      0.43       316\n",
      "           3       0.46      0.58      0.51       346\n",
      "\n",
      "    accuracy                           0.41      1285\n",
      "   macro avg       0.41      0.41      0.40      1285\n",
      "weighted avg       0.41      0.41      0.41      1285\n",
      "\n"
     ]
    }
   ],
   "source": [
    "# Get the class names from the generator (assuming it has the 'class_indices' attribute)\n",
    "class_indices = train_generator.class_indices\n",
    "class_names = list(class_indices.keys())\n",
    "\n",
    "# Calculate classification report for validation set\n",
    "valid_report = classification_report(classes_valid_labels_hsv, predict_classes_valid_hsv)\n",
    "print(\"Validation Classification Report:\\n\", valid_report)"
   ]
  },
  {
   "cell_type": "code",
   "execution_count": 177,
   "id": "72c5713e",
   "metadata": {},
   "outputs": [
    {
     "data": {
      "text/plain": [
       "<sklearn.metrics._plot.confusion_matrix.ConfusionMatrixDisplay at 0x7fd5770ecfa0>"
      ]
     },
     "execution_count": 177,
     "metadata": {},
     "output_type": "execute_result"
    },
    {
     "data": {
      "image/png": "[encoded data removed]",
      "text/plain": [
       "<Figure size 432x288 with 2 Axes>"
      ]
     },
     "metadata": {
      "needs_background": "light"
     },
     "output_type": "display_data"
    }
   ],
   "source": [
    "confusion = confusion_matrix(classes_valid_labels_hsv,predict_classes_valid_hsv)\n",
    "disp = ConfusionMatrixDisplay(confusion,display_labels = class_names)\n",
    "disp.plot()"
   ]
  },
  {
   "cell_type": "markdown",
   "id": "cdbab16e",
   "metadata": {},
   "source": [
    "### Final model on test data"
   ]
  },
  {
   "cell_type": "code",
   "execution_count": 181,
   "id": "3198c551",
   "metadata": {},
   "outputs": [],
   "source": [
    "predict_classes_test_hsv = logreg.predict(test_hsv_features)\n",
    "\n",
    "classes_test_labels_hsv = np.argmax(test_labels,axis=1)"
   ]
  },
  {
   "cell_type": "code",
   "execution_count": 183,
   "id": "bdde030d",
   "metadata": {},
   "outputs": [
    {
     "name": "stdout",
     "output_type": "stream",
     "text": [
      "Test Classification Report:\n",
      "               precision    recall  f1-score   support\n",
      "\n",
      "           0       0.37      0.29      0.33       387\n",
      "           1       0.39      0.38      0.38       392\n",
      "           2       0.43      0.44      0.44       395\n",
      "           3       0.45      0.54      0.49       432\n",
      "\n",
      "    accuracy                           0.42      1606\n",
      "   macro avg       0.41      0.41      0.41      1606\n",
      "weighted avg       0.41      0.42      0.41      1606\n",
      "\n"
     ]
    }
   ],
   "source": [
    "# Get the class names from the generator (assuming it has the 'class_indices' attribute)\n",
    "class_indices = train_generator.class_indices\n",
    "class_names = list(class_indices.keys())\n",
    "\n",
    "# Calculate classification report for validation set\n",
    "test_report = classification_report(classes_test_labels_hsv, predict_classes_test_hsv)\n",
    "print(\"Test Classification Report:\\n\", test_report)"
   ]
  },
  {
   "cell_type": "code",
   "execution_count": 184,
   "id": "7ba4a31d",
   "metadata": {},
   "outputs": [
    {
     "data": {
      "text/plain": [
       "<sklearn.metrics._plot.confusion_matrix.ConfusionMatrixDisplay at 0x7fd5584228e0>"
      ]
     },
     "execution_count": 184,
     "metadata": {},
     "output_type": "execute_result"
    },
    {
     "data": {
      "image/png": "[encoded data removed]",
      "text/plain": [
       "<Figure size 432x288 with 2 Axes>"
      ]
     },
     "metadata": {
      "needs_background": "light"
     },
     "output_type": "display_data"
    }
   ],
   "source": [
    "confusion = confusion_matrix(classes_test_labels_hsv,predict_classes_test_hsv)\n",
    "disp = ConfusionMatrixDisplay(confusion,display_labels = class_names)\n",
    "disp.plot()"
   ]
  }
 ],
 "metadata": {
  "kernelspec": {
   "display_name": "Python 3",
   "language": "python",
   "name": "python3"
  },
  "language_info": {
   "codemirror_mode": {
    "name": "ipython",
    "version": 3
   },
   "file_extension": ".py",
   "mimetype": "text/x-python",
   "name": "python",
   "nbconvert_exporter": "python",
   "pygments_lexer": "ipython3",
   "version": "3.8.8"
  }
 },
 "nbformat": 4,
 "nbformat_minor": 5
}
