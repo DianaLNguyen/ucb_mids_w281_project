{
 "cells": [
  {
   "cell_type": "code",
   "execution_count": 3,
   "id": "048c5e7c",
   "metadata": {},
   "outputs": [],
   "source": [
    "import pandas as pd\n",
    "import numpy as np\n",
    "import cv2\n",
    "import tensorflow as tf\n",
    "import matplotlib.pyplot as plt\n",
    "import matplotlib.patches as patches\n",
    "from skimage.feature import hog\n",
    "from skimage import exposure\n",
    "import keras_tuner as kt\n",
    "\n",
    "from tensorflow.keras.models import Sequential\n",
    "from tensorflow.keras.layers import Dense, Dropout\n",
    "from tensorflow.keras.optimizers import Adam\n",
    "from tensorflow.keras.utils import to_categorical\n",
    "from tensorflow.keras.preprocessing.image import load_img, img_to_array\n",
    "from tensorflow.keras.preprocessing.image import ImageDataGenerator\n",
    "\n",
    "from skimage import exposure\n",
    "from skimage import color\n",
    "from skimage.filters import threshold_otsu\n",
    "from skimage.morphology import binary_erosion\n",
    "from skimage.measure import regionprops, find_contours\n",
    "from tensorflow.keras.preprocessing.image import load_img, img_to_array\n",
    "\n",
    "from sklearn.model_selection import train_test_split\n",
    "from sklearn.metrics import classification_report\n",
    "from sklearn.metrics import precision_score, recall_score, f1_score\n",
    "from sklearn.decomposition import PCA\n",
    "from sklearn.preprocessing import StandardScaler\n",
    "from sklearn.svm import SVC\n",
    "from sklearn.ensemble import RandomForestClassifier\n",
    "from sklearn.linear_model import LogisticRegression\n",
    "from sklearn.metrics import accuracy_score\n",
    "from sklearn.metrics import confusion_matrix\n",
    "from sklearn.metrics import ConfusionMatrixDisplay\n",
    "from sklearn.model_selection import GridSearchCV\n",
    "\n",
    "\n",
    "from utils import *\n",
    "from feature_util import *\n",
    "\n",
    "\n",
    "\n"
   ]
  },
  {
   "cell_type": "code",
   "execution_count": 4,
   "id": "8cda539c",
   "metadata": {},
   "outputs": [
    {
     "data": {
      "text/html": [
       "<div>\n",
       "<style scoped>\n",
       "    .dataframe tbody tr th:only-of-type {\n",
       "        vertical-align: middle;\n",
       "    }\n",
       "\n",
       "    .dataframe tbody tr th {\n",
       "        vertical-align: top;\n",
       "    }\n",
       "\n",
       "    .dataframe thead th {\n",
       "        text-align: right;\n",
       "    }\n",
       "</style>\n",
       "<table border=\"1\" class=\"dataframe\">\n",
       "  <thead>\n",
       "    <tr style=\"text-align: right;\">\n",
       "      <th></th>\n",
       "      <th>filepaths</th>\n",
       "      <th>suit</th>\n",
       "    </tr>\n",
       "  </thead>\n",
       "  <tbody>\n",
       "    <tr>\n",
       "      <th>0</th>\n",
       "      <td>Dataset/train/ace of clubs/001.jpg</td>\n",
       "      <td>clubs</td>\n",
       "    </tr>\n",
       "    <tr>\n",
       "      <th>1</th>\n",
       "      <td>Dataset/train/ace of clubs/002.jpg</td>\n",
       "      <td>clubs</td>\n",
       "    </tr>\n",
       "    <tr>\n",
       "      <th>2</th>\n",
       "      <td>Dataset/train/ace of clubs/003.jpg</td>\n",
       "      <td>clubs</td>\n",
       "    </tr>\n",
       "    <tr>\n",
       "      <th>3</th>\n",
       "      <td>Dataset/train/ace of clubs/004.jpg</td>\n",
       "      <td>clubs</td>\n",
       "    </tr>\n",
       "    <tr>\n",
       "      <th>4</th>\n",
       "      <td>Dataset/train/ace of clubs/005.jpg</td>\n",
       "      <td>clubs</td>\n",
       "    </tr>\n",
       "  </tbody>\n",
       "</table>\n",
       "</div>"
      ],
      "text/plain": [
       "                            filepaths   suit\n",
       "0  Dataset/train/ace of clubs/001.jpg  clubs\n",
       "1  Dataset/train/ace of clubs/002.jpg  clubs\n",
       "2  Dataset/train/ace of clubs/003.jpg  clubs\n",
       "3  Dataset/train/ace of clubs/004.jpg  clubs\n",
       "4  Dataset/train/ace of clubs/005.jpg  clubs"
      ]
     },
     "execution_count": 4,
     "metadata": {},
     "output_type": "execute_result"
    }
   ],
   "source": [
    "# Load the image paths and labels from the DataFrame\n",
    "df = pd.read_csv('Dataset/cards.csv')\n",
    "\n",
    "# For column names that contain space, replace the space with an underscore\n",
    "df.columns = [c.replace(' ', '_') for c in df.columns]\n",
    "\n",
    "# Add suits column\n",
    "df['suit'] = df['labels'].str.split().str[-1]\n",
    "\n",
    "# Remove rows with jokers\n",
    "df = df[~df['suit'].str.contains('joker', case=False)]\n",
    "\n",
    "# Remove unwanted columns\n",
    "df = df.drop(columns = ['data_set'])\n",
    "df = df.drop(columns = ['class_index'])\n",
    "df = df.drop(columns = ['labels'])\n",
    "df = df.drop(columns = ['card_type'])\n",
    "\n",
    "# Add folder name to the filepath\n",
    "df['filepaths'] = df['filepaths'].apply(lambda x: 'Dataset/' + x)\n",
    "df.head()"
   ]
  },
  {
   "cell_type": "code",
   "execution_count": 5,
   "id": "2fabeb0a",
   "metadata": {},
   "outputs": [
    {
     "name": "stdout",
     "output_type": "stream",
     "text": [
      "Train Set - Class Distribution:\n",
      "spades      0.269171\n",
      "hearts      0.246010\n",
      "diamonds    0.243675\n",
      "clubs       0.241144\n",
      "Name: suit, dtype: float64\n",
      "Validation Set - Class Distribution:\n",
      "spades      0.269261\n",
      "hearts      0.245914\n",
      "diamonds    0.243580\n",
      "clubs       0.241245\n",
      "Name: suit, dtype: float64\n",
      "Test Set - Class Distribution:\n",
      "spades      0.268991\n",
      "hearts      0.245953\n",
      "diamonds    0.244085\n",
      "clubs       0.240971\n",
      "Name: suit, dtype: float64\n"
     ]
    }
   ],
   "source": [
    "# Split dataframe into train and test sets, stratified by the 'suit' column\n",
    "train_df, test_df = train_test_split(df, test_size=0.2, stratify=df['suit'], random_state=42)\n",
    "\n",
    "# Split train set into train and validation sets, stratified by the 'suit' column\n",
    "train_df, val_df = train_test_split(train_df, test_size=0.2, stratify=train_df['suit'], random_state=42)\n",
    "\n",
    "# Check class distribution in the train, validation, and test sets\n",
    "train_class_distribution = train_df['suit'].value_counts(normalize=True)\n",
    "val_class_distribution = val_df['suit'].value_counts(normalize=True)\n",
    "test_class_distribution = test_df['suit'].value_counts(normalize=True)\n",
    "\n",
    "print(\"Train Set - Class Distribution:\")\n",
    "print(train_class_distribution)\n",
    "\n",
    "print(\"Validation Set - Class Distribution:\")\n",
    "print(val_class_distribution)\n",
    "\n",
    "print(\"Test Set - Class Distribution:\")\n",
    "print(test_class_distribution)"
   ]
  },
  {
   "cell_type": "markdown",
   "id": "2b360a9b",
   "metadata": {},
   "source": [
    "## Augment Images"
   ]
  },
  {
   "cell_type": "code",
   "execution_count": 6,
   "id": "2dd1b9bc",
   "metadata": {},
   "outputs": [
    {
     "name": "stdout",
     "output_type": "stream",
     "text": [
      "Found 5138 validated image filenames belonging to 4 classes.\n",
      "Found 1285 validated image filenames belonging to 4 classes.\n",
      "Found 1606 validated image filenames belonging to 4 classes.\n"
     ]
    }
   ],
   "source": [
    "# Initialize data generator class\n",
    "\n",
    "train_data_generator = ImageDataGenerator(\n",
    "    #rescale = 1/255.0,   #Want 0 to 255 values for the color histogram\n",
    "#     rotation_range= 45,\n",
    "#     zoom_range= 0.2,\n",
    "#     width_shift_range = 0.2,\n",
    "#     height_shift_range = 0.2,\n",
    "#     shear_range= 0.2,\n",
    "#     horizontal_flip=True,\n",
    "#     vertical_flip=True\n",
    "# \n",
    ")\n",
    "test_data_generator = ImageDataGenerator() #rescale = 1/255.0) #want 0 to 255 values for the color histogram\n",
    "\n",
    "# Create data generators for train, validation, and test\n",
    "batch_size = 32\n",
    "\n",
    "train_generator = train_data_generator.flow_from_dataframe(\n",
    "    dataframe = train_df,\n",
    "    x_col = 'filepaths',\n",
    "    y_col = 'suit',\n",
    "    target_size = (224,224),\n",
    "    batch_size = batch_size,\n",
    "    class_mode = 'categorical',\n",
    "    shuffle=False\n",
    ")\n",
    "\n",
    "valid_generator = test_data_generator.flow_from_dataframe( #change this to use test_data_generator since don't want to augment the valid images\n",
    "    dataframe = val_df,\n",
    "    x_col = 'filepaths',\n",
    "    y_col = 'suit',\n",
    "    target_size = (224,224),\n",
    "    batch_size = batch_size,\n",
    "    class_mode = 'categorical',\n",
    "    shuffle=False\n",
    ")\n",
    "\n",
    "test_generator = test_data_generator.flow_from_dataframe( #change this to use test_data_generator since don't want to augment the valid images\n",
    "    dataframe = test_df,\n",
    "    x_col = 'filepaths',\n",
    "    y_col = 'suit',\n",
    "    target_size = (224,224),\n",
    "    batch_size = batch_size,\n",
    "    class_mode = 'categorical',\n",
    "    shuffle=False\n",
    ")\n"
   ]
  },
  {
   "cell_type": "markdown",
   "id": "31996457",
   "metadata": {},
   "source": [
    "### Functions"
   ]
  },
  {
   "cell_type": "code",
   "execution_count": 7,
   "id": "971493de",
   "metadata": {},
   "outputs": [],
   "source": [
    "\n",
    "def hist_hsv(image, channel = 0):\n",
    "    \n",
    "  # Convert the image from RGB to HSV\n",
    "    image_hsv = cv2.cvtColor(image, cv2.COLOR_RGB2HSV)\n",
    "\n",
    "    # Calculate histograms for each channel (hsv, Saturation, Value)\n",
    "    hist_hsv = cv2.calcHist([image_hsv], [channel], None, [256], [0, 256]).flatten().astype(np.uint8)\n",
    "\n",
    "    # Normalize histograms with area under curve\n",
    "    hist_hsv_normalized = (hist_hsv / np.sum(hist_hsv))\n",
    "    \n",
    "    # Scale the normalized histograms to have values between 0 and 255\n",
    "    hist_hsv_scaled = (hist_hsv_normalized * 255).astype(np.uint8)\n",
    "    \n",
    "    return hist_hsv_scaled\n",
    "\n",
    "\n",
    "# Function to compute hsv features for a batch of images\n",
    "def extract_hsv_features_from_generator(data_generator, channel = 0):\n",
    "    hsv_features = []\n",
    "    labels = []\n",
    "    num_batches = len(data_generator)\n",
    "    \n",
    "    for _ in range(num_batches):\n",
    "        batch_images, class_labels = data_generator.next()  # Get the next batch of augmented images (ignoring the labels)\n",
    "        \n",
    "        # Compute hsv features for each image in the batch\n",
    "        for image, label in zip(batch_images,class_labels):\n",
    "            hsv_feature = hist_hsv(image,channel)\n",
    "            hsv_features.append(hsv_feature)\n",
    "            label = list(label)\n",
    "            labels.append(label)\n",
    "            \n",
    "    return np.array(hsv_features),labels\n",
    "\n",
    "\n"
   ]
  },
  {
   "cell_type": "code",
   "execution_count": 8,
   "id": "f40bca78",
   "metadata": {},
   "outputs": [],
   "source": [
    "def compute_class_accuracies(model, features, labels):\n",
    "    # Predict using the provided model\n",
    "    predictions = model.predict(features)\n",
    "    if model == cnn:\n",
    "        predictions = np.argmax(predictions,axis=1)\n",
    "    # Calculate accuracy for each class\n",
    "    class_accuracies = []\n",
    "    unique_classes = np.unique(labels)    \n",
    "\n",
    "    \n",
    "    for class_label in unique_classes:\n",
    "        class_indices = np.where(labels == class_label)\n",
    "        class_predictions = predictions[class_indices]\n",
    "        correct_predictions = np.sum(class_predictions == class_label)\n",
    "        total_samples = len(class_indices[0])\n",
    "        accuracy = np.round(correct_predictions / total_samples,4)\n",
    "        class_accuracies.append(accuracy)\n",
    "\n",
    "    correct_predictions = np.sum(predictions == labels)\n",
    "    total_samples = len(labels)\n",
    "    accuracy = np.round(correct_predictions / total_samples,4)\n",
    "    \n",
    "    class_accuracies.append(accuracy)\n",
    "    \n",
    "    return class_accuracies"
   ]
  },
  {
   "cell_type": "markdown",
   "id": "766b23cf",
   "metadata": {},
   "source": [
    "### Hue feature vector"
   ]
  },
  {
   "cell_type": "code",
   "execution_count": 9,
   "id": "d90a8847",
   "metadata": {},
   "outputs": [
    {
     "name": "stderr",
     "output_type": "stream",
     "text": [
      "<ipython-input-7-cca07e127b0b>:10: RuntimeWarning: invalid value encountered in true_divide\n",
      "  hist_hsv_normalized = (hist_hsv / np.sum(hist_hsv))\n"
     ]
    }
   ],
   "source": [
    "\n",
    "train_hsv_features, train_labels = extract_hsv_features_from_generator(train_generator, channel = 0)\n",
    "valid_hsv_features, valid_labels = extract_hsv_features_from_generator(valid_generator,channel = 0)\n",
    "test_hsv_features, test_labels = extract_hsv_features_from_generator(test_generator, channel = 0)\n",
    "\n",
    "train_labels = np.array(train_labels)\n",
    "valid_labels = np.array(valid_labels)\n",
    "test_labels = np.array(test_labels)"
   ]
  },
  {
   "cell_type": "markdown",
   "id": "13e5af2a",
   "metadata": {},
   "source": [
    "### CNN Classification - Hue"
   ]
  },
  {
   "cell_type": "code",
   "execution_count": 10,
   "id": "a1177551",
   "metadata": {},
   "outputs": [],
   "source": [
    "# cnn using the train hsv features\n",
    "num_classes = 4\n",
    "\n",
    "cnn = Sequential()\n",
    "cnn.add(Dense(128, activation='relu', input_shape=(train_hsv_features.shape[1],)))\n",
    "cnn.add(Dropout(0.03))\n",
    "cnn.add(Dense(64, activation='relu'))\n",
    "cnn.add(Dropout(0.03))\n",
    "cnn.add(Dense(num_classes, activation='softmax'))\n",
    "\n",
    "cnn.compile(optimizer=Adam(learning_rate=0.0001), loss='categorical_crossentropy', metrics=['accuracy'])"
   ]
  },
  {
   "cell_type": "code",
   "execution_count": 11,
   "id": "d87774f3",
   "metadata": {},
   "outputs": [
    {
     "name": "stdout",
     "output_type": "stream",
     "text": [
      "Epoch 1/20\n",
      "322/322 [==============================] - 2s 3ms/step - loss: 1.8088 - accuracy: 0.3244 - val_loss: 1.4038 - val_accuracy: 0.3696\n",
      "Epoch 2/20\n",
      "322/322 [==============================] - 1s 2ms/step - loss: 1.3751 - accuracy: 0.3930 - val_loss: 1.3185 - val_accuracy: 0.3860\n",
      "Epoch 3/20\n",
      "322/322 [==============================] - 1s 2ms/step - loss: 1.2903 - accuracy: 0.4116 - val_loss: 1.2769 - val_accuracy: 0.4132\n",
      "Epoch 4/20\n",
      "322/322 [==============================] - 1s 2ms/step - loss: 1.2311 - accuracy: 0.4344 - val_loss: 1.2527 - val_accuracy: 0.4016\n",
      "Epoch 5/20\n",
      "322/322 [==============================] - 1s 2ms/step - loss: 1.1922 - accuracy: 0.4525 - val_loss: 1.2353 - val_accuracy: 0.4226\n",
      "Epoch 6/20\n",
      "322/322 [==============================] - 1s 2ms/step - loss: 1.1571 - accuracy: 0.4692 - val_loss: 1.2247 - val_accuracy: 0.4327\n",
      "Epoch 7/20\n",
      "322/322 [==============================] - 1s 2ms/step - loss: 1.1385 - accuracy: 0.4815 - val_loss: 1.2237 - val_accuracy: 0.4257\n",
      "Epoch 8/20\n",
      "322/322 [==============================] - 1s 2ms/step - loss: 1.1112 - accuracy: 0.4955 - val_loss: 1.2053 - val_accuracy: 0.4265\n",
      "Epoch 9/20\n",
      "322/322 [==============================] - 1s 2ms/step - loss: 1.0862 - accuracy: 0.5049 - val_loss: 1.2020 - val_accuracy: 0.4265\n",
      "Epoch 10/20\n",
      "322/322 [==============================] - 1s 2ms/step - loss: 1.0542 - accuracy: 0.5202 - val_loss: 1.1974 - val_accuracy: 0.4304\n",
      "Epoch 11/20\n",
      "322/322 [==============================] - 1s 2ms/step - loss: 1.0349 - accuracy: 0.5395 - val_loss: 1.1926 - val_accuracy: 0.4420\n",
      "Epoch 12/20\n",
      "322/322 [==============================] - 1s 2ms/step - loss: 1.0222 - accuracy: 0.5506 - val_loss: 1.1944 - val_accuracy: 0.4366\n",
      "Epoch 13/20\n",
      "322/322 [==============================] - 1s 2ms/step - loss: 1.0072 - accuracy: 0.5541 - val_loss: 1.1900 - val_accuracy: 0.4342\n",
      "Epoch 14/20\n",
      "322/322 [==============================] - 1s 2ms/step - loss: 0.9860 - accuracy: 0.5658 - val_loss: 1.1857 - val_accuracy: 0.4342\n",
      "Epoch 15/20\n",
      "322/322 [==============================] - 1s 2ms/step - loss: 0.9685 - accuracy: 0.5670 - val_loss: 1.1873 - val_accuracy: 0.4311\n",
      "Epoch 16/20\n",
      "322/322 [==============================] - 1s 2ms/step - loss: 0.9654 - accuracy: 0.5829 - val_loss: 1.1869 - val_accuracy: 0.4420\n",
      "Epoch 17/20\n",
      "322/322 [==============================] - 1s 2ms/step - loss: 0.9396 - accuracy: 0.5882 - val_loss: 1.1853 - val_accuracy: 0.4397\n",
      "Epoch 18/20\n",
      "322/322 [==============================] - 1s 2ms/step - loss: 0.9218 - accuracy: 0.6022 - val_loss: 1.1822 - val_accuracy: 0.4428\n",
      "Epoch 19/20\n",
      "322/322 [==============================] - 1s 2ms/step - loss: 0.9114 - accuracy: 0.6088 - val_loss: 1.1813 - val_accuracy: 0.4444\n",
      "Epoch 20/20\n",
      "322/322 [==============================] - 1s 2ms/step - loss: 0.8974 - accuracy: 0.6109 - val_loss: 1.1870 - val_accuracy: 0.4405\n"
     ]
    },
    {
     "data": {
      "text/plain": [
       "<keras.callbacks.History at 0x7fb445961490>"
      ]
     },
     "execution_count": 11,
     "metadata": {},
     "output_type": "execute_result"
    }
   ],
   "source": [
    "# Train the CNN model\n",
    "cnn.fit(train_hsv_features, train_labels,\n",
    "                    batch_size=16,\n",
    "                    epochs=20,\n",
    "                    validation_data=(valid_hsv_features, valid_labels))\n"
   ]
  },
  {
   "cell_type": "code",
   "execution_count": 12,
   "id": "17282d75",
   "metadata": {},
   "outputs": [
    {
     "name": "stdout",
     "output_type": "stream",
     "text": [
      "41/41 [==============================] - 0s 955us/step\n"
     ]
    }
   ],
   "source": [
    "predict_valid_hsv = cnn.predict(valid_hsv_features)\n",
    "predict_classes_valid_hsv =np.argmax(predict_valid_hsv,axis=1)\n",
    "\n",
    "classes_valid_labels_hsv = np.argmax(valid_labels,axis=1)"
   ]
  },
  {
   "cell_type": "code",
   "execution_count": 13,
   "id": "381d9a15",
   "metadata": {},
   "outputs": [
    {
     "name": "stdout",
     "output_type": "stream",
     "text": [
      "Validation Classification Report:\n",
      "               precision    recall  f1-score   support\n",
      "\n",
      "           0       0.43      0.31      0.36       310\n",
      "           1       0.40      0.44      0.42       313\n",
      "           2       0.45      0.42      0.44       316\n",
      "           3       0.47      0.58      0.52       346\n",
      "\n",
      "    accuracy                           0.44      1285\n",
      "   macro avg       0.44      0.44      0.43      1285\n",
      "weighted avg       0.44      0.44      0.44      1285\n",
      "\n"
     ]
    }
   ],
   "source": [
    "# Get the class names from the generator (assuming it has the 'class_indices' attribute)\n",
    "class_indices = train_generator.class_indices\n",
    "class_names = list(class_indices.keys())\n",
    "\n",
    "# Calculate classification report for validation set\n",
    "valid_report = classification_report(classes_valid_labels_hsv, predict_classes_valid_hsv)\n",
    "print(\"Validation Classification Report:\\n\", valid_report)\n"
   ]
  },
  {
   "cell_type": "code",
   "execution_count": 14,
   "id": "a97f36a7",
   "metadata": {},
   "outputs": [
    {
     "data": {
      "text/plain": [
       "<sklearn.metrics._plot.confusion_matrix.ConfusionMatrixDisplay at 0x7fb443af0070>"
      ]
     },
     "execution_count": 14,
     "metadata": {},
     "output_type": "execute_result"
    },
    {
     "data": {
      "image/png": "[encoded data removed]",
      "text/plain": [
       "<Figure size 432x288 with 2 Axes>"
      ]
     },
     "metadata": {
      "needs_background": "light"
     },
     "output_type": "display_data"
    }
   ],
   "source": [
    "confusion = confusion_matrix(classes_valid_labels_hsv,predict_classes_valid_hsv)\n",
    "disp = ConfusionMatrixDisplay(confusion,display_labels = class_names)\n",
    "disp.plot()"
   ]
  },
  {
   "cell_type": "code",
   "execution_count": 19,
   "id": "8c8ccfa7",
   "metadata": {},
   "outputs": [
    {
     "name": "stdout",
     "output_type": "stream",
     "text": [
      "51/51 [==============================] - 0s 1ms/step\n"
     ]
    }
   ],
   "source": [
    "predict_test_hsv = cnn.predict(test_hsv_features)\n",
    "predict_classes_test_hsv =np.argmax(predict_test_hsv,axis=1)\n",
    "\n",
    "classes_test_labels_hsv = np.argmax(test_labels,axis=1)"
   ]
  },
  {
   "cell_type": "code",
   "execution_count": 20,
   "id": "5405ab17",
   "metadata": {},
   "outputs": [
    {
     "name": "stdout",
     "output_type": "stream",
     "text": [
      "Test Classification Report:\n",
      "               precision    recall  f1-score   support\n",
      "\n",
      "           0       0.40      0.30      0.34       387\n",
      "           1       0.37      0.42      0.39       392\n",
      "           2       0.44      0.39      0.41       395\n",
      "           3       0.46      0.55      0.50       432\n",
      "\n",
      "    accuracy                           0.42      1606\n",
      "   macro avg       0.42      0.41      0.41      1606\n",
      "weighted avg       0.42      0.42      0.41      1606\n",
      "\n"
     ]
    }
   ],
   "source": [
    "# Get the class names from the generator (assuming it has the 'class_indices' attribute)\n",
    "class_indices = train_generator.class_indices\n",
    "class_names = list(class_indices.keys())\n",
    "\n",
    "# Calculate classification report for validation set\n",
    "test_report = classification_report(classes_test_labels_hsv, predict_classes_test_hsv)\n",
    "print(\"Test Classification Report:\\n\", test_report)\n"
   ]
  },
  {
   "cell_type": "markdown",
   "id": "fee6eec2",
   "metadata": {},
   "source": [
    "### Logistic Regression Classification - Hue"
   ]
  },
  {
   "cell_type": "code",
   "execution_count": 21,
   "id": "a25662bb",
   "metadata": {},
   "outputs": [
    {
     "data": {
      "text/plain": [
       "LogisticRegression(max_iter=2000, random_state=1)"
      ]
     },
     "execution_count": 21,
     "metadata": {},
     "output_type": "execute_result"
    }
   ],
   "source": [
    "train_labels_1d = np.argmax(train_labels,axis = 1)\n",
    "\n",
    "# Create the logistic regression model\n",
    "logreg = LogisticRegression(max_iter=2000, random_state=1)\n",
    "\n",
    "logreg.fit(train_hsv_features, train_labels_1d)\n"
   ]
  },
  {
   "cell_type": "code",
   "execution_count": 22,
   "id": "847b1e48",
   "metadata": {},
   "outputs": [],
   "source": [
    "predict_classes_valid_hsv = logreg.predict(valid_hsv_features)\n",
    "\n",
    "classes_valid_labels_hsv = np.argmax(valid_labels,axis=1)"
   ]
  },
  {
   "cell_type": "code",
   "execution_count": 23,
   "id": "1ef0e832",
   "metadata": {},
   "outputs": [
    {
     "name": "stdout",
     "output_type": "stream",
     "text": [
      "Validation Classification Report:\n",
      "               precision    recall  f1-score   support\n",
      "\n",
      "           0       0.38      0.25      0.30       310\n",
      "           1       0.37      0.35      0.36       313\n",
      "           2       0.39      0.43      0.41       316\n",
      "           3       0.45      0.57      0.51       346\n",
      "\n",
      "    accuracy                           0.41      1285\n",
      "   macro avg       0.40      0.40      0.39      1285\n",
      "weighted avg       0.40      0.41      0.40      1285\n",
      "\n"
     ]
    }
   ],
   "source": [
    "# Get the class names from the generator (assuming it has the 'class_indices' attribute)\n",
    "class_indices = train_generator.class_indices\n",
    "class_names = list(class_indices.keys())\n",
    "\n",
    "# Calculate classification report for validation set\n",
    "valid_report = classification_report(classes_valid_labels_hsv, predict_classes_valid_hsv)\n",
    "print(\"Validation Classification Report:\\n\", valid_report)"
   ]
  },
  {
   "cell_type": "code",
   "execution_count": 24,
   "id": "57f55fb5",
   "metadata": {},
   "outputs": [
    {
     "data": {
      "text/plain": [
       "<sklearn.metrics._plot.confusion_matrix.ConfusionMatrixDisplay at 0x7fb4457135b0>"
      ]
     },
     "execution_count": 24,
     "metadata": {},
     "output_type": "execute_result"
    },
    {
     "data": {
      "image/png": "[encoded data removed]",
      "text/plain": [
       "<Figure size 432x288 with 2 Axes>"
      ]
     },
     "metadata": {
      "needs_background": "light"
     },
     "output_type": "display_data"
    }
   ],
   "source": [
    "confusion = confusion_matrix(classes_valid_labels_hsv,predict_classes_valid_hsv)\n",
    "disp = ConfusionMatrixDisplay(confusion,display_labels = class_names)\n",
    "disp.plot()"
   ]
  },
  {
   "cell_type": "code",
   "execution_count": 25,
   "id": "c9f32c71",
   "metadata": {},
   "outputs": [],
   "source": [
    "predict_classes_test_hsv = logreg.predict(test_hsv_features)\n",
    "\n",
    "classes_test_labels_hsv = np.argmax(test_labels,axis=1)"
   ]
  },
  {
   "cell_type": "code",
   "execution_count": 26,
   "id": "9fd571e1",
   "metadata": {},
   "outputs": [
    {
     "name": "stdout",
     "output_type": "stream",
     "text": [
      "Test Classification Report:\n",
      "               precision    recall  f1-score   support\n",
      "\n",
      "           0       0.37      0.30      0.33       387\n",
      "           1       0.39      0.37      0.38       392\n",
      "           2       0.40      0.42      0.41       395\n",
      "           3       0.46      0.55      0.50       432\n",
      "\n",
      "    accuracy                           0.41      1606\n",
      "   macro avg       0.41      0.41      0.41      1606\n",
      "weighted avg       0.41      0.41      0.41      1606\n",
      "\n"
     ]
    }
   ],
   "source": [
    "# Get the class names from the generator (assuming it has the 'class_indices' attribute)\n",
    "class_indices = test_generator.class_indices\n",
    "class_names = list(class_indices.keys())\n",
    "\n",
    "# Calculate classification report for validation set\n",
    "test_report = classification_report(classes_test_labels_hsv, predict_classes_test_hsv)\n",
    "print(\"Test Classification Report:\\n\", test_report)"
   ]
  },
  {
   "cell_type": "markdown",
   "id": "14387fe4",
   "metadata": {},
   "source": [
    "### SVM Classification - Hue"
   ]
  },
  {
   "cell_type": "code",
   "execution_count": 27,
   "id": "af302ac5",
   "metadata": {},
   "outputs": [
    {
     "name": "stdout",
     "output_type": "stream",
     "text": [
      "[LibSVM]"
     ]
    },
    {
     "data": {
      "text/plain": [
       "SVC(C=1, random_state=1, verbose=1)"
      ]
     },
     "execution_count": 27,
     "metadata": {},
     "output_type": "execute_result"
    }
   ],
   "source": [
    "train_labels_1d = np.argmax(train_labels,axis = 1)\n",
    "\n",
    "# Create the SVM model\n",
    "svm_model = SVC(C=1, kernel='rbf', random_state=1, verbose = 1)\n",
    "\n",
    "svm_model.fit(train_hsv_features, train_labels_1d)\n",
    "\n"
   ]
  },
  {
   "cell_type": "code",
   "execution_count": 28,
   "id": "de860162",
   "metadata": {},
   "outputs": [],
   "source": [
    "predict_classes_valid_hsv = svm_model.predict(valid_hsv_features)\n",
    "\n",
    "classes_valid_labels_hsv = np.argmax(valid_labels,axis=1)"
   ]
  },
  {
   "cell_type": "code",
   "execution_count": 29,
   "id": "9338ddd1",
   "metadata": {},
   "outputs": [
    {
     "name": "stdout",
     "output_type": "stream",
     "text": [
      "Validation Classification Report:\n",
      "               precision    recall  f1-score   support\n",
      "\n",
      "           0       0.45      0.24      0.31       310\n",
      "           1       0.37      0.34      0.35       313\n",
      "           2       0.47      0.54      0.50       316\n",
      "           3       0.47      0.64      0.54       346\n",
      "\n",
      "    accuracy                           0.45      1285\n",
      "   macro avg       0.44      0.44      0.43      1285\n",
      "weighted avg       0.44      0.45      0.43      1285\n",
      "\n"
     ]
    }
   ],
   "source": [
    "# Get the class names from the generator (assuming it has the 'class_indices' attribute)\n",
    "class_indices = train_generator.class_indices\n",
    "class_names = list(class_indices.keys())\n",
    "\n",
    "# Calculate classification report for validation set\n",
    "valid_report = classification_report(classes_valid_labels_hsv, predict_classes_valid_hsv)\n",
    "print(\"Validation Classification Report:\\n\", valid_report)"
   ]
  },
  {
   "cell_type": "code",
   "execution_count": 30,
   "id": "802839a4",
   "metadata": {},
   "outputs": [
    {
     "data": {
      "text/plain": [
       "<sklearn.metrics._plot.confusion_matrix.ConfusionMatrixDisplay at 0x7fb4454218b0>"
      ]
     },
     "execution_count": 30,
     "metadata": {},
     "output_type": "execute_result"
    },
    {
     "data": {
      "image/png": "[encoded data removed]",
      "text/plain": [
       "<Figure size 432x288 with 2 Axes>"
      ]
     },
     "metadata": {
      "needs_background": "light"
     },
     "output_type": "display_data"
    }
   ],
   "source": [
    "confusion = confusion_matrix(classes_valid_labels_hsv,predict_classes_valid_hsv)\n",
    "disp = ConfusionMatrixDisplay(confusion,display_labels = class_names)\n",
    "disp.plot()"
   ]
  },
  {
   "cell_type": "code",
   "execution_count": 31,
   "id": "8c029747",
   "metadata": {},
   "outputs": [],
   "source": [
    "predict_classes_test_hsv = svm_model.predict(test_hsv_features)\n",
    "\n",
    "classes_test_labels_hsv = np.argmax(test_labels,axis=1)"
   ]
  },
  {
   "cell_type": "code",
   "execution_count": 32,
   "id": "a6fef581",
   "metadata": {},
   "outputs": [
    {
     "name": "stdout",
     "output_type": "stream",
     "text": [
      "Test Classification Report:\n",
      "               precision    recall  f1-score   support\n",
      "\n",
      "           0       0.43      0.24      0.31       387\n",
      "           1       0.36      0.34      0.35       392\n",
      "           2       0.46      0.51      0.48       395\n",
      "           3       0.46      0.62      0.53       432\n",
      "\n",
      "    accuracy                           0.43      1606\n",
      "   macro avg       0.43      0.43      0.42      1606\n",
      "weighted avg       0.43      0.43      0.42      1606\n",
      "\n"
     ]
    }
   ],
   "source": [
    "# Get the class names from the generator (assuming it has the 'class_indices' attribute)\n",
    "class_indices = train_generator.class_indices\n",
    "class_names = list(class_indices.keys())\n",
    "\n",
    "# Calculate classification report for validation set\n",
    "test_report = classification_report(classes_test_labels_hsv, predict_classes_test_hsv)\n",
    "print(\"Test Classification Report:\\n\", test_report)"
   ]
  },
  {
   "cell_type": "markdown",
   "id": "97fce45f",
   "metadata": {},
   "source": [
    "### Random Forest Classification - Hue"
   ]
  },
  {
   "cell_type": "code",
   "execution_count": 33,
   "id": "0448ac3b",
   "metadata": {},
   "outputs": [
    {
     "data": {
      "text/plain": [
       "RandomForestClassifier(random_state=1)"
      ]
     },
     "execution_count": 33,
     "metadata": {},
     "output_type": "execute_result"
    }
   ],
   "source": [
    "train_labels_1d = np.argmax(train_labels,axis = 1)\n",
    "\n",
    "#Create random forest classifier\n",
    "rf_classifier = RandomForestClassifier(n_estimators=100, random_state=1)\n",
    "\n",
    "rf_classifier.fit(train_hsv_features, train_labels_1d)"
   ]
  },
  {
   "cell_type": "code",
   "execution_count": 34,
   "id": "d83f50f6",
   "metadata": {},
   "outputs": [],
   "source": [
    "predict_classes_valid_hsv = rf_classifier.predict(valid_hsv_features)\n",
    "\n",
    "classes_valid_labels_hsv = np.argmax(valid_labels,axis=1)"
   ]
  },
  {
   "cell_type": "code",
   "execution_count": 35,
   "id": "32599bc5",
   "metadata": {},
   "outputs": [
    {
     "name": "stdout",
     "output_type": "stream",
     "text": [
      "Validation Classification Report:\n",
      "               precision    recall  f1-score   support\n",
      "\n",
      "           0       0.48      0.29      0.36       310\n",
      "           1       0.42      0.46      0.44       313\n",
      "           2       0.47      0.50      0.49       316\n",
      "           3       0.50      0.61      0.55       346\n",
      "\n",
      "    accuracy                           0.47      1285\n",
      "   macro avg       0.47      0.47      0.46      1285\n",
      "weighted avg       0.47      0.47      0.46      1285\n",
      "\n"
     ]
    }
   ],
   "source": [
    "# Get the class names from the generator (assuming it has the 'class_indices' attribute)\n",
    "class_indices = train_generator.class_indices\n",
    "class_names = list(class_indices.keys())\n",
    "\n",
    "# Calculate classification report for validation set\n",
    "valid_report = classification_report(classes_valid_labels_hsv, predict_classes_valid_hsv)\n",
    "print(\"Validation Classification Report:\\n\", valid_report)"
   ]
  },
  {
   "cell_type": "code",
   "execution_count": 36,
   "id": "0975a1ca",
   "metadata": {},
   "outputs": [
    {
     "data": {
      "text/plain": [
       "<sklearn.metrics._plot.confusion_matrix.ConfusionMatrixDisplay at 0x7fb4451fba60>"
      ]
     },
     "execution_count": 36,
     "metadata": {},
     "output_type": "execute_result"
    },
    {
     "data": {
      "image/png": "[encoded data removed]",
      "text/plain": [
       "<Figure size 432x288 with 2 Axes>"
      ]
     },
     "metadata": {
      "needs_background": "light"
     },
     "output_type": "display_data"
    }
   ],
   "source": [
    "confusion = confusion_matrix(classes_valid_labels_hsv,predict_classes_valid_hsv)\n",
    "disp = ConfusionMatrixDisplay(confusion,display_labels = class_names)\n",
    "disp.plot()"
   ]
  },
  {
   "cell_type": "code",
   "execution_count": 37,
   "id": "d77c235f",
   "metadata": {},
   "outputs": [],
   "source": [
    "predict_classes_test_hsv = rf_classifier.predict(test_hsv_features)\n",
    "\n",
    "classes_test_labels_hsv = np.argmax(test_labels,axis=1)"
   ]
  },
  {
   "cell_type": "code",
   "execution_count": 38,
   "id": "c7df8a7e",
   "metadata": {},
   "outputs": [
    {
     "name": "stdout",
     "output_type": "stream",
     "text": [
      "Test Classification Report:\n",
      "               precision    recall  f1-score   support\n",
      "\n",
      "           0       0.47      0.31      0.37       387\n",
      "           1       0.39      0.42      0.41       392\n",
      "           2       0.45      0.48      0.47       395\n",
      "           3       0.50      0.59      0.55       432\n",
      "\n",
      "    accuracy                           0.46      1606\n",
      "   macro avg       0.45      0.45      0.45      1606\n",
      "weighted avg       0.46      0.46      0.45      1606\n",
      "\n"
     ]
    }
   ],
   "source": [
    "# Get the class names from the generator (assuming it has the 'class_indices' attribute)\n",
    "class_indices = train_generator.class_indices\n",
    "class_names = list(class_indices.keys())\n",
    "\n",
    "# Calculate classification report for validation set\n",
    "test_report = classification_report(classes_test_labels_hsv, predict_classes_test_hsv)\n",
    "print(\"Test Classification Report:\\n\", test_report)"
   ]
  },
  {
   "cell_type": "markdown",
   "id": "66dae637",
   "metadata": {},
   "source": [
    "## Review performance by model"
   ]
  },
  {
   "cell_type": "code",
   "execution_count": null,
   "id": "102c8ee6",
   "metadata": {},
   "outputs": [],
   "source": [
    "# Define the list of models\n",
    "models = [cnn, logreg, svm_model, rf_classifier]\n",
    "model_names = [\"cnn\", \"logreg\", \"svm_model\", \"rf_classifier\"]\n",
    "\n",
    "# Create an empty dictionary to store accuracies for each model\n",
    "all_accuracies = {}\n",
    "\n",
    "# Loop through each model\n",
    "for model, model_names in zip(models,model_names):\n",
    "\n",
    "    # Calculate accuracies for training and validation sets\n",
    "    train_accuracies = compute_class_accuracies(model, train_hsv_features, train_labels_1d)\n",
    "    valid_accuracies = compute_class_accuracies(model, valid_hsv_features, classes_valid_labels_hsv)\n",
    "    \n",
    "    # Store the accuracies in the dictionary\n",
    "    all_accuracies[model_names] = {'Train': train_accuracies, 'Validation': valid_accuracies}\n"
   ]
  },
  {
   "cell_type": "code",
   "execution_count": null,
   "id": "2e02228d",
   "metadata": {},
   "outputs": [],
   "source": [
    "flattened_dict = {}\n",
    "for model_name, model_data in all_accuracies.items():\n",
    "    for mode, accuracy_list in model_data.items():\n",
    "        print(accuracy_list)\n",
    "        key = f\"{mode.capitalize()}_{model_name}\"\n",
    "        flattened_dict[key] = accuracy_list\n",
    "        \n",
    "\n",
    "print(flattened_dict)\n",
    "            \n",
    "# Create a DataFrame from the flattened dictionary\n",
    "df = pd.DataFrame(flattened_dict, index=class_names + ['Overall'])\n"
   ]
  },
  {
   "cell_type": "code",
   "execution_count": null,
   "id": "5aa872ab",
   "metadata": {},
   "outputs": [],
   "source": [
    "df"
   ]
  },
  {
   "cell_type": "markdown",
   "id": "73618460",
   "metadata": {},
   "source": [
    "The most accurate model was the random forest classifier but overfitting is extreme.\n",
    "\n",
    "The logistic regression model had the least amount of overfitting and accuracy not far off from the random forest so would go with that as the best model for this feature."
   ]
  },
  {
   "cell_type": "markdown",
   "id": "dd13889b",
   "metadata": {},
   "source": [
    "### hyperparameter search"
   ]
  },
  {
   "cell_type": "code",
   "execution_count": null,
   "id": "8f0a1369",
   "metadata": {},
   "outputs": [],
   "source": [
    "num_classes = 4\n",
    "\n",
    "# Define the hyperparameter grid\n",
    "param_grid = {\n",
    "    'C': [0.01, 0.1, 1, 10],  # Regularization parameter\n",
    "    'max_iter': [2000, 3000, 4000]  # Maximum number of iterations\n",
    "}\n",
    "\n",
    "# Create the GridSearchCV object\n",
    "grid_search = GridSearchCV(logreg, param_grid, cv=5, scoring='accuracy')\n",
    "\n",
    "# Fit the grid search to your data\n",
    "grid_search.fit(train_hsv_features, train_labels_1d)\n",
    "\n",
    "# Get the best hyperparameters and the corresponding model\n",
    "best_params = grid_search.best_params_\n",
    "best_model = grid_search.best_estimator_\n"
   ]
  },
  {
   "cell_type": "code",
   "execution_count": null,
   "id": "79924d17",
   "metadata": {},
   "outputs": [],
   "source": [
    "best_params"
   ]
  },
  {
   "cell_type": "markdown",
   "id": "9308b178",
   "metadata": {},
   "source": [
    "### Logistic Regression Classification using grid search parameters - Hue"
   ]
  },
  {
   "cell_type": "code",
   "execution_count": null,
   "id": "228b85a3",
   "metadata": {},
   "outputs": [],
   "source": [
    "train_labels_1d = np.argmax(train_labels,axis = 1)\n",
    "\n",
    "# Create the logistic regression model\n",
    "logreg = LogisticRegression(max_iter=2000, random_state=1, C = .01)\n",
    "\n",
    "logreg.fit(train_hsv_features, train_labels_1d)\n"
   ]
  },
  {
   "cell_type": "code",
   "execution_count": null,
   "id": "1a2f3868",
   "metadata": {},
   "outputs": [],
   "source": [
    "predict_classes_valid_hsv = logreg.predict(valid_hsv_features)\n",
    "\n",
    "classes_valid_labels_hsv = np.argmax(valid_labels,axis=1)"
   ]
  },
  {
   "cell_type": "code",
   "execution_count": null,
   "id": "12abb0bb",
   "metadata": {},
   "outputs": [],
   "source": [
    "# Get the class names from the generator (assuming it has the 'class_indices' attribute)\n",
    "class_indices = train_generator.class_indices\n",
    "class_names = list(class_indices.keys())\n",
    "\n",
    "# Calculate classification report for validation set\n",
    "valid_report = classification_report(classes_valid_labels_hsv, predict_classes_valid_hsv)\n",
    "print(\"Validation Classification Report:\\n\", valid_report)"
   ]
  },
  {
   "cell_type": "code",
   "execution_count": null,
   "id": "72c5713e",
   "metadata": {},
   "outputs": [],
   "source": [
    "confusion = confusion_matrix(classes_valid_labels_hsv,predict_classes_valid_hsv)\n",
    "disp = ConfusionMatrixDisplay(confusion,display_labels = class_names)\n",
    "disp.plot()"
   ]
  },
  {
   "cell_type": "markdown",
   "id": "cdbab16e",
   "metadata": {},
   "source": [
    "### Final model on test data"
   ]
  },
  {
   "cell_type": "code",
   "execution_count": null,
   "id": "3198c551",
   "metadata": {},
   "outputs": [],
   "source": [
    "predict_classes_test_hsv = logreg.predict(test_hsv_features)\n",
    "\n",
    "classes_test_labels_hsv = np.argmax(test_labels,axis=1)"
   ]
  },
  {
   "cell_type": "code",
   "execution_count": null,
   "id": "bdde030d",
   "metadata": {},
   "outputs": [],
   "source": [
    "# Get the class names from the generator (assuming it has the 'class_indices' attribute)\n",
    "class_indices = train_generator.class_indices\n",
    "class_names = list(class_indices.keys())\n",
    "\n",
    "# Calculate classification report for validation set\n",
    "test_report = classification_report(classes_test_labels_hsv, predict_classes_test_hsv)\n",
    "print(\"Test Classification Report:\\n\", test_report)"
   ]
  },
  {
   "cell_type": "code",
   "execution_count": null,
   "id": "7ba4a31d",
   "metadata": {},
   "outputs": [],
   "source": [
    "confusion = confusion_matrix(classes_test_labels_hsv,predict_classes_test_hsv)\n",
    "disp = ConfusionMatrixDisplay(confusion,display_labels = class_names)\n",
    "disp.plot()"
   ]
  }
 ],
 "metadata": {
  "kernelspec": {
   "display_name": "Python 3",
   "language": "python",
   "name": "python3"
  },
  "language_info": {
   "codemirror_mode": {
    "name": "ipython",
    "version": 3
   },
   "file_extension": ".py",
   "mimetype": "text/x-python",
   "name": "python",
   "nbconvert_exporter": "python",
   "pygments_lexer": "ipython3",
   "version": "3.8.8"
  }
 },
 "nbformat": 4,
 "nbformat_minor": 5
}
