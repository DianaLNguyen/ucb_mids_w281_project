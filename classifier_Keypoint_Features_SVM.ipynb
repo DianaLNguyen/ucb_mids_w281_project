{
 "cells": [
  {
   "cell_type": "code",
   "execution_count": 19,
   "id": "9a490772",
   "metadata": {},
   "outputs": [],
   "source": [
    "import numpy as np\n",
    "import pandas as pd\n",
    "import matplotlib.pyplot as plt\n",
    "import cv2 as cv\n",
    "\n",
    "from skimage.feature import SIFT, match_descriptors\n",
    "from skimage.color import rgb2gray\n",
    "\n",
    "# from tensorflow.keras.models import Sequential\n",
    "# from tensorflow.keras.layers import Dense, Dropout\n",
    "# from tensorflow.keras.optimizers import Adam\n",
    "# from tensorflow.keras.utils import to_categorical\n",
    "# from tensorflow.keras.preprocessing.image import load_img, img_to_array\n",
    "# from tensorflow.keras.preprocessing.image import ImageDataGenerator\n",
    "\n",
    "from sklearn.model_selection import train_test_split\n",
    "from sklearn.metrics import classification_report\n",
    "from sklearn.metrics import precision_score, recall_score, f1_score\n",
    "from sklearn.decomposition import PCA\n",
    "from sklearn.preprocessing import StandardScaler\n",
    "from sklearn import svm\n",
    "from sklearn.metrics import accuracy_score, confusion_matrix, ConfusionMatrixDisplay\n",
    "from sklearn import preprocessing\n",
    "from sklearn.pipeline import make_pipeline, Pipeline\n",
    "from sklearn.discriminant_analysis import LinearDiscriminantAnalysis\n"
   ]
  },
  {
   "cell_type": "code",
   "execution_count": 2,
   "id": "5e182741",
   "metadata": {},
   "outputs": [
    {
     "data": {
      "text/html": [
       "<div>\n",
       "<style scoped>\n",
       "    .dataframe tbody tr th:only-of-type {\n",
       "        vertical-align: middle;\n",
       "    }\n",
       "\n",
       "    .dataframe tbody tr th {\n",
       "        vertical-align: top;\n",
       "    }\n",
       "\n",
       "    .dataframe thead th {\n",
       "        text-align: right;\n",
       "    }\n",
       "</style>\n",
       "<table border=\"1\" class=\"dataframe\">\n",
       "  <thead>\n",
       "    <tr style=\"text-align: right;\">\n",
       "      <th></th>\n",
       "      <th>filepaths</th>\n",
       "      <th>suit</th>\n",
       "    </tr>\n",
       "  </thead>\n",
       "  <tbody>\n",
       "    <tr>\n",
       "      <th>0</th>\n",
       "      <td>Dataset/train/ace of clubs/001.jpg</td>\n",
       "      <td>clubs</td>\n",
       "    </tr>\n",
       "    <tr>\n",
       "      <th>1</th>\n",
       "      <td>Dataset/train/ace of clubs/002.jpg</td>\n",
       "      <td>clubs</td>\n",
       "    </tr>\n",
       "    <tr>\n",
       "      <th>2</th>\n",
       "      <td>Dataset/train/ace of clubs/003.jpg</td>\n",
       "      <td>clubs</td>\n",
       "    </tr>\n",
       "    <tr>\n",
       "      <th>3</th>\n",
       "      <td>Dataset/train/ace of clubs/004.jpg</td>\n",
       "      <td>clubs</td>\n",
       "    </tr>\n",
       "    <tr>\n",
       "      <th>4</th>\n",
       "      <td>Dataset/train/ace of clubs/005.jpg</td>\n",
       "      <td>clubs</td>\n",
       "    </tr>\n",
       "  </tbody>\n",
       "</table>\n",
       "</div>"
      ],
      "text/plain": [
       "                            filepaths   suit\n",
       "0  Dataset/train/ace of clubs/001.jpg  clubs\n",
       "1  Dataset/train/ace of clubs/002.jpg  clubs\n",
       "2  Dataset/train/ace of clubs/003.jpg  clubs\n",
       "3  Dataset/train/ace of clubs/004.jpg  clubs\n",
       "4  Dataset/train/ace of clubs/005.jpg  clubs"
      ]
     },
     "execution_count": 2,
     "metadata": {},
     "output_type": "execute_result"
    }
   ],
   "source": [
    "# Load the image paths and labels from the DataFrame\n",
    "df = pd.read_csv('Dataset/cards.csv')\n",
    "\n",
    "# For column names that contain space, replace the space with an underscore\n",
    "df.columns = [c.replace(' ', '_') for c in df.columns]\n",
    "\n",
    "# Add suits column\n",
    "df['suit'] = df['labels'].str.split().str[-1]\n",
    "\n",
    "# Remove rows with jokers\n",
    "df = df[~df['suit'].str.contains('joker', case=False)]\n",
    "\n",
    "# Remove unwanted columns\n",
    "df = df.drop(columns = ['data_set'])\n",
    "df = df.drop(columns = ['class_index'])\n",
    "df = df.drop(columns = ['labels'])\n",
    "df = df.drop(columns = ['card_type'])\n",
    "\n",
    "# Add folder name to the filepath\n",
    "df['filepaths'] = df['filepaths'].apply(lambda x: 'Dataset/' + x)\n",
    "df.head()"
   ]
  },
  {
   "cell_type": "code",
   "execution_count": 3,
   "id": "12e121b5",
   "metadata": {},
   "outputs": [],
   "source": [
    "# Split dataframe into train and test sets, stratified by the 'suit' column\n",
    "train_df, test_df = train_test_split(df, test_size=0.2, stratify=df['suit'], random_state=42)\n",
    "\n",
    "# Split train set into train and validation sets, stratified by the 'suit' column\n",
    "train_df, val_df = train_test_split(train_df, test_size=0.2, stratify=train_df['suit'], random_state=42)\n",
    "\n",
    "# Check class distribution in the train, validation, and test sets\n",
    "train_class_distribution = train_df['suit'].value_counts(normalize=True)\n",
    "val_class_distribution = val_df['suit'].value_counts(normalize=True)\n",
    "test_class_distribution = test_df['suit'].value_counts(normalize=True)"
   ]
  },
  {
   "cell_type": "code",
   "execution_count": 4,
   "id": "eb8bcf96",
   "metadata": {},
   "outputs": [],
   "source": [
    "train_df = train_df.reset_index(drop = True)\n",
    "val_df = val_df.reset_index(drop = True)"
   ]
  },
  {
   "cell_type": "code",
   "execution_count": 7,
   "id": "39ea8e64",
   "metadata": {},
   "outputs": [],
   "source": [
    "def detect_and_extract_keypoints(dataframe):\n",
    "    detector_and_extractor = SIFT(upsampling=2, \n",
    "                              n_octaves=10, \n",
    "                              n_scales=10, \n",
    "                              sigma_min=1.8, \n",
    "                              sigma_in=0.5, \n",
    "                              c_dog=0.01, \n",
    "                              c_edge=30, \n",
    "                              n_bins=36, \n",
    "                              lambda_ori=1.5, \n",
    "                              c_max=0.8, \n",
    "                              lambda_descr=6, \n",
    "                              n_hist=4, \n",
    "                              n_ori=8\n",
    "                             )\n",
    "    keypoint_images = []\n",
    "    keypoint_labels = []\n",
    "    keypoint_descript = []\n",
    "    keypoint_feat = []\n",
    "    keypoint_pixels = []\n",
    "\n",
    "    for i in range(len(dataframe)):\n",
    "        rgb_test_image = cv.imread(dataframe['filepaths'][i])\n",
    "        gray_test_image = rgb2gray(rgb_test_image)\n",
    "        normalised_image = cv.normalize(gray_test_image, \n",
    "                                            None, \n",
    "                                            alpha=0, \n",
    "                                            beta=1, \n",
    "                                            norm_type=cv.NORM_MINMAX\n",
    "                                           )\n",
    "\n",
    "        detector_and_extractor.detect_and_extract(normalised_image)\n",
    "        keypoint_features = detector_and_extractor.keypoints\n",
    "        keypoint_descriptors = detector_and_extractor.descriptors\n",
    "\n",
    "        if len(keypoint_features) > 0:\n",
    "            keypoint_feature_image = np.zeros(gray_test_image.shape)\n",
    "            key_pixels = []\n",
    "\n",
    "            for point in keypoint_features:\n",
    "                keypoint_feature_image[point[0], point[1]] = gray_test_image[point[0], point[1]]\n",
    "                key_pixel = gray_test_image[point[0], point[1]]\n",
    "                key_pixels.append(key_pixel)\n",
    "            \n",
    "            if i % 100 == 0:\n",
    "                print(i)\n",
    "            keypoint_pixels.append(key_pixels)\n",
    "            keypoint_images.append(keypoint_feature_image)\n",
    "            keypoint_labels.append(dataframe['suit'][i])\n",
    "            keypoint_descript.append(keypoint_descriptors)\n",
    "            keypoint_feat.append(keypoint_features)\n",
    "    \n",
    "    return keypoint_images, keypoint_labels, keypoint_descript, keypoint_feat, keypoint_pixels\n"
   ]
  },
  {
   "cell_type": "code",
   "execution_count": 8,
   "id": "48615562",
   "metadata": {},
   "outputs": [],
   "source": [
    "# def detect_and_extract_keypoints(dataframe):\n",
    "#     detector_and_extractor = SIFT(upsampling=2, \n",
    "#                               n_octaves=10, \n",
    "#                               n_scales=10, \n",
    "#                               sigma_min=1.8, \n",
    "#                               sigma_in=0.5, \n",
    "#                               c_dog=0.01, \n",
    "#                               c_edge=30, \n",
    "#                               n_bins=36, \n",
    "#                               lambda_ori=1.5, \n",
    "#                               c_max=0.8, \n",
    "#                               lambda_descr=6, \n",
    "#                               n_hist=4, \n",
    "#                               n_ori=8\n",
    "#                              )\n",
    "#     keypoint_images = []\n",
    "#     keypoint_labels = []\n",
    "#     keypoint_descript = []\n",
    "#     keypoint_feat = []\n",
    "#     keypoint_pixels = []\n",
    "\n",
    "#     for i in range(len(dataframe)):\n",
    "#         rgb_test_image = cv.imread(dataframe['filepaths'][i])\n",
    "#         gray_test_image = rgb2gray(rgb_test_image)\n",
    "\n",
    "#         detector_and_extractor.detect_and_extract(gray_test_image)\n",
    "#         keypoint_features = detector_and_extractor.keypoints\n",
    "#         keypoint_descriptors = detector_and_extractor.descriptors\n",
    "\n",
    "#         if len(keypoint_features) > 0:\n",
    "#             keypoint_feature_image = np.zeros(gray_test_image.shape)\n",
    "#             key_pixels = []\n",
    "\n",
    "#             for point in keypoint_features:\n",
    "#                 keypoint_feature_image[point[0], point[1]] = gray_test_image[point[0], point[1]]\n",
    "#                 key_pixel = gray_test_image[point[0], point[1]]\n",
    "#                 key_pixels.append(key_pixel)\n",
    "                \n",
    "#             normalised_image = cv.normalize(keypoint_feature_image, \n",
    "#                                             None, \n",
    "#                                             alpha=0, \n",
    "#                                             beta=1, \n",
    "#                                             norm_type=cv.NORM_MINMAX\n",
    "#                                            )\n",
    "            \n",
    "#             if i % 1000 == 0:\n",
    "#                 print(i)\n",
    "#             keypoint_pixels.append(key_pixels)\n",
    "#             keypoint_images.append(normalised_image)\n",
    "#             keypoint_labels.append(dataframe['suit'][i])\n",
    "#             keypoint_descript.append(keypoint_descriptors)\n",
    "#             keypoint_feat.append(keypoint_features)\n",
    "    \n",
    "#     return keypoint_images, keypoint_labels, keypoint_descript, keypoint_feat, keypoint_pixels\n"
   ]
  },
  {
   "cell_type": "code",
   "execution_count": 9,
   "id": "6f2bbbd8",
   "metadata": {},
   "outputs": [
    {
     "name": "stdout",
     "output_type": "stream",
     "text": [
      "0\n",
      "100\n",
      "200\n",
      "300\n",
      "400\n",
      "500\n",
      "600\n",
      "700\n",
      "800\n",
      "900\n",
      "1000\n",
      "1100\n",
      "1200\n",
      "1300\n",
      "1400\n",
      "1500\n",
      "1600\n",
      "1700\n",
      "1800\n",
      "1900\n",
      "2000\n",
      "2100\n",
      "2200\n",
      "2300\n",
      "2400\n",
      "2500\n",
      "2600\n",
      "2700\n",
      "2800\n",
      "2900\n",
      "3000\n",
      "3100\n",
      "3200\n",
      "3300\n",
      "3400\n",
      "3500\n",
      "3600\n",
      "3700\n",
      "3800\n",
      "3900\n",
      "4000\n",
      "4100\n",
      "4200\n",
      "4300\n",
      "4400\n",
      "4500\n",
      "4600\n",
      "4700\n",
      "4800\n",
      "4900\n",
      "5000\n",
      "5100\n",
      "0\n",
      "100\n",
      "200\n",
      "300\n",
      "400\n",
      "500\n",
      "600\n",
      "700\n",
      "800\n",
      "900\n",
      "1000\n",
      "1100\n",
      "1200\n"
     ]
    }
   ],
   "source": [
    "train_image, train_labels, train_descriptors, train_features, train_keypixels = detect_and_extract_keypoints(train_df)\n",
    "val_image, val_labels, val_descriptors, val_features, val_keypixels = detect_and_extract_keypoints(val_df)\n"
   ]
  },
  {
   "cell_type": "code",
   "execution_count": 10,
   "id": "3961ea9b",
   "metadata": {},
   "outputs": [
    {
     "name": "stdout",
     "output_type": "stream",
     "text": [
      "train image and label vector length: 5138, 5138\n",
      "validation image and label vector length: 1285, 1285\n"
     ]
    }
   ],
   "source": [
    "print(f'train image and label vector length: {len(train_labels)}, {len(train_image)}')\n",
    "print(f'validation image and label vector length: {len(val_labels)}, {len(val_image)}')"
   ]
  },
  {
   "cell_type": "code",
   "execution_count": 11,
   "id": "5937ebb0",
   "metadata": {},
   "outputs": [
    {
     "data": {
      "text/plain": [
       "<matplotlib.image.AxesImage at 0x3a5da2670>"
      ]
     },
     "execution_count": 11,
     "metadata": {},
     "output_type": "execute_result"
    },
    {
     "data": {
      "image/png": "[encoded data removed]",
      "text/plain": [
       "<Figure size 1000x500 with 2 Axes>"
      ]
     },
     "metadata": {},
     "output_type": "display_data"
    }
   ],
   "source": [
    "#display the feature vectors and compare to the original image\n",
    "train_image_test = cv.imread(train_df['filepaths'][0])\n",
    "figs, axes = plt.subplots(1,2, figsize=(10,5))\n",
    "axes[0].imshow(train_image[0], cmap = 'gray')\n",
    "axes[1].imshow(train_image_test, cmap = 'gray')"
   ]
  },
  {
   "cell_type": "code",
   "execution_count": 14,
   "id": "f41f76d5",
   "metadata": {},
   "outputs": [],
   "source": [
    "len_feat_vec = [len(feature) for feature in train_features]\n",
    "min_feat_len = np.min(len_feat_vec)\n",
    "\n",
    "X_train_feat_ = np.array([feat_vec[:min_feat_len] for feat_vec in train_keypixels])\n",
    "X_train_descript = np.array([feat_vec[:min_feat_len] for feat_vec in train_descriptors])\n",
    "\n",
    "X_val_feat = np.array([feat_vec[:min_feat_len] for feat_vec in val_keypixels])\n",
    "X_val_descript = np.array([feat_vec[:min_feat_len] for feat_vec in val_descriptors])\n"
   ]
  },
  {
   "cell_type": "code",
   "execution_count": 15,
   "id": "af1af360",
   "metadata": {},
   "outputs": [],
   "source": [
    "#encode the labels\n",
    "def encode_labels(labels):\n",
    "    label_encoder = preprocessing.LabelEncoder()\n",
    "    keypoint_labels_encoded = label_encoder.fit(labels)\n",
    "    encoded_labels_transformed = label_encoder.transform(labels)\n",
    "    return encoded_labels_transformed\n",
    "\n",
    "encoded_train_labels = encode_labels(train_labels)\n",
    "encoded_val_labels = encode_labels(val_labels)\n"
   ]
  },
  {
   "cell_type": "code",
   "execution_count": 16,
   "id": "e19b55bc",
   "metadata": {},
   "outputs": [],
   "source": [
    "#flattening images\n",
    "def flatten_images(image_dataset):\n",
    "    flattened_images = []\n",
    "\n",
    "    for image in image_dataset:\n",
    "        flat_image = np.ravel(image)\n",
    "        flattened_images.append(flat_image)\n",
    "        \n",
    "    return np.array(flattened_images)\n",
    "\n",
    "flat_train_descript = flatten_images(X_train_descript)\n",
    "flat_val_descript = flatten_images(X_val_descript)\n",
    "\n",
    "flattened_train_images = np.hstack((flat_train_descript, X_train_feat_))\n",
    "flattened_validation_images = np.hstack((flat_val_descript, X_val_feat))\n",
    "\n"
   ]
  },
  {
   "cell_type": "markdown",
   "id": "2888b932",
   "metadata": {},
   "source": [
    "# SVM Classification on Keypoint Features and Detectors"
   ]
  },
  {
   "cell_type": "code",
   "execution_count": 17,
   "id": "622aa1e2",
   "metadata": {},
   "outputs": [],
   "source": [
    "#SVM Classification\n",
    "\n",
    "def svm_classifier(X_train, Y_train, x_val, y_val, kernel_val, C_float):\n",
    "    \n",
    "    svm_classifier = Pipeline([\n",
    "        ('standardscaler', StandardScaler()),\n",
    "        ('svc', svm.SVC(gamma='auto', kernel = kernel_val, C = C_float))\n",
    "    ])\n",
    "\n",
    "    svm_classifier.fit(X_train, Y_train)\n",
    "    \n",
    "    #calculating the average accuracy\n",
    "    val_score = svm_classifier.score(x_val, y_val)\n",
    "    \n",
    "    #predicting labels of validation data\n",
    "    val_predict = svm_classifier.predict(x_val)\n",
    "    \n",
    "    #generating the confusion matrix\n",
    "    val_confusion_matrix = confusion_matrix(y_val, val_predict)\n",
    "\n",
    "    #displaying the confustion matrix\n",
    "    display_matrix = ConfusionMatrixDisplay(confusion_matrix = val_confusion_matrix,\n",
    "                                              display_labels = svm_classifier.classes_)\n",
    "    \n",
    "    return val_score, display_matrix\n"
   ]
  },
  {
   "cell_type": "code",
   "execution_count": 20,
   "id": "8a9f93a3",
   "metadata": {},
   "outputs": [
    {
     "name": "stdout",
     "output_type": "stream",
     "text": [
      "0.5159533073929962\n"
     ]
    },
    {
     "data": {
      "text/plain": [
       "<sklearn.metrics._plot.confusion_matrix.ConfusionMatrixDisplay at 0x1057d36a0>"
      ]
     },
     "execution_count": 20,
     "metadata": {},
     "output_type": "execute_result"
    },
    {
     "data": {
      "image/png": "[encoded data removed]",
      "text/plain": [
       "<Figure size 640x480 with 2 Axes>"
      ]
     },
     "metadata": {},
     "output_type": "display_data"
    }
   ],
   "source": [
    "#svm parameters c = 1, gamma = auto, kernel = rbf\n",
    "val_score_1, display_matrix_1 = svm_classifier(flattened_train_images, \n",
    "               encoded_train_labels, \n",
    "               flattened_validation_images, \n",
    "               encoded_val_labels, \n",
    "               'rbf', \n",
    "               4)\n",
    "\n",
    "print(val_score_1)\n",
    "display_matrix_1.plot()"
   ]
  },
  {
   "cell_type": "markdown",
   "id": "3b878748",
   "metadata": {},
   "source": [
    "# Linear Discriminant Analysis on Keyppoint Features and Descriptors"
   ]
  },
  {
   "cell_type": "code",
   "execution_count": 21,
   "id": "01165b41",
   "metadata": {},
   "outputs": [
    {
     "name": "stdout",
     "output_type": "stream",
     "text": [
      "Average accuracy: 0.3603112840466926\n"
     ]
    }
   ],
   "source": [
    "lda_classifier_svd = LinearDiscriminantAnalysis(solver = 'svd')\n",
    "lda_classifier_svd.fit(flattened_train_images, encoded_train_labels)\n",
    "\n",
    "#Evaluate the results\n",
    "lda_svd = lda_classifier_svd.score(flattened_validation_images, encoded_val_labels)\n",
    "print(f'Average accuracy: {lda_svd}')"
   ]
  },
  {
   "cell_type": "code",
   "execution_count": null,
   "id": "f1842dbe",
   "metadata": {},
   "outputs": [],
   "source": []
  }
 ],
 "metadata": {
  "kernelspec": {
   "display_name": "Python 3 (ipykernel)",
   "language": "python",
   "name": "python3"
  },
  "language_info": {
   "codemirror_mode": {
    "name": "ipython",
    "version": 3
   },
   "file_extension": ".py",
   "mimetype": "text/x-python",
   "name": "python",
   "nbconvert_exporter": "python",
   "pygments_lexer": "ipython3",
   "version": "3.9.15"
  }
 },
 "nbformat": 4,
 "nbformat_minor": 5
}
