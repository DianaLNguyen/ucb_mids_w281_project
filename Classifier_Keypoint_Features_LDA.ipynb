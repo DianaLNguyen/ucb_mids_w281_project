{
 "cells": [
  {
   "cell_type": "code",
   "execution_count": 1,
   "id": "9a490772",
   "metadata": {},
   "outputs": [],
   "source": [
    "import numpy as np\n",
    "import pandas as pd\n",
    "import matplotlib.pyplot as plt\n",
    "import cv2\n",
    "\n",
    "from skimage.feature import SIFT, match_descriptors\n",
    "from skimage.color import rgb2gray\n",
    "\n",
    "from tensorflow.keras.models import Sequential\n",
    "from tensorflow.keras.layers import Dense, Dropout\n",
    "from tensorflow.keras.optimizers import Adam\n",
    "from tensorflow.keras.utils import to_categorical\n",
    "from tensorflow.keras.preprocessing.image import load_img, img_to_array\n",
    "from tensorflow.keras.preprocessing.image import ImageDataGenerator\n",
    "\n",
    "from sklearn.model_selection import train_test_split\n",
    "from sklearn.metrics import classification_report\n",
    "from sklearn.metrics import precision_score, recall_score, f1_score\n",
    "from sklearn.decomposition import PCA\n",
    "from sklearn.preprocessing import StandardScaler\n",
    "from sklearn import svm\n",
    "from sklearn.metrics import accuracy_score, confusion_matrix, ConfusionMatrixDisplay\n",
    "from sklearn import preprocessing\n",
    "from sklearn.pipeline import make_pipeline, Pipeline\n",
    "from sklearn.discriminant_analysis import LinearDiscriminantAnalysis\n",
    "from sklearn.model_selection import GridSearchCV\n",
    "\n",
    "import warnings\n",
    "warnings.filterwarnings('ignore')"
   ]
  },
  {
   "cell_type": "code",
   "execution_count": 2,
   "id": "5e182741",
   "metadata": {},
   "outputs": [
    {
     "data": {
      "text/html": [
       "<div>\n",
       "<style scoped>\n",
       "    .dataframe tbody tr th:only-of-type {\n",
       "        vertical-align: middle;\n",
       "    }\n",
       "\n",
       "    .dataframe tbody tr th {\n",
       "        vertical-align: top;\n",
       "    }\n",
       "\n",
       "    .dataframe thead th {\n",
       "        text-align: right;\n",
       "    }\n",
       "</style>\n",
       "<table border=\"1\" class=\"dataframe\">\n",
       "  <thead>\n",
       "    <tr style=\"text-align: right;\">\n",
       "      <th></th>\n",
       "      <th>filepaths</th>\n",
       "      <th>suit</th>\n",
       "    </tr>\n",
       "  </thead>\n",
       "  <tbody>\n",
       "    <tr>\n",
       "      <th>0</th>\n",
       "      <td>Dataset/train/ace of clubs/001.jpg</td>\n",
       "      <td>clubs</td>\n",
       "    </tr>\n",
       "    <tr>\n",
       "      <th>1</th>\n",
       "      <td>Dataset/train/ace of clubs/002.jpg</td>\n",
       "      <td>clubs</td>\n",
       "    </tr>\n",
       "    <tr>\n",
       "      <th>2</th>\n",
       "      <td>Dataset/train/ace of clubs/003.jpg</td>\n",
       "      <td>clubs</td>\n",
       "    </tr>\n",
       "    <tr>\n",
       "      <th>3</th>\n",
       "      <td>Dataset/train/ace of clubs/004.jpg</td>\n",
       "      <td>clubs</td>\n",
       "    </tr>\n",
       "    <tr>\n",
       "      <th>4</th>\n",
       "      <td>Dataset/train/ace of clubs/005.jpg</td>\n",
       "      <td>clubs</td>\n",
       "    </tr>\n",
       "  </tbody>\n",
       "</table>\n",
       "</div>"
      ],
      "text/plain": [
       "                            filepaths   suit\n",
       "0  Dataset/train/ace of clubs/001.jpg  clubs\n",
       "1  Dataset/train/ace of clubs/002.jpg  clubs\n",
       "2  Dataset/train/ace of clubs/003.jpg  clubs\n",
       "3  Dataset/train/ace of clubs/004.jpg  clubs\n",
       "4  Dataset/train/ace of clubs/005.jpg  clubs"
      ]
     },
     "execution_count": 2,
     "metadata": {},
     "output_type": "execute_result"
    }
   ],
   "source": [
    "# Load the image paths and labels from the DataFrame\n",
    "df = pd.read_csv('Dataset/cards.csv')\n",
    "\n",
    "# For column names that contain space, replace the space with an underscore\n",
    "df.columns = [c.replace(' ', '_') for c in df.columns]\n",
    "\n",
    "# Add suits column\n",
    "df['suit'] = df['labels'].str.split().str[-1]\n",
    "\n",
    "# Remove rows with jokers\n",
    "df = df[~df['suit'].str.contains('joker', case=False)]\n",
    "\n",
    "# Remove unwanted columns\n",
    "df = df.drop(columns = ['data_set'])\n",
    "df = df.drop(columns = ['class_index'])\n",
    "df = df.drop(columns = ['labels'])\n",
    "df = df.drop(columns = ['card_type'])\n",
    "\n",
    "# Add folder name to the filepath\n",
    "df['filepaths'] = df['filepaths'].apply(lambda x: 'Dataset/' + x)\n",
    "df.head()"
   ]
  },
  {
   "cell_type": "code",
   "execution_count": 3,
   "id": "12e121b5",
   "metadata": {},
   "outputs": [],
   "source": [
    "# Split dataframe into train and test sets, stratified by the 'suit' column\n",
    "train_df, test_df = train_test_split(df, test_size=0.2, stratify=df['suit'], random_state=42)\n",
    "\n",
    "# Split train set into train and validation sets, stratified by the 'suit' column\n",
    "train_df, val_df = train_test_split(train_df, test_size=0.2, stratify=train_df['suit'], random_state=42)\n",
    "\n",
    "# Check class distribution in the train, validation, and test sets\n",
    "train_class_distribution = train_df['suit'].value_counts(normalize=True)\n",
    "val_class_distribution = val_df['suit'].value_counts(normalize=True)\n",
    "test_class_distribution = test_df['suit'].value_counts(normalize=True)"
   ]
  },
  {
   "cell_type": "code",
   "execution_count": 4,
   "id": "e7adf646",
   "metadata": {},
   "outputs": [
    {
     "name": "stdout",
     "output_type": "stream",
     "text": [
      "Found 5138 validated image filenames belonging to 4 classes.\n",
      "Found 1285 validated image filenames belonging to 4 classes.\n",
      "Found 1606 validated image filenames belonging to 4 classes.\n"
     ]
    }
   ],
   "source": [
    "# Initialize data generator class\n",
    "\n",
    "train_data_generator = ImageDataGenerator(\n",
    "    rescale = 1/255.0,\n",
    "    rotation_range= 45,\n",
    "    zoom_range= 0.2,\n",
    "    width_shift_range = 0.2,\n",
    "    height_shift_range = 0.2,\n",
    "    shear_range= 0.2,\n",
    "    horizontal_flip=True,\n",
    "    vertical_flip=True\n",
    ")\n",
    "\n",
    "test_data_generator = ImageDataGenerator(rescale = 1/255.0)\n",
    "\n",
    "# Create data generators for train, validation, and test\n",
    "batch_size = 32\n",
    "\n",
    "train_generator = train_data_generator.flow_from_dataframe(\n",
    "    dataframe = train_df,\n",
    "    x_col = 'filepaths',\n",
    "    y_col = 'suit',\n",
    "    target_size = (224,224),\n",
    "    batch_size = batch_size,\n",
    "    class_mode = 'categorical'\n",
    ")\n",
    "\n",
    "valid_generator = train_data_generator.flow_from_dataframe(\n",
    "    dataframe = val_df,\n",
    "    x_col = 'filepaths',\n",
    "    y_col = 'suit',\n",
    "    target_size = (224,224),\n",
    "    batch_size = batch_size,\n",
    "    class_mode = 'categorical'\n",
    ")\n",
    "\n",
    "\n",
    "test_generator = test_data_generator.flow_from_dataframe(\n",
    "    dataframe = test_df,\n",
    "    x_col = 'filepaths',\n",
    "    y_col = 'suit',\n",
    "    target_size = (224,224),\n",
    "    batch_size = batch_size,\n",
    "    class_mode = 'categorical',\n",
    "    shuffle = False,\n",
    ")\n"
   ]
  },
  {
   "cell_type": "code",
   "execution_count": 5,
   "id": "e1e93f7e",
   "metadata": {},
   "outputs": [],
   "source": [
    "# Load and preprocess the images\n",
    "def load_and_preprocess_image(filepath):\n",
    "    image = cv2.imread(filepath)\n",
    "    image = cv2.cvtColor(image, cv2.COLOR_BGR2RGB)\n",
    "    image = cv2.resize(image, (224, 224))\n",
    "    return image\n",
    "\n",
    "# Convert to image to grayscale\n",
    "def convert_to_grayscale(images):\n",
    "    gray_images = np.array([cv2.cvtColor(img, cv2.COLOR_RGB2GRAY) for img in images])\n",
    "    gray_images = gray_images.astype(np.uint8)\n",
    "    return gray_images"
   ]
  },
  {
   "cell_type": "code",
   "execution_count": 6,
   "id": "eb8bcf96",
   "metadata": {},
   "outputs": [],
   "source": [
    "# Extract Keypoint Features and Descriptors\n",
    "def detect_and_extract_keypoints(images):\n",
    "    # Initialise SIFT \n",
    "    detector_and_extractor = SIFT(upsampling=2, \n",
    "                              n_octaves=15, \n",
    "                              n_scales=10, \n",
    "                              sigma_min=1.2, \n",
    "                              sigma_in=0.5, \n",
    "                              c_dog=0.01, \n",
    "                              c_edge=20, \n",
    "                              n_bins=36, \n",
    "                              lambda_ori=1.5, \n",
    "                              c_max=0.8, \n",
    "                              lambda_descr=6, \n",
    "                              n_hist=4, \n",
    "                              n_ori=8\n",
    "                             )\n",
    "\n",
    "    keypoint_descriptors = []\n",
    "    keypoint_features = []\n",
    "    keypoint_pixels = []\n",
    "\n",
    "    for image in images:\n",
    "        # Detect and extract keypoint features and descriptors\n",
    "        detector_and_extractor.detect_and_extract(image)\n",
    "        key_features = detector_and_extractor.keypoints\n",
    "        key_descriptors = detector_and_extractor.descriptors\n",
    "\n",
    "        if len(key_features) > 0:\n",
    "            key_pixels = []\n",
    "\n",
    "            for point in key_features:\n",
    "                key_pixel = image[point[0], point[1]]\n",
    "                key_pixel = key_pixel/255\n",
    "                key_pixels.append(key_pixel)\n",
    "        \n",
    "            keypoint_pixels.append(key_pixels)\n",
    "            keypoint_descriptors.append(key_descriptors)\n",
    "            keypoint_features.append(key_features)\n",
    "\n",
    "    # Setting the minimum number of features detected in an image\n",
    "    min_feature_vec_len = 103\n",
    "\n",
    "    # Slicing all the features, descriptors and pixels to the same length\n",
    "    sliced_keypoint_feactures = np.array([feat_vec[:min_feature_vec_len] for feat_vec in keypoint_features])\n",
    "    sliced_keypoint_descriptor = np.array([feat_vec[:min_feature_vec_len] for feat_vec in keypoint_descriptors])\n",
    "    sliced_keypoint_pixels = np.array([feat_vec[:min_feature_vec_len] for feat_vec in keypoint_pixels])\n",
    "    return sliced_keypoint_feactures, sliced_keypoint_descriptor, sliced_keypoint_pixels\n",
    "\n",
    "# Flatten the feature vectors\n",
    "def flatten_images(image_dataset):\n",
    "    flattened_images = []\n",
    "\n",
    "    for image in image_dataset:\n",
    "        image = image/255\n",
    "        flat_image = np.ravel(image)\n",
    "        flattened_images.append(flat_image)\n",
    "        \n",
    "    return np.array(flattened_images)\n",
    "\n"
   ]
  },
  {
   "cell_type": "code",
   "execution_count": 7,
   "id": "39fd57f3",
   "metadata": {},
   "outputs": [],
   "source": [
    "# Load data from the generators\n",
    "train_images = np.array([load_and_preprocess_image(train_generator.filepaths[i]) for i in range(len(train_generator.filenames))])\n",
    "valid_images = np.array([load_and_preprocess_image(valid_generator.filepaths[j]) for j in range(len(valid_generator.filenames))])\n",
    "test_images = np.array([load_and_preprocess_image(test_generator.filepaths[k]) for k in range(len(test_generator.filenames))])\n",
    "\n",
    "# Convert to grayscale\n",
    "train_gray_images = convert_to_grayscale(train_images)\n",
    "valid_gray_images = convert_to_grayscale(valid_images)\n",
    "test_gray_images = convert_to_grayscale(test_images)\n",
    "\n",
    "# Extract Keypoint Feature Pixels\n",
    "train_keypoint_pixels = detect_and_extract_keypoints(train_gray_images)\n",
    "valid_keypoint_pixels = detect_and_extract_keypoints(valid_gray_images)\n",
    "test_keypoint_pixels = detect_and_extract_keypoints(test_gray_images)\n",
    "\n",
    "# Flatten the descriptor files\n",
    "train_flat_descriptors = flatten_images(train_keypoint_pixels[1])\n",
    "val_flat_descriptors = flatten_images(valid_keypoint_pixels[1])\n",
    "test_flat_descriptors = flatten_images(test_keypoint_pixels[1])\n",
    "\n",
    "# Create the Feature vector\n",
    "flattened_train_images = np.hstack((train_flat_descriptors, train_keypoint_pixels[2]))\n",
    "flattened_validation_images = np.hstack((val_flat_descriptors, valid_keypoint_pixels[2]))\n",
    "flattened_test_images = np.hstack((test_flat_descriptors, test_keypoint_pixels[2]))\n",
    "\n",
    "# # Convert labels to arrays and one-hot encode\n",
    "# train_labels = to_categorical(train_generator.labels, num_classes=4)\n",
    "# valid_labels = to_categorical(valid_generator.labels, num_classes=4)\n",
    "# test_labels = to_categorical(test_generator.labels, num_classes=4)\n"
   ]
  },
  {
   "cell_type": "code",
   "execution_count": 10,
   "id": "3f3ee5b4",
   "metadata": {},
   "outputs": [],
   "source": [
    "train_labels = np.array(train_generator.labels)\n",
    "valid_labels = np.array(valid_generator.labels)\n",
    "test_labels = np.array(test_generator.labels)"
   ]
  },
  {
   "cell_type": "code",
   "execution_count": 11,
   "id": "3961ea9b",
   "metadata": {},
   "outputs": [
    {
     "name": "stdout",
     "output_type": "stream",
     "text": [
      "train image and label vector length: 5138, 5138\n",
      "validation image and label vector length: 1285, 1285\n",
      "test image and label vector length: 1606, 1606\n"
     ]
    }
   ],
   "source": [
    "print(f'train image and label vector length: {len(train_labels)}, {len(flattened_train_images)}')\n",
    "print(f'validation image and label vector length: {len(valid_labels)}, {len(flattened_validation_images)}')\n",
    "print(f'test image and label vector length: {len(test_labels)}, {len(flattened_test_images)}')"
   ]
  },
  {
   "cell_type": "markdown",
   "id": "3b878748",
   "metadata": {},
   "source": [
    "# Linear Discriminant Analysis on Keyppoint Features and Descriptors"
   ]
  },
  {
   "cell_type": "code",
   "execution_count": 13,
   "id": "d9b1751d",
   "metadata": {},
   "outputs": [
    {
     "name": "stdout",
     "output_type": "stream",
     "text": [
      "Best parameter (CV score=0.331):\n",
      "{'lda__n_components': 1, 'lda__solver': 'svd'}\n"
     ]
    }
   ],
   "source": [
    "# HyperParameter Tuning\n",
    "\n",
    "param_grid = {'lda__solver': ['svd'], \n",
    "              'lda__n_components': [1,2,3,4]} \n",
    "\n",
    "lda_pipe = Pipeline([\n",
    "    ('standardscaler', StandardScaler()),\n",
    "    ('lda', LinearDiscriminantAnalysis())\n",
    "])\n",
    "\n",
    "lda_grid_search = GridSearchCV(lda_pipe, param_grid, cv = 5)\n",
    "lda_grid_search.fit(flattened_train_images, train_labels)\n",
    "\n",
    "print(\"Best parameter (CV score=%0.3f):\" % lda_grid_search.best_score_)\n",
    "print(lda_grid_search.best_params_)"
   ]
  },
  {
   "cell_type": "code",
   "execution_count": null,
   "id": "03e8d8cf",
   "metadata": {},
   "outputs": [],
   "source": []
  },
  {
   "cell_type": "code",
   "execution_count": 18,
   "id": "01165b41",
   "metadata": {},
   "outputs": [
    {
     "data": {
      "text/html": [
       "<style>#sk-container-id-2 {color: black;background-color: white;}#sk-container-id-2 pre{padding: 0;}#sk-container-id-2 div.sk-toggleable {background-color: white;}#sk-container-id-2 label.sk-toggleable__label {cursor: pointer;display: block;width: 100%;margin-bottom: 0;padding: 0.3em;box-sizing: border-box;text-align: center;}#sk-container-id-2 label.sk-toggleable__label-arrow:before {content: \"▸\";float: left;margin-right: 0.25em;color: #696969;}#sk-container-id-2 label.sk-toggleable__label-arrow:hover:before {color: black;}#sk-container-id-2 div.sk-estimator:hover label.sk-toggleable__label-arrow:before {color: black;}#sk-container-id-2 div.sk-toggleable__content {max-height: 0;max-width: 0;overflow: hidden;text-align: left;background-color: #f0f8ff;}#sk-container-id-2 div.sk-toggleable__content pre {margin: 0.2em;color: black;border-radius: 0.25em;background-color: #f0f8ff;}#sk-container-id-2 input.sk-toggleable__control:checked~div.sk-toggleable__content {max-height: 200px;max-width: 100%;overflow: auto;}#sk-container-id-2 input.sk-toggleable__control:checked~label.sk-toggleable__label-arrow:before {content: \"▾\";}#sk-container-id-2 div.sk-estimator input.sk-toggleable__control:checked~label.sk-toggleable__label {background-color: #d4ebff;}#sk-container-id-2 div.sk-label input.sk-toggleable__control:checked~label.sk-toggleable__label {background-color: #d4ebff;}#sk-container-id-2 input.sk-hidden--visually {border: 0;clip: rect(1px 1px 1px 1px);clip: rect(1px, 1px, 1px, 1px);height: 1px;margin: -1px;overflow: hidden;padding: 0;position: absolute;width: 1px;}#sk-container-id-2 div.sk-estimator {font-family: monospace;background-color: #f0f8ff;border: 1px dotted black;border-radius: 0.25em;box-sizing: border-box;margin-bottom: 0.5em;}#sk-container-id-2 div.sk-estimator:hover {background-color: #d4ebff;}#sk-container-id-2 div.sk-parallel-item::after {content: \"\";width: 100%;border-bottom: 1px solid gray;flex-grow: 1;}#sk-container-id-2 div.sk-label:hover label.sk-toggleable__label {background-color: #d4ebff;}#sk-container-id-2 div.sk-serial::before {content: \"\";position: absolute;border-left: 1px solid gray;box-sizing: border-box;top: 0;bottom: 0;left: 50%;z-index: 0;}#sk-container-id-2 div.sk-serial {display: flex;flex-direction: column;align-items: center;background-color: white;padding-right: 0.2em;padding-left: 0.2em;position: relative;}#sk-container-id-2 div.sk-item {position: relative;z-index: 1;}#sk-container-id-2 div.sk-parallel {display: flex;align-items: stretch;justify-content: center;background-color: white;position: relative;}#sk-container-id-2 div.sk-item::before, #sk-container-id-2 div.sk-parallel-item::before {content: \"\";position: absolute;border-left: 1px solid gray;box-sizing: border-box;top: 0;bottom: 0;left: 50%;z-index: -1;}#sk-container-id-2 div.sk-parallel-item {display: flex;flex-direction: column;z-index: 1;position: relative;background-color: white;}#sk-container-id-2 div.sk-parallel-item:first-child::after {align-self: flex-end;width: 50%;}#sk-container-id-2 div.sk-parallel-item:last-child::after {align-self: flex-start;width: 50%;}#sk-container-id-2 div.sk-parallel-item:only-child::after {width: 0;}#sk-container-id-2 div.sk-dashed-wrapped {border: 1px dashed gray;margin: 0 0.4em 0.5em 0.4em;box-sizing: border-box;padding-bottom: 0.4em;background-color: white;}#sk-container-id-2 div.sk-label label {font-family: monospace;font-weight: bold;display: inline-block;line-height: 1.2em;}#sk-container-id-2 div.sk-label-container {text-align: center;}#sk-container-id-2 div.sk-container {/* jupyter's `normalize.less` sets `[hidden] { display: none; }` but bootstrap.min.css set `[hidden] { display: none !important; }` so we also need the `!important` here to be able to override the default hidden behavior on the sphinx rendered scikit-learn.org. See: https://github.com/scikit-learn/scikit-learn/issues/21755 */display: inline-block !important;position: relative;}#sk-container-id-2 div.sk-text-repr-fallback {display: none;}</style><div id=\"sk-container-id-2\" class=\"sk-top-container\"><div class=\"sk-text-repr-fallback\"><pre>LinearDiscriminantAnalysis()</pre><b>In a Jupyter environment, please rerun this cell to show the HTML representation or trust the notebook. <br />On GitHub, the HTML representation is unable to render, please try loading this page with nbviewer.org.</b></div><div class=\"sk-container\" hidden><div class=\"sk-item\"><div class=\"sk-estimator sk-toggleable\"><input class=\"sk-toggleable__control sk-hidden--visually\" id=\"sk-estimator-id-2\" type=\"checkbox\" checked><label for=\"sk-estimator-id-2\" class=\"sk-toggleable__label sk-toggleable__label-arrow\">LinearDiscriminantAnalysis</label><div class=\"sk-toggleable__content\"><pre>LinearDiscriminantAnalysis()</pre></div></div></div></div></div>"
      ],
      "text/plain": [
       "LinearDiscriminantAnalysis()"
      ]
     },
     "execution_count": 18,
     "metadata": {},
     "output_type": "execute_result"
    }
   ],
   "source": [
    "# Linear Discriminant Analysis\n",
    "\n",
    "lda_classifier_svd = LinearDiscriminantAnalysis(solver = 'svd')\n",
    "lda_classifier_svd.fit(flattened_train_images, train_labels)"
   ]
  },
  {
   "cell_type": "code",
   "execution_count": 19,
   "id": "f1842dbe",
   "metadata": {},
   "outputs": [
    {
     "name": "stdout",
     "output_type": "stream",
     "text": [
      "Validation Average accuracy: 0.2933852140077821\n"
     ]
    },
    {
     "data": {
      "image/png": "[encoded data removed]",
      "text/plain": [
       "<Figure size 640x480 with 2 Axes>"
      ]
     },
     "metadata": {},
     "output_type": "display_data"
    }
   ],
   "source": [
    "class_names = ['clubs', 'diamonds', 'hearts', 'spades']\n",
    "\n",
    "# Evaluate the results\n",
    "lda_val_svd = lda_classifier_svd.score(flattened_validation_images, valid_labels)\n",
    "print(f'Validation Average accuracy: {lda_val_svd}')\n",
    "\n",
    "# Predicting labels of validation data\n",
    "lda_val_predict = lda_classifier_svd.predict(flattened_validation_images)\n",
    "\n",
    "# Generating the confusion matrix\n",
    "lda_val_confusion_matrix = confusion_matrix(valid_labels, lda_val_predict)\n",
    "\n",
    "# Displaying the confusion matrix for the validation dataset\n",
    "lda_val_display_matrix = ConfusionMatrixDisplay(confusion_matrix = lda_val_confusion_matrix,\n",
    "                                      display_labels = class_names)\n",
    "\n",
    "lda_val_display_matrix.plot()\n",
    "plt.show()"
   ]
  },
  {
   "cell_type": "code",
   "execution_count": 20,
   "id": "2c938592",
   "metadata": {},
   "outputs": [
    {
     "name": "stdout",
     "output_type": "stream",
     "text": [
      "Test Average accuracy: 0.29140722291407223\n"
     ]
    },
    {
     "data": {
      "image/png": "[encoded data removed]",
      "text/plain": [
       "<Figure size 640x480 with 2 Axes>"
      ]
     },
     "metadata": {},
     "output_type": "display_data"
    }
   ],
   "source": [
    "# Evaluate the results\n",
    "lda_test_svd = lda_classifier_svd.score(flattened_test_images, test_labels)\n",
    "print(f'Test Average accuracy: {lda_test_svd}')\n",
    "\n",
    "# Predicting labels of test data\n",
    "lda_test_predict = lda_classifier_svd.predict(flattened_test_images)\n",
    "\n",
    "# Generating the confusion matrix for the test dataset\n",
    "lda_test_confusion_matrix = confusion_matrix(test_labels, lda_test_predict)\n",
    "\n",
    "# Displaying the confusion matrix for the test dataset\n",
    "lda_test_display_matrix = ConfusionMatrixDisplay(confusion_matrix = lda_test_confusion_matrix,\n",
    "                                      display_labels = class_names)\n",
    "\n",
    "lda_test_display_matrix.plot()\n",
    "plt.show()"
   ]
  },
  {
   "cell_type": "code",
   "execution_count": null,
   "id": "c7ec0def",
   "metadata": {},
   "outputs": [],
   "source": []
  }
 ],
 "metadata": {
  "kernelspec": {
   "display_name": "Python 3 (ipykernel)",
   "language": "python",
   "name": "python3"
  },
  "language_info": {
   "codemirror_mode": {
    "name": "ipython",
    "version": 3
   },
   "file_extension": ".py",
   "mimetype": "text/x-python",
   "name": "python",
   "nbconvert_exporter": "python",
   "pygments_lexer": "ipython3",
   "version": "3.9.15"
  }
 },
 "nbformat": 4,
 "nbformat_minor": 5
}
