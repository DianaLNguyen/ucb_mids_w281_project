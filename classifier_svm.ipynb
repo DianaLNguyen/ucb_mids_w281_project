{
 "cells": [
  {
   "cell_type": "code",
   "execution_count": 65,
   "id": "048c5e7c",
   "metadata": {},
   "outputs": [],
   "source": [
    "import pandas as pd\n",
    "import numpy as np\n",
    "import cv2\n",
    "import tensorflow as tf\n",
    "import matplotlib.pyplot as plt\n",
    "import matplotlib.patches as patches\n",
    "from skimage.feature import hog\n",
    "from skimage import exposure\n",
    "from tensorflow.keras.preprocessing.image import load_img, img_to_array\n",
    "from tensorflow.keras.preprocessing.image import ImageDataGenerator\n",
    "\n",
    "from skimage import exposure\n",
    "from skimage import color\n",
    "from skimage.filters import threshold_otsu\n",
    "from skimage.morphology import binary_erosion\n",
    "from skimage.measure import regionprops, find_contours\n",
    "from tensorflow.keras.preprocessing.image import load_img, img_to_array\n",
    "\n",
    "from sklearn.model_selection import train_test_split\n",
    "from sklearn.metrics import classification_report\n",
    "from sklearn.metrics import precision_score, recall_score, f1_score\n",
    "from sklearn.decomposition import PCA\n",
    "from sklearn.preprocessing import StandardScaler\n",
    "\n",
    "from sklearn.svm import SVC\n",
    "from sklearn.metrics import accuracy_score\n",
    "\n",
    "from utils import *\n",
    "from feature_util import *\n",
    "\n",
    "\n",
    "\n"
   ]
  },
  {
   "cell_type": "code",
   "execution_count": 3,
   "id": "8cda539c",
   "metadata": {},
   "outputs": [
    {
     "data": {
      "text/html": [
       "<div>\n",
       "<style scoped>\n",
       "    .dataframe tbody tr th:only-of-type {\n",
       "        vertical-align: middle;\n",
       "    }\n",
       "\n",
       "    .dataframe tbody tr th {\n",
       "        vertical-align: top;\n",
       "    }\n",
       "\n",
       "    .dataframe thead th {\n",
       "        text-align: right;\n",
       "    }\n",
       "</style>\n",
       "<table border=\"1\" class=\"dataframe\">\n",
       "  <thead>\n",
       "    <tr style=\"text-align: right;\">\n",
       "      <th></th>\n",
       "      <th>filepaths</th>\n",
       "      <th>suit</th>\n",
       "    </tr>\n",
       "  </thead>\n",
       "  <tbody>\n",
       "    <tr>\n",
       "      <th>0</th>\n",
       "      <td>Dataset/train/ace of clubs/001.jpg</td>\n",
       "      <td>clubs</td>\n",
       "    </tr>\n",
       "    <tr>\n",
       "      <th>1</th>\n",
       "      <td>Dataset/train/ace of clubs/002.jpg</td>\n",
       "      <td>clubs</td>\n",
       "    </tr>\n",
       "    <tr>\n",
       "      <th>2</th>\n",
       "      <td>Dataset/train/ace of clubs/003.jpg</td>\n",
       "      <td>clubs</td>\n",
       "    </tr>\n",
       "    <tr>\n",
       "      <th>3</th>\n",
       "      <td>Dataset/train/ace of clubs/004.jpg</td>\n",
       "      <td>clubs</td>\n",
       "    </tr>\n",
       "    <tr>\n",
       "      <th>4</th>\n",
       "      <td>Dataset/train/ace of clubs/005.jpg</td>\n",
       "      <td>clubs</td>\n",
       "    </tr>\n",
       "  </tbody>\n",
       "</table>\n",
       "</div>"
      ],
      "text/plain": [
       "                            filepaths   suit\n",
       "0  Dataset/train/ace of clubs/001.jpg  clubs\n",
       "1  Dataset/train/ace of clubs/002.jpg  clubs\n",
       "2  Dataset/train/ace of clubs/003.jpg  clubs\n",
       "3  Dataset/train/ace of clubs/004.jpg  clubs\n",
       "4  Dataset/train/ace of clubs/005.jpg  clubs"
      ]
     },
     "execution_count": 3,
     "metadata": {},
     "output_type": "execute_result"
    }
   ],
   "source": [
    "# Load the image paths and labels from the DataFrame\n",
    "df = pd.read_csv('Dataset/cards.csv')\n",
    "\n",
    "# For column names that contain space, replace the space with an underscore\n",
    "df.columns = [c.replace(' ', '_') for c in df.columns]\n",
    "\n",
    "# Add suits column\n",
    "df['suit'] = df['labels'].str.split().str[-1]\n",
    "\n",
    "# Remove rows with jokers\n",
    "df = df[~df['suit'].str.contains('joker', case=False)]\n",
    "\n",
    "# Remove unwanted columns\n",
    "df = df.drop(columns = ['data_set'])\n",
    "df = df.drop(columns = ['class_index'])\n",
    "df = df.drop(columns = ['labels'])\n",
    "df = df.drop(columns = ['card_type'])\n",
    "\n",
    "# Add folder name to the filepath\n",
    "df['filepaths'] = df['filepaths'].apply(lambda x: 'Dataset/' + x)\n",
    "df.head()"
   ]
  },
  {
   "cell_type": "code",
   "execution_count": 4,
   "id": "2fabeb0a",
   "metadata": {},
   "outputs": [
    {
     "name": "stdout",
     "output_type": "stream",
     "text": [
      "Train Set - Class Distribution:\n",
      "spades      0.269171\n",
      "hearts      0.246010\n",
      "diamonds    0.243675\n",
      "clubs       0.241144\n",
      "Name: suit, dtype: float64\n",
      "Validation Set - Class Distribution:\n",
      "spades      0.269261\n",
      "hearts      0.245914\n",
      "diamonds    0.243580\n",
      "clubs       0.241245\n",
      "Name: suit, dtype: float64\n",
      "Test Set - Class Distribution:\n",
      "spades      0.268991\n",
      "hearts      0.245953\n",
      "diamonds    0.244085\n",
      "clubs       0.240971\n",
      "Name: suit, dtype: float64\n"
     ]
    }
   ],
   "source": [
    "# Split dataframe into train and test sets, stratified by the 'suit' column\n",
    "train_df, test_df = train_test_split(df, test_size=0.2, stratify=df['suit'], random_state=42)\n",
    "\n",
    "# Split train set into train and validation sets, stratified by the 'suit' column\n",
    "train_df, val_df = train_test_split(train_df, test_size=0.2, stratify=train_df['suit'], random_state=42)\n",
    "\n",
    "# Check class distribution in the train, validation, and test sets\n",
    "train_class_distribution = train_df['suit'].value_counts(normalize=True)\n",
    "val_class_distribution = val_df['suit'].value_counts(normalize=True)\n",
    "test_class_distribution = test_df['suit'].value_counts(normalize=True)\n",
    "\n",
    "print(\"Train Set - Class Distribution:\")\n",
    "print(train_class_distribution)\n",
    "\n",
    "print(\"Validation Set - Class Distribution:\")\n",
    "print(val_class_distribution)\n",
    "\n",
    "print(\"Test Set - Class Distribution:\")\n",
    "print(test_class_distribution)"
   ]
  },
  {
   "cell_type": "markdown",
   "id": "2b360a9b",
   "metadata": {},
   "source": [
    "## Augment Images"
   ]
  },
  {
   "cell_type": "code",
   "execution_count": 5,
   "id": "2dd1b9bc",
   "metadata": {},
   "outputs": [
    {
     "name": "stdout",
     "output_type": "stream",
     "text": [
      "Found 5138 validated image filenames belonging to 4 classes.\n",
      "Found 1285 validated image filenames belonging to 4 classes.\n",
      "Found 1606 validated image filenames belonging to 4 classes.\n"
     ]
    }
   ],
   "source": [
    "# Initialize data generator class\n",
    "\n",
    "train_data_generator = ImageDataGenerator(\n",
    "    rescale = 1/255.0,\n",
    "    rotation_range= 45,\n",
    "    zoom_range= 0.2,\n",
    "    width_shift_range = 0.2,\n",
    "    height_shift_range = 0.2,\n",
    "    shear_range= 0.2,\n",
    "    horizontal_flip=True,\n",
    "    vertical_flip=True\n",
    ")\n",
    "\n",
    "test_data_generator = ImageDataGenerator(rescale = 1/255.0)\n",
    "\n",
    "# Create data generators for train, validation, and test\n",
    "batch_size = 32\n",
    "\n",
    "train_generator = train_data_generator.flow_from_dataframe(\n",
    "    dataframe = train_df,\n",
    "    x_col = 'filepaths',\n",
    "    y_col = 'suit',\n",
    "    target_size = (224,224),\n",
    "    batch_size = batch_size,\n",
    "    class_mode = 'categorical'\n",
    ")\n",
    "\n",
    "valid_generator = train_data_generator.flow_from_dataframe(\n",
    "    dataframe = val_df,\n",
    "    x_col = 'filepaths',\n",
    "    y_col = 'suit',\n",
    "    target_size = (224,224),\n",
    "    batch_size = batch_size,\n",
    "    class_mode = 'categorical'\n",
    ")\n",
    "\n",
    "\n",
    "test_generator = test_data_generator.flow_from_dataframe(\n",
    "    dataframe = test_df,\n",
    "    x_col = 'filepaths',\n",
    "    y_col = 'suit',\n",
    "    target_size = (224,224),\n",
    "    batch_size = batch_size,\n",
    "    class_mode = 'categorical',\n",
    "    shuffle = False,\n",
    ")\n"
   ]
  },
  {
   "cell_type": "code",
   "execution_count": 6,
   "id": "617f8f99",
   "metadata": {},
   "outputs": [],
   "source": [
    "\n",
    "def image_rgb(image_path):\n",
    "    \n",
    "    # load image\n",
    "    imageObj = cv2.imread(image_path)\n",
    "    image_rgb = cv2.cvtColor(imageObj,cv2.COLOR_BGR2RGB)\n",
    "    \n",
    "    return image_rgb\n",
    "\n",
    "def image_hsv(image_path):\n",
    "    # Read the image using OpenCV\n",
    "    image = cv2.imread(image_path)\n",
    "\n",
    "    # Convert the image from BGR to RGB (matplotlib expects RGB format)\n",
    "    image_rgb = cv2.cvtColor(image, cv2.COLOR_BGR2RGB)\n",
    "\n",
    "    # Convert the image from RGB to HSV\n",
    "    image_hsv = cv2.cvtColor(image_rgb, cv2.COLOR_RGB2HSV)\n",
    "\n",
    "    return image_hsv\n"
   ]
  },
  {
   "cell_type": "code",
   "execution_count": 7,
   "id": "f931a066",
   "metadata": {},
   "outputs": [],
   "source": [
    "#load images \n",
    "#convert images to rgb and hsv representations\n",
    "#store images in a 4-D array (width,height,channels,images)\n",
    "#take the average pixel values for both rgb and hsv within each suit seperately\n",
    "\n",
    "average_rgb = np.zeros((224,224,3,4))\n",
    "average_hsv = np.zeros((224,224,3,4))\n",
    "suit_labels = set(train_df.suit)\n",
    "\n",
    "for j,item in enumerate(suit_labels):\n",
    "    depth = len(train_df[train_df.suit == item])\n",
    "    images_rgb = np.zeros((224,224,3,depth))\n",
    "    images_hsv = np.zeros((224,224,3,depth))\n",
    "    \n",
    "    for i,filepath in enumerate(train_df[train_df.suit == item].filepaths):\n",
    "        if filepath.endswith(\".jpg\"):\n",
    "            rgb_image = image_rgb(filepath)\n",
    "            images_rgb[:,:,:,i] = rgb_image\n",
    "\n",
    "            hsv_image = image_hsv(filepath)\n",
    "            images_hsv[:,:,:,i] = hsv_image\n",
    "    average_rgb[:,:,:,j] = np.mean(images_rgb,axis = 3)\n",
    "    average_hsv[:,:,:,j] = np.mean(images_hsv,axis = 3)\n",
    "\n",
    "    "
   ]
  },
  {
   "cell_type": "code",
   "execution_count": 8,
   "id": "c7507a1c",
   "metadata": {},
   "outputs": [
    {
     "data": {
      "image/png": "[encoded data removed]",
      "text/plain": [
       "<Figure size 1080x720 with 12 Axes>"
      ]
     },
     "metadata": {
      "needs_background": "light"
     },
     "output_type": "display_data"
    }
   ],
   "source": [
    "fig, ax = plt.subplots(4, 3, figsize=(15, 10))\n",
    "for j, item in enumerate(suit_labels):\n",
    "    ax[j, 0].hist(average_rgb[:, :, 0, j].flatten(), bins=256, range=(0, 256), color='red', alpha=0.5)\n",
    "    ax[j, 0].set_title(item + ': red channel')\n",
    "    ax[j, 0].set_xlim([0, 256])\n",
    "\n",
    "    ax[j, 1].hist(average_rgb[:, :, 1, j].flatten(), bins=256, range=(0, 256), color='green', alpha=0.5)\n",
    "    ax[j, 1].set_title(item + ': green channel')\n",
    "    ax[j, 1].set_xlim([0, 256])\n",
    "\n",
    "    ax[j, 2].hist(average_rgb[:, :, 2, j].flatten(), bins=256, range=(0, 256), color='blue', alpha=0.5)\n",
    "    ax[j, 2].set_title(item + ': blue channel')\n",
    "    ax[j, 2].set_xlim([0, 256])\n",
    "\n",
    "plt.tight_layout()\n",
    "plt.show()"
   ]
  },
  {
   "cell_type": "code",
   "execution_count": 9,
   "id": "b0f10b87",
   "metadata": {},
   "outputs": [
    {
     "data": {
      "image/png": "[encoded data removed]",
      "text/plain": [
       "<Figure size 1080x720 with 12 Axes>"
      ]
     },
     "metadata": {
      "needs_background": "light"
     },
     "output_type": "display_data"
    }
   ],
   "source": [
    "#Hue: The hue component represents the type of color, such as red, blue, green, etc. \n",
    "\n",
    "#Saturation: The saturation component represents the intensity or purity of the color. \n",
    "#Higher saturation values result in vibrant and vivid colors, while lower saturation values lead to \n",
    "#desaturated or grayscale colors. \n",
    "\n",
    "#Value: The value component represents the brightness of the color. \n",
    "#It determines how light or dark the color appears. \n",
    "#A value of 0 indicates black, while a value of 1 (or 100%) indicates full brightness of the color. \n",
    "#Intermediate values represent various shades of the hue at different brightness levels.\n",
    "\n",
    "fig, ax = plt.subplots(4, 3, figsize=(15, 10))\n",
    "for j, item in enumerate(suit_labels):\n",
    "    ax[j, 0].hist(average_hsv[:, :, 0, j].flatten(), bins=256, range=(0, 256), color='blue', alpha=0.5)\n",
    "    ax[j, 0].set_title(item + ': hue channel')\n",
    "    ax[j, 0].set_xlim([0, 256])\n",
    "\n",
    "    ax[j, 1].hist(average_hsv[:, :, 1, j].flatten(), bins=256, range=(0, 256), color='green', alpha=0.5)\n",
    "    ax[j, 1].set_title(item + ': saturation channel')\n",
    "    ax[j, 1].set_xlim([0, 256])\n",
    "\n",
    "    ax[j, 2].hist(average_hsv[:, :, 2, j].flatten(), bins=256, range=(0, 256), color='red', alpha=0.5)\n",
    "    ax[j, 2].set_title(item + ': value channel')\n",
    "    ax[j, 2].set_xlim([0, 256])\n",
    "\n",
    "plt.tight_layout()\n",
    "plt.show()"
   ]
  },
  {
   "cell_type": "markdown",
   "id": "766b23cf",
   "metadata": {},
   "source": [
    "## SVM Classification"
   ]
  },
  {
   "cell_type": "code",
   "execution_count": 40,
   "id": "43437342",
   "metadata": {},
   "outputs": [],
   "source": [
    "def image_hsv(image):\n",
    "    # Convert the image from BGR to RGB (matplotlib expects RGB format)\n",
    "    image_rgb = cv2.cvtColor(image, cv2.COLOR_BGR2RGB)\n",
    "\n",
    "    # Convert the image from RGB to HSV\n",
    "    image_hsv = cv2.cvtColor(image_rgb, cv2.COLOR_RGB2HSV)\n",
    "\n",
    "    return image_hsv\n",
    "\n",
    "# Function to compute hsv features for a batch of images\n",
    "def compute_batch_hsv_features(image_generator, channel = 1):\n",
    "    hsv_features = []\n",
    "    for _ in range(len(image_generator)):\n",
    "        image_batch, _ = next(image_generator)  # Get a batch of images (ignore the labels)\n",
    "        for image in image_batch:\n",
    "            hsv_features.append(image_hsv(image)[:,:,channel].flatten()) #pull channel 1 for saturation\n",
    "    return np.array(hsv_features)"
   ]
  },
  {
   "cell_type": "markdown",
   "id": "259d8bfa",
   "metadata": {},
   "source": [
    "### HSV"
   ]
  },
  {
   "cell_type": "code",
   "execution_count": 41,
   "id": "a7a51332",
   "metadata": {},
   "outputs": [],
   "source": [
    "# Compute HOG features for train, validation, and test sets\n",
    "train_hsv_features = compute_batch_hsv_features(train_generator,channel = 1)\n",
    "valid_hsv_features = compute_batch_hsv_features(valid_generator, channel = 1)\n",
    "test_hsv_features = compute_batch_hsv_features(test_generator, channel = 1)"
   ]
  },
  {
   "cell_type": "code",
   "execution_count": 42,
   "id": "be7692b1",
   "metadata": {},
   "outputs": [
    {
     "data": {
      "text/plain": [
       "(5138, 50176)"
      ]
     },
     "execution_count": 42,
     "metadata": {},
     "output_type": "execute_result"
    }
   ],
   "source": [
    "train_hsv_features.shape\n"
   ]
  },
  {
   "cell_type": "code",
   "execution_count": 43,
   "id": "c7d3846e",
   "metadata": {},
   "outputs": [
    {
     "ename": "NameError",
     "evalue": "name 'accuracy_score' is not defined",
     "output_type": "error",
     "traceback": [
      "\u001b[0;31m---------------------------------------------------------------------------\u001b[0m",
      "\u001b[0;31mNameError\u001b[0m                                 Traceback (most recent call last)",
      "\u001b[0;32m<ipython-input-43-1039ea6f7b41>\u001b[0m in \u001b[0;36m<module>\u001b[0;34m\u001b[0m\n\u001b[1;32m     12\u001b[0m \u001b[0;34m\u001b[0m\u001b[0m\n\u001b[1;32m     13\u001b[0m \u001b[0;31m# Calculate accuracy scores\u001b[0m\u001b[0;34m\u001b[0m\u001b[0;34m\u001b[0m\u001b[0;34m\u001b[0m\u001b[0m\n\u001b[0;32m---> 14\u001b[0;31m \u001b[0mval_accuracy\u001b[0m \u001b[0;34m=\u001b[0m \u001b[0maccuracy_score\u001b[0m\u001b[0;34m(\u001b[0m\u001b[0my_val\u001b[0m\u001b[0;34m,\u001b[0m \u001b[0my_val_pred\u001b[0m\u001b[0;34m)\u001b[0m\u001b[0;34m\u001b[0m\u001b[0;34m\u001b[0m\u001b[0m\n\u001b[0m\u001b[1;32m     15\u001b[0m \u001b[0mtest_accuracy\u001b[0m \u001b[0;34m=\u001b[0m \u001b[0maccuracy_score\u001b[0m\u001b[0;34m(\u001b[0m\u001b[0my_test\u001b[0m\u001b[0;34m,\u001b[0m \u001b[0my_test_pred\u001b[0m\u001b[0;34m)\u001b[0m\u001b[0;34m\u001b[0m\u001b[0;34m\u001b[0m\u001b[0m\n\u001b[1;32m     16\u001b[0m \u001b[0;34m\u001b[0m\u001b[0m\n",
      "\u001b[0;31mNameError\u001b[0m: name 'accuracy_score' is not defined"
     ]
    }
   ],
   "source": [
    "# Create an instance of SVC\n",
    "classifier = SVC()\n",
    "\n",
    "# Train the SVC model\n",
    "classifier.fit(train_hsv_features, train_generator.labels)\n",
    "\n",
    "# Predict labels for validation data\n",
    "y_val_pred = classifier.predict(valid_hsv_features)\n",
    "\n",
    "# Predict labels for test data\n",
    "y_test_pred = classifier.predict(test_hsv_features)\n"
   ]
  },
  {
   "cell_type": "code",
   "execution_count": 46,
   "id": "304b76a2",
   "metadata": {},
   "outputs": [
    {
     "name": "stdout",
     "output_type": "stream",
     "text": [
      "Validation Accuracy: 0.2723735408560311\n",
      "Test Accuracy: 0.2671232876712329\n"
     ]
    }
   ],
   "source": [
    "# Calculate accuracy scores\n",
    "val_accuracy = accuracy_score(valid_generator.labels, y_val_pred)\n",
    "test_accuracy = accuracy_score(test_generator.labels, y_test_pred)\n",
    "\n",
    "# Print the accuracy scores\n",
    "print(\"Validation Accuracy:\", val_accuracy)\n",
    "print(\"Test Accuracy:\", test_accuracy)"
   ]
  },
  {
   "cell_type": "markdown",
   "id": "df97dc71",
   "metadata": {},
   "source": [
    "### Template Matching"
   ]
  },
  {
   "cell_type": "code",
   "execution_count": 109,
   "id": "0687c7fe",
   "metadata": {},
   "outputs": [],
   "source": [
    "def template_matching(image):\n",
    "    gray_image = cv2.cvtColor(image, cv2.COLOR_BGR2GRAY)\n",
    "    reference_club_image = convert_to_grayscale('train/ace of clubs/083.jpg')\n",
    "    reference_diamond_image = convert_to_grayscale('train/ace of diamonds/035.jpg')\n",
    "    reference_heart_image = convert_to_grayscale('train/ace of hearts/026.jpg')\n",
    "    reference_spade_image = convert_to_grayscale('train/ace of spades/064.jpg')\n",
    "    \n",
    "    # Extract templates from reference images\n",
    "    club_template = reference_club_image[60:170, 50:170]\n",
    "    diamond_template = reference_diamond_image[60:170, 50:170]\n",
    "    heart_template = reference_heart_image[60:170, 50:170]\n",
    "    spade_template = reference_spade_image[60:170, 50:170]\n",
    "\n",
    "    # Perform template matching for each template\n",
    "    templates = [club_template, diamond_template, heart_template, spade_template]\n",
    "    suit_labels = ['Club', 'Diamond', 'Heart', 'Spade']\n",
    "\n",
    "    best_match_index = -1\n",
    "    best_match_val = 0.0\n",
    "    for i, template in enumerate(templates):\n",
    "        template_images = templates[i]\n",
    "        print(template_images.shape)\n",
    "        print()\n",
    "        result = cv2.matchTemplate(template_images, gray_image, cv2.TM_CCOEFF_NORMED)\n",
    "        min_val, max_val, min_loc, max_loc = cv2.minMaxLoc(result)\n",
    "\n",
    "        # Check if this match is better than the previous best match\n",
    "        if max_val > best_match_val:\n",
    "            best_match_val = max_val\n",
    "            best_match_index = i\n",
    "\n",
    "    # Return the index of the best matching suit\n",
    "    return best_match_index\n",
    "\n"
   ]
  },
  {
   "cell_type": "code",
   "execution_count": 110,
   "id": "babfd43b",
   "metadata": {},
   "outputs": [
    {
     "ename": "error",
     "evalue": "OpenCV(4.7.0) /Users/runner/work/opencv-python/opencv-python/opencv/modules/imgproc/src/templmatch.cpp:1164: error: (-215:Assertion failed) (depth == CV_8U || depth == CV_32F) && type == _templ.type() && _img.dims() <= 2 in function 'matchTemplate'\n",
     "output_type": "error",
     "traceback": [
      "\u001b[0;31m---------------------------------------------------------------------------\u001b[0m",
      "\u001b[0;31merror\u001b[0m                                     Traceback (most recent call last)",
      "\u001b[0;32m<ipython-input-110-ca0b6e3ed251>\u001b[0m in \u001b[0;36m<module>\u001b[0;34m\u001b[0m\n\u001b[1;32m      1\u001b[0m \u001b[0;31m# Compute HOG features for train, validation, and test sets\u001b[0m\u001b[0;34m\u001b[0m\u001b[0;34m\u001b[0m\u001b[0;34m\u001b[0m\u001b[0m\n\u001b[0;32m----> 2\u001b[0;31m \u001b[0mtrain_template_matching_features\u001b[0m \u001b[0;34m=\u001b[0m \u001b[0mcompute_batch_template_matching\u001b[0m\u001b[0;34m(\u001b[0m\u001b[0mtrain_generator\u001b[0m\u001b[0;34m)\u001b[0m\u001b[0;34m\u001b[0m\u001b[0;34m\u001b[0m\u001b[0m\n\u001b[0m\u001b[1;32m      3\u001b[0m \u001b[0mvalid_template_matching_features\u001b[0m \u001b[0;34m=\u001b[0m \u001b[0mcompute_batch_template_matching\u001b[0m\u001b[0;34m(\u001b[0m\u001b[0mvalid_generator\u001b[0m\u001b[0;34m)\u001b[0m\u001b[0;34m\u001b[0m\u001b[0;34m\u001b[0m\u001b[0m\n\u001b[1;32m      4\u001b[0m \u001b[0mtest_template_matching_features\u001b[0m \u001b[0;34m=\u001b[0m \u001b[0mcompute_batch_template_matching\u001b[0m\u001b[0;34m(\u001b[0m\u001b[0mtest_generator\u001b[0m\u001b[0;34m)\u001b[0m\u001b[0;34m\u001b[0m\u001b[0;34m\u001b[0m\u001b[0m\n",
      "\u001b[0;32m<ipython-input-106-99a53b44eb6a>\u001b[0m in \u001b[0;36mcompute_batch_template_matching\u001b[0;34m(image_generator)\u001b[0m\n\u001b[1;32m     44\u001b[0m         \u001b[0mimage_batch\u001b[0m\u001b[0;34m,\u001b[0m \u001b[0m_\u001b[0m \u001b[0;34m=\u001b[0m \u001b[0mnext\u001b[0m\u001b[0;34m(\u001b[0m\u001b[0mimage_generator\u001b[0m\u001b[0;34m)\u001b[0m  \u001b[0;31m# Get a batch of images (ignore the labels)\u001b[0m\u001b[0;34m\u001b[0m\u001b[0;34m\u001b[0m\u001b[0m\n\u001b[1;32m     45\u001b[0m         \u001b[0;32mfor\u001b[0m \u001b[0mimage\u001b[0m \u001b[0;32min\u001b[0m \u001b[0mimage_batch\u001b[0m\u001b[0;34m:\u001b[0m\u001b[0;34m\u001b[0m\u001b[0;34m\u001b[0m\u001b[0m\n\u001b[0;32m---> 46\u001b[0;31m             \u001b[0mtemplate_matching_features\u001b[0m\u001b[0;34m.\u001b[0m\u001b[0mappend\u001b[0m\u001b[0;34m(\u001b[0m\u001b[0mtemplate_matching\u001b[0m\u001b[0;34m(\u001b[0m\u001b[0mimage\u001b[0m\u001b[0;34m)\u001b[0m\u001b[0;34m)\u001b[0m \u001b[0;31m#pull channel 1 for saturation\u001b[0m\u001b[0;34m\u001b[0m\u001b[0;34m\u001b[0m\u001b[0m\n\u001b[0m\u001b[1;32m     47\u001b[0m     \u001b[0;32mreturn\u001b[0m \u001b[0mnp\u001b[0m\u001b[0;34m.\u001b[0m\u001b[0marray\u001b[0m\u001b[0;34m(\u001b[0m\u001b[0mtemplate_matching_features\u001b[0m\u001b[0;34m)\u001b[0m\u001b[0;34m\u001b[0m\u001b[0;34m\u001b[0m\u001b[0m\n",
      "\u001b[0;32m<ipython-input-109-f91e2343b95e>\u001b[0m in \u001b[0;36mtemplate_matching\u001b[0;34m(image)\u001b[0m\n\u001b[1;32m     20\u001b[0m     \u001b[0;32mfor\u001b[0m \u001b[0mi\u001b[0m\u001b[0;34m,\u001b[0m \u001b[0mtemplate\u001b[0m \u001b[0;32min\u001b[0m \u001b[0menumerate\u001b[0m\u001b[0;34m(\u001b[0m\u001b[0mtemplates\u001b[0m\u001b[0;34m)\u001b[0m\u001b[0;34m:\u001b[0m\u001b[0;34m\u001b[0m\u001b[0;34m\u001b[0m\u001b[0m\n\u001b[1;32m     21\u001b[0m         \u001b[0mtemplate_images\u001b[0m \u001b[0;34m=\u001b[0m \u001b[0mtemplates\u001b[0m\u001b[0;34m[\u001b[0m\u001b[0mi\u001b[0m\u001b[0;34m]\u001b[0m\u001b[0;34m\u001b[0m\u001b[0;34m\u001b[0m\u001b[0m\n\u001b[0;32m---> 22\u001b[0;31m         \u001b[0mresult\u001b[0m \u001b[0;34m=\u001b[0m \u001b[0mcv2\u001b[0m\u001b[0;34m.\u001b[0m\u001b[0mmatchTemplate\u001b[0m\u001b[0;34m(\u001b[0m\u001b[0mtemplate_images\u001b[0m\u001b[0;34m,\u001b[0m \u001b[0mgray_image\u001b[0m\u001b[0;34m,\u001b[0m \u001b[0mcv2\u001b[0m\u001b[0;34m.\u001b[0m\u001b[0mTM_CCOEFF_NORMED\u001b[0m\u001b[0;34m)\u001b[0m\u001b[0;34m\u001b[0m\u001b[0;34m\u001b[0m\u001b[0m\n\u001b[0m\u001b[1;32m     23\u001b[0m         \u001b[0mmin_val\u001b[0m\u001b[0;34m,\u001b[0m \u001b[0mmax_val\u001b[0m\u001b[0;34m,\u001b[0m \u001b[0mmin_loc\u001b[0m\u001b[0;34m,\u001b[0m \u001b[0mmax_loc\u001b[0m \u001b[0;34m=\u001b[0m \u001b[0mcv2\u001b[0m\u001b[0;34m.\u001b[0m\u001b[0mminMaxLoc\u001b[0m\u001b[0;34m(\u001b[0m\u001b[0mresult\u001b[0m\u001b[0;34m)\u001b[0m\u001b[0;34m\u001b[0m\u001b[0;34m\u001b[0m\u001b[0m\n\u001b[1;32m     24\u001b[0m \u001b[0;34m\u001b[0m\u001b[0m\n",
      "\u001b[0;31merror\u001b[0m: OpenCV(4.7.0) /Users/runner/work/opencv-python/opencv-python/opencv/modules/imgproc/src/templmatch.cpp:1164: error: (-215:Assertion failed) (depth == CV_8U || depth == CV_32F) && type == _templ.type() && _img.dims() <= 2 in function 'matchTemplate'\n"
     ]
    }
   ],
   "source": [
    "# Compute HOG features for train, validation, and test sets\n",
    "train_template_matching_features = compute_batch_template_matching(train_generator)\n",
    "valid_template_matching_features = compute_batch_template_matching(valid_generator)\n",
    "test_template_matching_features = compute_batch_template_matching(test_generator)"
   ]
  }
 ],
 "metadata": {
  "kernelspec": {
   "display_name": "Python 3",
   "language": "python",
   "name": "python3"
  },
  "language_info": {
   "codemirror_mode": {
    "name": "ipython",
    "version": 3
   },
   "file_extension": ".py",
   "mimetype": "text/x-python",
   "name": "python",
   "nbconvert_exporter": "python",
   "pygments_lexer": "ipython3",
   "version": "3.8.8"
  }
 },
 "nbformat": 4,
 "nbformat_minor": 5
}
