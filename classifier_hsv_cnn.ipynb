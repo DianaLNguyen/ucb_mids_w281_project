{
 "cells": [
  {
   "cell_type": "code",
   "execution_count": 79,
   "id": "048c5e7c",
   "metadata": {},
   "outputs": [],
   "source": [
    "import pandas as pd\n",
    "import numpy as np\n",
    "import cv2\n",
    "import tensorflow as tf\n",
    "import matplotlib.pyplot as plt\n",
    "import matplotlib.patches as patches\n",
    "from skimage.feature import hog\n",
    "from skimage import exposure\n",
    "\n",
    "from tensorflow.keras.models import Sequential\n",
    "from tensorflow.keras.layers import Dense, Dropout\n",
    "from tensorflow.keras.optimizers import Adam\n",
    "from tensorflow.keras.utils import to_categorical\n",
    "from tensorflow.keras.preprocessing.image import load_img, img_to_array\n",
    "from tensorflow.keras.preprocessing.image import ImageDataGenerator\n",
    "\n",
    "from skimage import exposure\n",
    "from skimage import color\n",
    "from skimage.filters import threshold_otsu\n",
    "from skimage.morphology import binary_erosion\n",
    "from skimage.measure import regionprops, find_contours\n",
    "from tensorflow.keras.preprocessing.image import load_img, img_to_array\n",
    "\n",
    "from sklearn.model_selection import train_test_split\n",
    "from sklearn.metrics import classification_report\n",
    "from sklearn.metrics import precision_score, recall_score, f1_score\n",
    "from sklearn.decomposition import PCA\n",
    "from sklearn.preprocessing import StandardScaler\n",
    "\n",
    "from sklearn.svm import SVC\n",
    "from sklearn.metrics import accuracy_score\n",
    "from sklearn.metrics import confusion_matrix\n",
    "from sklearn.metrics import ConfusionMatrixDisplay\n",
    "\n",
    "from utils import *\n",
    "from feature_util import *\n",
    "\n",
    "\n",
    "\n"
   ]
  },
  {
   "cell_type": "code",
   "execution_count": 80,
   "id": "8cda539c",
   "metadata": {},
   "outputs": [
    {
     "data": {
      "text/html": [
       "<div>\n",
       "<style scoped>\n",
       "    .dataframe tbody tr th:only-of-type {\n",
       "        vertical-align: middle;\n",
       "    }\n",
       "\n",
       "    .dataframe tbody tr th {\n",
       "        vertical-align: top;\n",
       "    }\n",
       "\n",
       "    .dataframe thead th {\n",
       "        text-align: right;\n",
       "    }\n",
       "</style>\n",
       "<table border=\"1\" class=\"dataframe\">\n",
       "  <thead>\n",
       "    <tr style=\"text-align: right;\">\n",
       "      <th></th>\n",
       "      <th>filepaths</th>\n",
       "      <th>suit</th>\n",
       "    </tr>\n",
       "  </thead>\n",
       "  <tbody>\n",
       "    <tr>\n",
       "      <th>0</th>\n",
       "      <td>Dataset/train/ace of clubs/001.jpg</td>\n",
       "      <td>clubs</td>\n",
       "    </tr>\n",
       "    <tr>\n",
       "      <th>1</th>\n",
       "      <td>Dataset/train/ace of clubs/002.jpg</td>\n",
       "      <td>clubs</td>\n",
       "    </tr>\n",
       "    <tr>\n",
       "      <th>2</th>\n",
       "      <td>Dataset/train/ace of clubs/003.jpg</td>\n",
       "      <td>clubs</td>\n",
       "    </tr>\n",
       "    <tr>\n",
       "      <th>3</th>\n",
       "      <td>Dataset/train/ace of clubs/004.jpg</td>\n",
       "      <td>clubs</td>\n",
       "    </tr>\n",
       "    <tr>\n",
       "      <th>4</th>\n",
       "      <td>Dataset/train/ace of clubs/005.jpg</td>\n",
       "      <td>clubs</td>\n",
       "    </tr>\n",
       "  </tbody>\n",
       "</table>\n",
       "</div>"
      ],
      "text/plain": [
       "                            filepaths   suit\n",
       "0  Dataset/train/ace of clubs/001.jpg  clubs\n",
       "1  Dataset/train/ace of clubs/002.jpg  clubs\n",
       "2  Dataset/train/ace of clubs/003.jpg  clubs\n",
       "3  Dataset/train/ace of clubs/004.jpg  clubs\n",
       "4  Dataset/train/ace of clubs/005.jpg  clubs"
      ]
     },
     "execution_count": 80,
     "metadata": {},
     "output_type": "execute_result"
    }
   ],
   "source": [
    "# Load the image paths and labels from the DataFrame\n",
    "df = pd.read_csv('Dataset/cards.csv')\n",
    "\n",
    "# For column names that contain space, replace the space with an underscore\n",
    "df.columns = [c.replace(' ', '_') for c in df.columns]\n",
    "\n",
    "# Add suits column\n",
    "df['suit'] = df['labels'].str.split().str[-1]\n",
    "\n",
    "# Remove rows with jokers\n",
    "df = df[~df['suit'].str.contains('joker', case=False)]\n",
    "\n",
    "# Remove unwanted columns\n",
    "df = df.drop(columns = ['data_set'])\n",
    "df = df.drop(columns = ['class_index'])\n",
    "df = df.drop(columns = ['labels'])\n",
    "df = df.drop(columns = ['card_type'])\n",
    "\n",
    "# Add folder name to the filepath\n",
    "df['filepaths'] = df['filepaths'].apply(lambda x: 'Dataset/' + x)\n",
    "df.head()"
   ]
  },
  {
   "cell_type": "code",
   "execution_count": 81,
   "id": "2fabeb0a",
   "metadata": {},
   "outputs": [
    {
     "name": "stdout",
     "output_type": "stream",
     "text": [
      "Train Set - Class Distribution:\n",
      "spades      0.269171\n",
      "hearts      0.246010\n",
      "diamonds    0.243675\n",
      "clubs       0.241144\n",
      "Name: suit, dtype: float64\n",
      "Validation Set - Class Distribution:\n",
      "spades      0.269261\n",
      "hearts      0.245914\n",
      "diamonds    0.243580\n",
      "clubs       0.241245\n",
      "Name: suit, dtype: float64\n",
      "Test Set - Class Distribution:\n",
      "spades      0.268991\n",
      "hearts      0.245953\n",
      "diamonds    0.244085\n",
      "clubs       0.240971\n",
      "Name: suit, dtype: float64\n"
     ]
    }
   ],
   "source": [
    "# Split dataframe into train and test sets, stratified by the 'suit' column\n",
    "train_df, test_df = train_test_split(df, test_size=0.2, stratify=df['suit'], random_state=42)\n",
    "\n",
    "# Split train set into train and validation sets, stratified by the 'suit' column\n",
    "train_df, val_df = train_test_split(train_df, test_size=0.2, stratify=train_df['suit'], random_state=42)\n",
    "\n",
    "# Check class distribution in the train, validation, and test sets\n",
    "train_class_distribution = train_df['suit'].value_counts(normalize=True)\n",
    "val_class_distribution = val_df['suit'].value_counts(normalize=True)\n",
    "test_class_distribution = test_df['suit'].value_counts(normalize=True)\n",
    "\n",
    "print(\"Train Set - Class Distribution:\")\n",
    "print(train_class_distribution)\n",
    "\n",
    "print(\"Validation Set - Class Distribution:\")\n",
    "print(val_class_distribution)\n",
    "\n",
    "print(\"Test Set - Class Distribution:\")\n",
    "print(test_class_distribution)"
   ]
  },
  {
   "cell_type": "markdown",
   "id": "2b360a9b",
   "metadata": {},
   "source": [
    "## Augment Images"
   ]
  },
  {
   "cell_type": "code",
   "execution_count": 82,
   "id": "2dd1b9bc",
   "metadata": {},
   "outputs": [
    {
     "name": "stdout",
     "output_type": "stream",
     "text": [
      "Found 5138 validated image filenames belonging to 4 classes.\n",
      "Found 1285 validated image filenames belonging to 4 classes.\n",
      "Found 1606 validated image filenames belonging to 4 classes.\n"
     ]
    }
   ],
   "source": [
    "# Initialize data generator class\n",
    "\n",
    "train_data_generator = ImageDataGenerator(\n",
    "    #rescale = 1/255.0,   #Want 0 to 255 values for the color histogram\n",
    "    rotation_range= 45,\n",
    "    zoom_range= 0.2,\n",
    "    width_shift_range = 0.2,\n",
    "    height_shift_range = 0.2,\n",
    "    shear_range= 0.2,\n",
    "    horizontal_flip=True,\n",
    "    vertical_flip=True\n",
    ")\n",
    "\n",
    "test_data_generator = ImageDataGenerator() #rescale = 1/255.0) #want 0 to 255 values for the color histogram\n",
    "\n",
    "# Create data generators for train, validation, and test\n",
    "batch_size = 32\n",
    "\n",
    "train_generator = train_data_generator.flow_from_dataframe(\n",
    "    dataframe = train_df,\n",
    "    x_col = 'filepaths',\n",
    "    y_col = 'suit',\n",
    "    target_size = (224,224),\n",
    "    batch_size = batch_size,\n",
    "    class_mode = 'categorical',\n",
    "    shuffle=False\n",
    ")\n",
    "\n",
    "valid_generator = test_data_generator.flow_from_dataframe( #change this to use test_data_generator since don't want to augment the valid images\n",
    "    dataframe = val_df,\n",
    "    x_col = 'filepaths',\n",
    "    y_col = 'suit',\n",
    "    target_size = (224,224),\n",
    "    batch_size = batch_size,\n",
    "    class_mode = 'categorical',\n",
    "    shuffle=False\n",
    ")\n",
    "\n",
    "test_generator = test_data_generator.flow_from_dataframe( #change this to use test_data_generator since don't want to augment the valid images\n",
    "    dataframe = test_df,\n",
    "    x_col = 'filepaths',\n",
    "    y_col = 'suit',\n",
    "    target_size = (224,224),\n",
    "    batch_size = batch_size,\n",
    "    class_mode = 'categorical',\n",
    "    shuffle=False\n",
    ")\n"
   ]
  },
  {
   "cell_type": "markdown",
   "id": "766b23cf",
   "metadata": {},
   "source": [
    "## CNN Classification"
   ]
  },
  {
   "cell_type": "markdown",
   "id": "13e5af2a",
   "metadata": {},
   "source": [
    "### Saturation"
   ]
  },
  {
   "cell_type": "code",
   "execution_count": 83,
   "id": "43437342",
   "metadata": {},
   "outputs": [],
   "source": [
    "\n",
    "def hist_hue(image):\n",
    "    \n",
    "    # Convert the image from RGB to HSV\n",
    "    image_hsv = cv2.cvtColor(image, cv2.COLOR_RGB2HSV)\n",
    "    \n",
    "    # Calculate histograms for each channel\n",
    "    hist_hue = cv2.calcHist([image_hsv], [0], None , [255], [0, 256]).astype(np.uint8)\n",
    "    \n",
    "    #normalize \n",
    "    hist_hue_normalized = (hist_hue - np.min(hist_hue)) / (np.max(hist_hue)  - np.min(hist_hue) )\n",
    "\n",
    "    # Scale the normalized histogram to have values between 0 and 255\n",
    "    hist_hue_scaled = (hist_hue_normalized * 255).astype(np.uint8)\n",
    "    \n",
    "    return hist_hue_scaled\n",
    "\n",
    "# Function to compute hsv features for a batch of images\n",
    "def extract_hue_features_from_generator(data_generator):\n",
    "    hsv_features = []\n",
    "    labels = []\n",
    "    num_batches = len(data_generator)\n",
    "    \n",
    "    for _ in range(num_batches):\n",
    "        batch_images, class_labels = data_generator.next()  # Get the next batch of augmented images (ignoring the labels)\n",
    "        \n",
    "        # Compute hue features for each image in the batch\n",
    "        for image, label in zip(batch_images,class_labels):\n",
    "            hue_feature = hist_hue(image).flatten()  \n",
    "            hsv_features.append(hue_feature)\n",
    "            label = list(label)\n",
    "            labels.append(label)\n",
    "            \n",
    "    return np.array(hsv_features),labels\n",
    "\n",
    "\n"
   ]
  },
  {
   "cell_type": "code",
   "execution_count": 84,
   "id": "824f9848",
   "metadata": {},
   "outputs": [
    {
     "name": "stderr",
     "output_type": "stream",
     "text": [
      "<ipython-input-46-ce5ec460fdbb>:10: RuntimeWarning: invalid value encountered in true_divide\n",
      "  hist_saturation_normalized = hist_saturation / np.sum(hist_saturation)\n"
     ]
    }
   ],
   "source": [
    "\n",
    "train_saturation_features, train_labels = extract_saturation_features_from_generator(train_generator)\n",
    "valid_saturation_features, valid_labels = extract_saturation_features_from_generator(valid_generator)\n",
    "test_saturation_features, test_labels = extract_saturation_features_from_generator(test_generator)\n",
    "\n",
    "train_labels = np.array(train_labels)\n",
    "valid_labels = np.array(valid_labels)\n",
    "test_labels = np.array(test_labels)"
   ]
  },
  {
   "cell_type": "code",
   "execution_count": 85,
   "id": "a1177551",
   "metadata": {},
   "outputs": [],
   "source": [
    "# cnn using the train saturation features\n",
    "num_classes = 4\n",
    "\n",
    "model = Sequential()\n",
    "model.add(Dense(128, activation='relu', input_shape=(train_saturation_features.shape[1],)))\n",
    "model.add(Dropout(0.03))\n",
    "model.add(Dense(64, activation='relu'))\n",
    "model.add(Dropout(0.03))\n",
    "model.add(Dense(num_classes, activation='softmax'))\n",
    "\n",
    "model.compile(optimizer=Adam(learning_rate=0.0001), loss='categorical_crossentropy', metrics=['accuracy'])"
   ]
  },
  {
   "cell_type": "code",
   "execution_count": 86,
   "id": "d87774f3",
   "metadata": {},
   "outputs": [
    {
     "name": "stdout",
     "output_type": "stream",
     "text": [
      "Epoch 1/20\n",
      "322/322 [==============================] - 2s 3ms/step - loss: 20.3553 - accuracy: 0.3293 - val_loss: 17.1465 - val_accuracy: 0.3292\n",
      "Epoch 2/20\n",
      "322/322 [==============================] - 1s 2ms/step - loss: 11.9293 - accuracy: 0.3548 - val_loss: 12.5533 - val_accuracy: 0.3595\n",
      "Epoch 3/20\n",
      "322/322 [==============================] - 1s 2ms/step - loss: 8.2101 - accuracy: 0.3608 - val_loss: 8.7146 - val_accuracy: 0.3580\n",
      "Epoch 4/20\n",
      "322/322 [==============================] - 1s 2ms/step - loss: 6.0296 - accuracy: 0.3760 - val_loss: 7.1284 - val_accuracy: 0.3541\n",
      "Epoch 5/20\n",
      "322/322 [==============================] - 1s 2ms/step - loss: 4.6792 - accuracy: 0.3852 - val_loss: 5.9104 - val_accuracy: 0.3541\n",
      "Epoch 6/20\n",
      "322/322 [==============================] - 1s 2ms/step - loss: 3.8693 - accuracy: 0.3889 - val_loss: 5.2068 - val_accuracy: 0.3502\n",
      "Epoch 7/20\n",
      "322/322 [==============================] - 1s 2ms/step - loss: 3.2693 - accuracy: 0.3972 - val_loss: 4.6242 - val_accuracy: 0.3634\n",
      "Epoch 8/20\n",
      "322/322 [==============================] - 1s 2ms/step - loss: 2.8723 - accuracy: 0.4132 - val_loss: 4.2853 - val_accuracy: 0.3572\n",
      "Epoch 9/20\n",
      "322/322 [==============================] - 1s 2ms/step - loss: 2.5337 - accuracy: 0.4095 - val_loss: 3.9492 - val_accuracy: 0.3611\n",
      "Epoch 10/20\n",
      "322/322 [==============================] - 1s 2ms/step - loss: 2.3079 - accuracy: 0.4200 - val_loss: 3.6825 - val_accuracy: 0.3634\n",
      "Epoch 11/20\n",
      "322/322 [==============================] - 1s 2ms/step - loss: 2.1221 - accuracy: 0.4221 - val_loss: 3.4985 - val_accuracy: 0.3658\n",
      "Epoch 12/20\n",
      "322/322 [==============================] - 1s 2ms/step - loss: 1.9480 - accuracy: 0.4216 - val_loss: 3.1850 - val_accuracy: 0.3681\n",
      "Epoch 13/20\n",
      "322/322 [==============================] - 1s 3ms/step - loss: 1.7346 - accuracy: 0.4389 - val_loss: 3.1298 - val_accuracy: 0.3720\n",
      "Epoch 14/20\n",
      "322/322 [==============================] - 1s 3ms/step - loss: 1.6760 - accuracy: 0.4346 - val_loss: 2.9639 - val_accuracy: 0.3626\n",
      "Epoch 15/20\n",
      "322/322 [==============================] - 1s 2ms/step - loss: 1.5127 - accuracy: 0.4646 - val_loss: 2.8648 - val_accuracy: 0.3642\n",
      "Epoch 16/20\n",
      "322/322 [==============================] - 1s 2ms/step - loss: 1.5141 - accuracy: 0.4547 - val_loss: 2.7592 - val_accuracy: 0.3611\n",
      "Epoch 17/20\n",
      "322/322 [==============================] - 1s 2ms/step - loss: 1.4051 - accuracy: 0.4644 - val_loss: 2.6621 - val_accuracy: 0.3626\n",
      "Epoch 18/20\n",
      "322/322 [==============================] - 1s 2ms/step - loss: 1.3430 - accuracy: 0.4646 - val_loss: 2.5426 - val_accuracy: 0.3564\n",
      "Epoch 19/20\n",
      "322/322 [==============================] - 1s 2ms/step - loss: 1.2967 - accuracy: 0.4724 - val_loss: 2.5402 - val_accuracy: 0.3611\n",
      "Epoch 20/20\n",
      "322/322 [==============================] - 1s 2ms/step - loss: 1.2346 - accuracy: 0.4856 - val_loss: 2.5469 - val_accuracy: 0.3611\n"
     ]
    },
    {
     "data": {
      "text/plain": [
       "<keras.callbacks.History at 0x7fa76e523bb0>"
      ]
     },
     "execution_count": 86,
     "metadata": {},
     "output_type": "execute_result"
    }
   ],
   "source": [
    "# Train the CNN model\n",
    "model.fit(train_saturation_features, train_labels,\n",
    "                    batch_size=16,\n",
    "                    epochs=20,\n",
    "                    validation_data=(valid_saturation_features, valid_labels))\n"
   ]
  },
  {
   "cell_type": "code",
   "execution_count": 87,
   "id": "17282d75",
   "metadata": {},
   "outputs": [
    {
     "name": "stdout",
     "output_type": "stream",
     "text": [
      "41/41 [==============================] - 0s 1ms/step\n"
     ]
    }
   ],
   "source": [
    "predict_valid = model.predict(valid_saturation_features)\n",
    "predict_classes_valid =np.argmax(predict_valid,axis=1)\n",
    "\n",
    "classes_valid_labels = np.argmax(valid_labels,axis=1)"
   ]
  },
  {
   "cell_type": "code",
   "execution_count": 88,
   "id": "381d9a15",
   "metadata": {},
   "outputs": [
    {
     "name": "stdout",
     "output_type": "stream",
     "text": [
      "Validation Classification Report:\n",
      "               precision    recall  f1-score   support\n",
      "\n",
      "           0       0.29      0.21      0.24       310\n",
      "           1       0.35      0.23      0.28       313\n",
      "           2       0.37      0.47      0.41       316\n",
      "           3       0.39      0.52      0.45       346\n",
      "\n",
      "    accuracy                           0.36      1285\n",
      "   macro avg       0.35      0.36      0.34      1285\n",
      "weighted avg       0.35      0.36      0.35      1285\n",
      "\n"
     ]
    }
   ],
   "source": [
    "# Get the class names from the generator (assuming it has the 'class_indices' attribute)\n",
    "class_indices = train_generator.class_indices\n",
    "class_names = list(class_indices.keys())\n",
    "\n",
    "# Calculate classification report for validation set\n",
    "valid_report = classification_report(classes_valid_labels, predict_classes_valid)\n",
    "print(\"Validation Classification Report:\\n\", valid_report)\n"
   ]
  },
  {
   "cell_type": "code",
   "execution_count": 89,
   "id": "195adf20",
   "metadata": {},
   "outputs": [
    {
     "data": {
      "text/plain": [
       "<sklearn.metrics._plot.confusion_matrix.ConfusionMatrixDisplay at 0x7fa7701ecee0>"
      ]
     },
     "execution_count": 89,
     "metadata": {},
     "output_type": "execute_result"
    },
    {
     "data": {
      "image/png": "[encoded data removed]",
      "text/plain": [
       "<Figure size 432x288 with 2 Axes>"
      ]
     },
     "metadata": {
      "needs_background": "light"
     },
     "output_type": "display_data"
    }
   ],
   "source": [
    "confusion = confusion_matrix(classes_valid_labels,predict_classes_valid)\n",
    "disp = ConfusionMatrixDisplay(confusion,display_labels = class_names)\n",
    "disp.plot()"
   ]
  },
  {
   "cell_type": "markdown",
   "id": "a458d49a",
   "metadata": {},
   "source": [
    "### Hog and Hue feature "
   ]
  },
  {
   "cell_type": "code",
   "execution_count": 91,
   "id": "73e6638e",
   "metadata": {},
   "outputs": [],
   "source": [
    "def extract_hog_hue_features_from_generator(data_generator):\n",
    "    hog_features = []\n",
    "    hsv_features = []\n",
    "    labels = []\n",
    "    num_batches = len(data_generator)\n",
    "    \n",
    "    for _ in range(num_batches):\n",
    "        batch_images, class_labels = data_generator.next()  # Get the next batch of augmented images (ignoring the labels)\n",
    "        \n",
    "        # Compute hue features for each image in the batch\n",
    "        for image, label in zip(batch_images,class_labels):\n",
    "           \n",
    "            hue_feature = hist_hue(image).flatten()  \n",
    "            hsv_features.append(hue_feature)\n",
    "            label = list(label)\n",
    "            labels.append(label)\n",
    "            gray_image = cv2.cvtColor(image, cv2.COLOR_RGB2GRAY) \n",
    "            gray_image = gray_image.astype(np.uint8)\n",
    "            hog_feature = hog(gray_image, orientations = 8, pixels_per_cell=(16, 16), cells_per_block=(4, 4))\n",
    "            hog_features.append(hog_feature)\n",
    "            \n",
    "    hog_hue_feature = np.hstack((hog_features, hsv_features)) #hog_features \n",
    "            \n",
    "    return np.array(hog_hue_feature), np.array(labels)"
   ]
  },
  {
   "cell_type": "code",
   "execution_count": 92,
   "id": "5c9236c1",
   "metadata": {},
   "outputs": [
    {
     "name": "stderr",
     "output_type": "stream",
     "text": [
      "<ipython-input-83-bfb9af43eecb>:10: RuntimeWarning: invalid value encountered in true_divide\n",
      "  hist_hue_normalized = (hist_hue - np.min(hist_hue)) / (np.max(hist_hue)  - np.min(hist_hue) )\n"
     ]
    }
   ],
   "source": [
    "train_hog_hue_features, train_labels = extract_hog_hue_features_from_generator(train_generator)\n",
    "valid_hog_hue_features, valid_labels = extract_hog_hue_features_from_generator(valid_generator)\n",
    "test_hog_hue_features, test_labels = extract_hog_hue_features_from_generator(test_generator)"
   ]
  },
  {
   "cell_type": "code",
   "execution_count": 93,
   "id": "0f3f41bf",
   "metadata": {},
   "outputs": [],
   "source": [
    "num_classes = 4\n",
    "\n",
    "model = Sequential()\n",
    "model.add(Dense(128, activation='relu', input_shape=(train_hog_hue_features.shape[1],)))\n",
    "model.add(Dropout(0.03))\n",
    "model.add(Dense(64, activation='relu'))\n",
    "model.add(Dropout(0.03))\n",
    "model.add(Dense(num_classes, activation='softmax'))\n",
    "\n",
    "model.compile(optimizer=Adam(learning_rate=0.0001), loss='categorical_crossentropy', metrics=['accuracy'])"
   ]
  },
  {
   "cell_type": "code",
   "execution_count": 94,
   "id": "eb376d0f",
   "metadata": {},
   "outputs": [
    {
     "name": "stdout",
     "output_type": "stream",
     "text": [
      "Epoch 1/20\n",
      "322/322 [==============================] - 8s 21ms/step - loss: 2.2438 - accuracy: 0.3447 - val_loss: 1.6479 - val_accuracy: 0.3268\n",
      "Epoch 2/20\n",
      "322/322 [==============================] - 7s 21ms/step - loss: 1.4025 - accuracy: 0.4017 - val_loss: 1.3840 - val_accuracy: 0.3844\n",
      "Epoch 3/20\n",
      "322/322 [==============================] - 27s 85ms/step - loss: 1.2437 - accuracy: 0.4379 - val_loss: 1.3701 - val_accuracy: 0.3735\n",
      "Epoch 4/20\n",
      "322/322 [==============================] - 8s 24ms/step - loss: 1.1625 - accuracy: 0.4657 - val_loss: 1.3763 - val_accuracy: 0.3767\n",
      "Epoch 5/20\n",
      "322/322 [==============================] - 6s 19ms/step - loss: 1.1175 - accuracy: 0.4895 - val_loss: 1.3517 - val_accuracy: 0.3852\n",
      "Epoch 6/20\n",
      "322/322 [==============================] - 6s 18ms/step - loss: 1.0830 - accuracy: 0.5033 - val_loss: 1.3609 - val_accuracy: 0.3883\n",
      "Epoch 7/20\n",
      "322/322 [==============================] - 6s 19ms/step - loss: 1.0406 - accuracy: 0.5265 - val_loss: 1.3944 - val_accuracy: 0.3891\n",
      "Epoch 8/20\n",
      "322/322 [==============================] - 8s 23ms/step - loss: 0.9960 - accuracy: 0.5463 - val_loss: 1.4152 - val_accuracy: 0.3868\n",
      "Epoch 9/20\n",
      "322/322 [==============================] - 10s 32ms/step - loss: 0.9632 - accuracy: 0.5685 - val_loss: 1.4618 - val_accuracy: 0.3852\n",
      "Epoch 10/20\n",
      "322/322 [==============================] - 11s 35ms/step - loss: 0.9265 - accuracy: 0.5804 - val_loss: 1.4864 - val_accuracy: 0.3961\n",
      "Epoch 11/20\n",
      "322/322 [==============================] - 10s 31ms/step - loss: 0.8990 - accuracy: 0.6028 - val_loss: 1.5212 - val_accuracy: 0.3790\n",
      "Epoch 12/20\n",
      "322/322 [==============================] - 8s 26ms/step - loss: 0.8527 - accuracy: 0.6156 - val_loss: 1.6159 - val_accuracy: 0.3899\n",
      "Epoch 13/20\n",
      "322/322 [==============================] - 7s 23ms/step - loss: 0.8234 - accuracy: 0.6302 - val_loss: 1.6380 - val_accuracy: 0.3821\n",
      "Epoch 14/20\n",
      "322/322 [==============================] - 7s 21ms/step - loss: 0.8020 - accuracy: 0.6429 - val_loss: 1.6654 - val_accuracy: 0.3860\n",
      "Epoch 15/20\n",
      "322/322 [==============================] - 6s 20ms/step - loss: 0.7784 - accuracy: 0.6528 - val_loss: 1.8192 - val_accuracy: 0.3907\n",
      "Epoch 16/20\n",
      "322/322 [==============================] - 7s 22ms/step - loss: 0.7524 - accuracy: 0.6724 - val_loss: 1.7816 - val_accuracy: 0.4086\n",
      "Epoch 17/20\n",
      "322/322 [==============================] - 9s 28ms/step - loss: 0.7123 - accuracy: 0.6830 - val_loss: 1.7561 - val_accuracy: 0.4039\n",
      "Epoch 18/20\n",
      "322/322 [==============================] - 16s 51ms/step - loss: 0.6810 - accuracy: 0.6937 - val_loss: 1.8938 - val_accuracy: 0.3883\n",
      "Epoch 19/20\n",
      "322/322 [==============================] - 10s 32ms/step - loss: 0.6605 - accuracy: 0.7106 - val_loss: 1.8289 - val_accuracy: 0.3961\n",
      "Epoch 20/20\n",
      "322/322 [==============================] - 7s 22ms/step - loss: 0.6404 - accuracy: 0.7258 - val_loss: 1.9772 - val_accuracy: 0.3953\n"
     ]
    },
    {
     "data": {
      "text/plain": [
       "<keras.callbacks.History at 0x7fa76ee4ea00>"
      ]
     },
     "execution_count": 94,
     "metadata": {},
     "output_type": "execute_result"
    }
   ],
   "source": [
    "# Train the CNN model\n",
    "model.fit(train_hog_hue_features, train_labels,\n",
    "                    batch_size=16,\n",
    "                    epochs=20,\n",
    "                    validation_data=(valid_hog_hue_features, valid_labels))\n"
   ]
  },
  {
   "cell_type": "code",
   "execution_count": 97,
   "id": "1fda998d",
   "metadata": {},
   "outputs": [
    {
     "name": "stdout",
     "output_type": "stream",
     "text": [
      "41/41 [==============================] - 0s 3ms/step\n"
     ]
    }
   ],
   "source": [
    "predict_valid = model.predict(valid_hog_hue_features)\n",
    "predict_classes_valid =np.argmax(predict_valid,axis=1)\n",
    "\n",
    "classes_valid_labels = np.argmax(valid_labels,axis=1)"
   ]
  },
  {
   "cell_type": "code",
   "execution_count": 98,
   "id": "2511b16a",
   "metadata": {},
   "outputs": [
    {
     "name": "stdout",
     "output_type": "stream",
     "text": [
      "Validation Classification Report:\n",
      "               precision    recall  f1-score   support\n",
      "\n",
      "           0       0.36      0.21      0.26       310\n",
      "           1       0.36      0.31      0.33       313\n",
      "           2       0.42      0.44      0.43       316\n",
      "           3       0.41      0.60      0.49       346\n",
      "\n",
      "    accuracy                           0.40      1285\n",
      "   macro avg       0.39      0.39      0.38      1285\n",
      "weighted avg       0.39      0.40      0.38      1285\n",
      "\n"
     ]
    }
   ],
   "source": [
    "# Get the class names from the generator (assuming it has the 'class_indices' attribute)\n",
    "class_indices = train_generator.class_indices\n",
    "class_names = list(class_indices.keys())\n",
    "\n",
    "# Calculate classification report for validation set\n",
    "valid_report = classification_report(classes_valid_labels, predict_classes_valid)\n",
    "print(\"Validation Classification Report:\\n\", valid_report)"
   ]
  }
 ],
 "metadata": {
  "kernelspec": {
   "display_name": "Python 3",
   "language": "python",
   "name": "python3"
  },
  "language_info": {
   "codemirror_mode": {
    "name": "ipython",
    "version": 3
   },
   "file_extension": ".py",
   "mimetype": "text/x-python",
   "name": "python",
   "nbconvert_exporter": "python",
   "pygments_lexer": "ipython3",
   "version": "3.8.8"
  }
 },
 "nbformat": 4,
 "nbformat_minor": 5
}
