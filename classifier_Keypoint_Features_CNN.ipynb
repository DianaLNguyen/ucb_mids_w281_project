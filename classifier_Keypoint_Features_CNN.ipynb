{
 "cells": [
  {
   "cell_type": "code",
   "execution_count": 1,
   "id": "048c5e7c",
   "metadata": {},
   "outputs": [
    {
     "name": "stdout",
     "output_type": "stream",
     "text": [
      "Requirement already satisfied: keras-tuner in /Users/keshajulien/venv-metal/lib/python3.11/site-packages (1.3.5)\r\n",
      "Requirement already satisfied: packaging in /Users/keshajulien/venv-metal/lib/python3.11/site-packages (from keras-tuner) (23.1)\r\n",
      "Requirement already satisfied: requests in /Users/keshajulien/venv-metal/lib/python3.11/site-packages (from keras-tuner) (2.31.0)\r\n",
      "Requirement already satisfied: kt-legacy in /Users/keshajulien/venv-metal/lib/python3.11/site-packages (from keras-tuner) (1.0.5)\r\n",
      "Requirement already satisfied: charset-normalizer<4,>=2 in /Users/keshajulien/venv-metal/lib/python3.11/site-packages (from requests->keras-tuner) (3.2.0)\r\n",
      "Requirement already satisfied: idna<4,>=2.5 in /Users/keshajulien/venv-metal/lib/python3.11/site-packages (from requests->keras-tuner) (3.4)\r\n",
      "Requirement already satisfied: urllib3<3,>=1.21.1 in /Users/keshajulien/venv-metal/lib/python3.11/site-packages (from requests->keras-tuner) (1.26.16)\r\n",
      "Requirement already satisfied: certifi>=2017.4.17 in /Users/keshajulien/venv-metal/lib/python3.11/site-packages (from requests->keras-tuner) (2023.7.22)\r\n"
     ]
    }
   ],
   "source": [
    "# !pip install matplotlib scikit-image\n",
    "!pip install keras-tuner\n",
    "\n",
    "import pandas as pd\n",
    "import numpy as np\n",
    "import cv2\n",
    "import tensorflow as tf\n",
    "import matplotlib.pyplot as plt\n",
    "import matplotlib.patches as patches\n",
    "\n",
    "from tensorflow.keras.models import Sequential\n",
    "from tensorflow.keras.layers import Dense, Dropout\n",
    "from tensorflow.keras.optimizers import Adam\n",
    "from tensorflow.keras.utils import to_categorical\n",
    "from tensorflow.keras.preprocessing.image import load_img, img_to_array\n",
    "from tensorflow.keras.preprocessing.image import ImageDataGenerator\n",
    "\n",
    "from skimage.io import imread\n",
    "from skimage.color import rgb2gray\n",
    "from skimage import exposure\n",
    "from skimage import color\n",
    "from skimage.feature import SIFT\n",
    "from skimage.filters import threshold_otsu\n",
    "from skimage.filters import threshold_local\n",
    "from skimage.morphology import binary_erosion\n",
    "from skimage.measure import regionprops, find_contours\n",
    "\n",
    "from sklearn.model_selection import train_test_split\n",
    "from sklearn.metrics import classification_report\n",
    "from sklearn.metrics import precision_score, recall_score, f1_score\n",
    "from sklearn.metrics import accuracy_score, confusion_matrix, ConfusionMatrixDisplay\n",
    "from sklearn.decomposition import PCA\n",
    "from sklearn.preprocessing import StandardScaler\n",
    "from sklearn.svm import SVC\n",
    "from sklearn.metrics import accuracy_score\n",
    "from sklearn.model_selection import GridSearchCV\n",
    "\n",
    "\n",
    "\n",
    "import warnings\n",
    "warnings.filterwarnings('ignore')"
   ]
  },
  {
   "cell_type": "code",
   "execution_count": 2,
   "id": "8cda539c",
   "metadata": {},
   "outputs": [
    {
     "data": {
      "text/html": [
       "<div>\n",
       "<style scoped>\n",
       "    .dataframe tbody tr th:only-of-type {\n",
       "        vertical-align: middle;\n",
       "    }\n",
       "\n",
       "    .dataframe tbody tr th {\n",
       "        vertical-align: top;\n",
       "    }\n",
       "\n",
       "    .dataframe thead th {\n",
       "        text-align: right;\n",
       "    }\n",
       "</style>\n",
       "<table border=\"1\" class=\"dataframe\">\n",
       "  <thead>\n",
       "    <tr style=\"text-align: right;\">\n",
       "      <th></th>\n",
       "      <th>filepaths</th>\n",
       "      <th>suit</th>\n",
       "    </tr>\n",
       "  </thead>\n",
       "  <tbody>\n",
       "    <tr>\n",
       "      <th>0</th>\n",
       "      <td>DatasetPreProcessed/train/ace of clubs/001.jpg</td>\n",
       "      <td>clubs</td>\n",
       "    </tr>\n",
       "    <tr>\n",
       "      <th>1</th>\n",
       "      <td>DatasetPreProcessed/train/ace of clubs/002.jpg</td>\n",
       "      <td>clubs</td>\n",
       "    </tr>\n",
       "    <tr>\n",
       "      <th>2</th>\n",
       "      <td>DatasetPreProcessed/train/ace of clubs/003.jpg</td>\n",
       "      <td>clubs</td>\n",
       "    </tr>\n",
       "    <tr>\n",
       "      <th>3</th>\n",
       "      <td>DatasetPreProcessed/train/ace of clubs/004.jpg</td>\n",
       "      <td>clubs</td>\n",
       "    </tr>\n",
       "    <tr>\n",
       "      <th>4</th>\n",
       "      <td>DatasetPreProcessed/train/ace of clubs/005.jpg</td>\n",
       "      <td>clubs</td>\n",
       "    </tr>\n",
       "  </tbody>\n",
       "</table>\n",
       "</div>"
      ],
      "text/plain": [
       "                                        filepaths   suit\n",
       "0  DatasetPreProcessed/train/ace of clubs/001.jpg  clubs\n",
       "1  DatasetPreProcessed/train/ace of clubs/002.jpg  clubs\n",
       "2  DatasetPreProcessed/train/ace of clubs/003.jpg  clubs\n",
       "3  DatasetPreProcessed/train/ace of clubs/004.jpg  clubs\n",
       "4  DatasetPreProcessed/train/ace of clubs/005.jpg  clubs"
      ]
     },
     "execution_count": 2,
     "metadata": {},
     "output_type": "execute_result"
    }
   ],
   "source": [
    "# Load the image paths and labels from the DataFrame\n",
    "df = pd.read_csv('Dataset/cards.csv')\n",
    "\n",
    "# For column names that contain space, replace the space with an underscore\n",
    "df.columns = [c.replace(' ', '_') for c in df.columns]\n",
    "\n",
    "# Add suits column\n",
    "df['suit'] = df['labels'].str.split().str[-1]\n",
    "\n",
    "# Remove rows with jokers\n",
    "df = df[~df['suit'].str.contains('joker', case=False)]\n",
    "\n",
    "# Remove unwanted columns\n",
    "df = df.drop(columns = ['data_set'])\n",
    "df = df.drop(columns = ['class_index'])\n",
    "df = df.drop(columns = ['labels'])\n",
    "df = df.drop(columns = ['card_type'])\n",
    "\n",
    "# Add folder name to the filepath\n",
    "df['filepaths'] = df['filepaths'].apply(lambda x: 'DatasetPreProcessed/' + x)\n",
    "df.head()"
   ]
  },
  {
   "cell_type": "code",
   "execution_count": 3,
   "id": "2fabeb0a",
   "metadata": {},
   "outputs": [
    {
     "name": "stdout",
     "output_type": "stream",
     "text": [
      "Train Set - Class Distribution:\n",
      "spades      0.269171\n",
      "hearts      0.246010\n",
      "diamonds    0.243675\n",
      "clubs       0.241144\n",
      "Name: suit, dtype: float64\n",
      "Validation Set - Class Distribution:\n",
      "spades      0.269261\n",
      "hearts      0.245914\n",
      "diamonds    0.243580\n",
      "clubs       0.241245\n",
      "Name: suit, dtype: float64\n",
      "Test Set - Class Distribution:\n",
      "spades      0.268991\n",
      "hearts      0.245953\n",
      "diamonds    0.244085\n",
      "clubs       0.240971\n",
      "Name: suit, dtype: float64\n"
     ]
    }
   ],
   "source": [
    "# Split dataframe into train and test sets, stratified by the 'suit' column\n",
    "train_df, test_df = train_test_split(df, test_size=0.2, stratify=df['suit'], random_state=42)\n",
    "\n",
    "# Split train set into train and validation sets, stratified by the 'suit' column\n",
    "train_df, val_df = train_test_split(train_df, test_size=0.2, stratify=train_df['suit'], random_state=42)\n",
    "\n",
    "# Check class distribution in the train, validation, and test sets\n",
    "train_class_distribution = train_df['suit'].value_counts(normalize=True)\n",
    "val_class_distribution = val_df['suit'].value_counts(normalize=True)\n",
    "test_class_distribution = test_df['suit'].value_counts(normalize=True)\n",
    "\n",
    "print(\"Train Set - Class Distribution:\")\n",
    "print(train_class_distribution)\n",
    "\n",
    "print(\"Validation Set - Class Distribution:\")\n",
    "print(val_class_distribution)\n",
    "\n",
    "print(\"Test Set - Class Distribution:\")\n",
    "print(test_class_distribution)"
   ]
  },
  {
   "cell_type": "markdown",
   "id": "2b360a9b",
   "metadata": {},
   "source": [
    "## Augment Images"
   ]
  },
  {
   "cell_type": "code",
   "execution_count": 4,
   "id": "2dd1b9bc",
   "metadata": {},
   "outputs": [
    {
     "name": "stdout",
     "output_type": "stream",
     "text": [
      "Found 5138 validated image filenames belonging to 4 classes.\n",
      "Found 1285 validated image filenames belonging to 4 classes.\n",
      "Found 1606 validated image filenames belonging to 4 classes.\n"
     ]
    }
   ],
   "source": [
    "# Initialize data generator class\n",
    "\n",
    "train_data_generator = ImageDataGenerator(\n",
    "    rescale = 1/255.0,\n",
    "    rotation_range= 45,\n",
    "    zoom_range= 0.2,\n",
    "    width_shift_range = 0.2,\n",
    "    height_shift_range = 0.2,\n",
    "    shear_range= 0.2,\n",
    "    horizontal_flip=True,\n",
    "    vertical_flip=True\n",
    ")\n",
    "\n",
    "test_data_generator = ImageDataGenerator(rescale = 1/255.0)\n",
    "\n",
    "# Create data generators for train, validation, and test\n",
    "batch_size = 32\n",
    "\n",
    "train_generator = train_data_generator.flow_from_dataframe(\n",
    "    dataframe = train_df,\n",
    "    x_col = 'filepaths',\n",
    "    y_col = 'suit',\n",
    "    target_size = (224,224),\n",
    "    batch_size = batch_size,\n",
    "    class_mode = 'categorical'\n",
    ")\n",
    "\n",
    "valid_generator = train_data_generator.flow_from_dataframe(\n",
    "    dataframe = val_df,\n",
    "    x_col = 'filepaths',\n",
    "    y_col = 'suit',\n",
    "    target_size = (224,224),\n",
    "    batch_size = batch_size,\n",
    "    class_mode = 'categorical'\n",
    ")\n",
    "\n",
    "\n",
    "test_generator = test_data_generator.flow_from_dataframe(\n",
    "    dataframe = test_df,\n",
    "    x_col = 'filepaths',\n",
    "    y_col = 'suit',\n",
    "    target_size = (224,224),\n",
    "    batch_size = batch_size,\n",
    "    class_mode = 'categorical',\n",
    "    shuffle = False,\n",
    ")\n"
   ]
  },
  {
   "cell_type": "code",
   "execution_count": 5,
   "id": "7f021434",
   "metadata": {},
   "outputs": [],
   "source": [
    "# Load and preprocess the images\n",
    "def load_and_preprocess_image(filepath):\n",
    "    image = cv2.imread(filepath)\n",
    "    image = cv2.cvtColor(image, cv2.COLOR_BGR2RGB)\n",
    "    image = cv2.resize(image, (224, 224))\n",
    "    return image\n",
    "\n",
    "# Convert to image to grayscale\n",
    "def convert_to_grayscale(images):\n",
    "    gray_images = np.array([cv2.cvtColor(img, cv2.COLOR_RGB2GRAY) for img in images])\n",
    "    gray_images = gray_images.astype(np.uint8)\n",
    "    return gray_images"
   ]
  },
  {
   "cell_type": "code",
   "execution_count": 6,
   "id": "8dccec1c",
   "metadata": {},
   "outputs": [],
   "source": [
    "# Extract Keypoint Features and Descriptors\n",
    "def detect_and_extract_keypoints(images):\n",
    "    # Initialise SIFT \n",
    "    detector_and_extractor = SIFT(upsampling=2, \n",
    "                              n_octaves=10, \n",
    "                              n_scales=10, \n",
    "                              sigma_min=1.2, \n",
    "                              sigma_in=0.5, \n",
    "                              c_dog=0.01, \n",
    "                              c_edge=20, \n",
    "                              n_bins=36, \n",
    "                              lambda_ori=1.5, \n",
    "                              c_max=0.8, \n",
    "                              lambda_descr=6, \n",
    "                              n_hist=4, \n",
    "                              n_ori=8\n",
    "                             )\n",
    "\n",
    "    keypoint_descriptors = []\n",
    "    keypoint_features = []\n",
    "    keypoint_pixels = []\n",
    "\n",
    "    for image in images:\n",
    "        # Detect and extract keypoint features and descriptors\n",
    "        detector_and_extractor.detect_and_extract(image)\n",
    "        key_features = detector_and_extractor.keypoints\n",
    "        key_descriptors = detector_and_extractor.descriptors\n",
    "\n",
    "        if len(key_features) > 0:\n",
    "            key_pixels = []\n",
    "\n",
    "            for point in key_features:\n",
    "                key_pixel = image[point[0], point[1]]\n",
    "                key_pixel = key_pixel/255\n",
    "                key_pixels.append(key_pixel)\n",
    "        \n",
    "            keypoint_pixels.append(key_pixels)\n",
    "            keypoint_descriptors.append(key_descriptors)\n",
    "            keypoint_features.append(key_features)\n",
    "\n",
    "    # Setting the minimum number of features detected in an image\n",
    "    min_feature_vec_len = 100\n",
    "\n",
    "    # Slicing all the features, descriptors and pixels to the same length\n",
    "    sliced_keypoint_feactures = np.array([feat_vec[:min_feature_vec_len] for feat_vec in keypoint_features])\n",
    "    sliced_keypoint_descriptor = np.array([feat_vec[:min_feature_vec_len] for feat_vec in keypoint_descriptors])\n",
    "    sliced_keypoint_pixels = np.array([feat_vec[:min_feature_vec_len] for feat_vec in keypoint_pixels])\n",
    "    return sliced_keypoint_feactures, sliced_keypoint_descriptor, sliced_keypoint_pixels\n",
    "\n",
    "# Flatten the feature vectors\n",
    "def flatten_images(image_dataset):\n",
    "    flattened_images = []\n",
    "\n",
    "    for image in image_dataset:\n",
    "        image = image/255\n",
    "        flat_image = np.ravel(image)\n",
    "        flattened_images.append(flat_image)\n",
    "        \n",
    "    return np.array(flattened_images)\n",
    "\n"
   ]
  },
  {
   "cell_type": "code",
   "execution_count": 7,
   "id": "3d9e2e4b",
   "metadata": {},
   "outputs": [],
   "source": [
    "# Load data from the generators\n",
    "train_images = np.array([load_and_preprocess_image(train_generator.filepaths[i]) for i in range(len(train_generator.filenames))])\n",
    "valid_images = np.array([load_and_preprocess_image(valid_generator.filepaths[j]) for j in range(len(valid_generator.filenames))])\n",
    "test_images = np.array([load_and_preprocess_image(test_generator.filepaths[k]) for k in range(len(test_generator.filenames))])\n",
    "\n",
    "# Convert to grayscale\n",
    "train_gray_images = convert_to_grayscale(train_images)\n",
    "valid_gray_images = convert_to_grayscale(valid_images)\n",
    "test_gray_images = convert_to_grayscale(test_images)\n",
    "\n",
    "# Extract Keypoint Feature Pixels\n",
    "train_keypoint_pixels = detect_and_extract_keypoints(train_gray_images)\n",
    "valid_keypoint_pixels = detect_and_extract_keypoints(valid_gray_images)\n",
    "test_keypoint_pixels = detect_and_extract_keypoints(test_gray_images)\n",
    "\n",
    "# Flatten the descriptor files\n",
    "train_flat_descriptors = flatten_images(train_keypoint_pixels[1])\n",
    "val_flat_descriptors = flatten_images(valid_keypoint_pixels[1])\n",
    "test_flat_descriptors = flatten_images(test_keypoint_pixels[1])\n",
    "\n",
    "# Create the Feature vector\n",
    "flattened_train_images = np.hstack((train_flat_descriptors, train_keypoint_pixels[2]))\n",
    "flattened_validation_images = np.hstack((val_flat_descriptors, valid_keypoint_pixels[2]))\n",
    "flattened_test_images = np.hstack((test_flat_descriptors, test_keypoint_pixels[2]))\n",
    "\n",
    "# Convert labels to arrays and one-hot encode\n",
    "train_labels = to_categorical(train_generator.labels, num_classes=4)\n",
    "valid_labels = to_categorical(valid_generator.labels, num_classes=4)\n",
    "test_labels = to_categorical(test_generator.labels, num_classes=4)\n"
   ]
  },
  {
   "cell_type": "code",
   "execution_count": 17,
   "id": "5377446c",
   "metadata": {},
   "outputs": [],
   "source": [
    "# Convert labels to arrays and one-hot encode\n",
    "train_labels = to_categorical(train_generator.labels, num_classes=4)\n",
    "valid_labels = to_categorical(valid_generator.labels, num_classes=4)\n",
    "test_labels = to_categorical(test_generator.labels, num_classes=4)"
   ]
  },
  {
   "cell_type": "code",
   "execution_count": 18,
   "id": "9836ee4f",
   "metadata": {},
   "outputs": [
    {
     "name": "stderr",
     "output_type": "stream",
     "text": [
      "WARNING:absl:At this time, the v2.11+ optimizer `tf.keras.optimizers.Adam` runs slowly on M1/M2 Macs, please use the legacy Keras optimizer instead, located at `tf.keras.optimizers.legacy.Adam`.\n",
      "WARNING:absl:There is a known slowdown when using v2.11+ Keras optimizers on M1/M2 Macs. Falling back to the legacy Keras optimizer, i.e., `tf.keras.optimizers.legacy.Adam`.\n"
     ]
    }
   ],
   "source": [
    "# SVM using the train Keypoint features\n",
    "num_classes = 4\n",
    "\n",
    "model = Sequential()\n",
    "model.add(Dense(32, activation='relu', input_shape=(flattened_train_images.shape[1],)))\n",
    "model.add(Dropout(0.03))\n",
    "model.add(Dense(16, activation='relu'))\n",
    "model.add(Dropout(0.03))\n",
    "model.add(Dense(num_classes, activation='softmax'))\n",
    "\n",
    "model.compile(optimizer=Adam(learning_rate=0.0001), loss='categorical_crossentropy', metrics=['accuracy'])"
   ]
  },
  {
   "cell_type": "code",
   "execution_count": 19,
   "id": "801ad0ee",
   "metadata": {},
   "outputs": [
    {
     "name": "stdout",
     "output_type": "stream",
     "text": [
      "Epoch 1/7\n",
      "  1/161 [..............................] - ETA: 51s - loss: 1.4800 - accuracy: 0.2500"
     ]
    },
    {
     "name": "stderr",
     "output_type": "stream",
     "text": [
      "2023-08-02 16:52:58.335468: I tensorflow/core/grappler/optimizers/custom_graph_optimizer_registry.cc:114] Plugin optimizer for device_type GPU is enabled.\n"
     ]
    },
    {
     "name": "stdout",
     "output_type": "stream",
     "text": [
      "161/161 [==============================] - ETA: 0s - loss: 1.5849 - accuracy: 0.2604"
     ]
    },
    {
     "name": "stderr",
     "output_type": "stream",
     "text": [
      "2023-08-02 16:53:00.589538: I tensorflow/core/grappler/optimizers/custom_graph_optimizer_registry.cc:114] Plugin optimizer for device_type GPU is enabled.\n"
     ]
    },
    {
     "name": "stdout",
     "output_type": "stream",
     "text": [
      "161/161 [==============================] - 3s 16ms/step - loss: 1.5849 - accuracy: 0.2604 - val_loss: 1.3788 - val_accuracy: 0.2911\n",
      "Epoch 2/7\n",
      "161/161 [==============================] - 2s 13ms/step - loss: 1.4278 - accuracy: 0.3192 - val_loss: 1.3702 - val_accuracy: 0.3432\n",
      "Epoch 3/7\n",
      "161/161 [==============================] - 2s 13ms/step - loss: 1.3459 - accuracy: 0.3647 - val_loss: 1.3282 - val_accuracy: 0.3549\n",
      "Epoch 4/7\n",
      "161/161 [==============================] - 2s 13ms/step - loss: 1.3018 - accuracy: 0.3799 - val_loss: 1.3190 - val_accuracy: 0.3720\n",
      "Epoch 5/7\n",
      "161/161 [==============================] - 2s 13ms/step - loss: 1.2888 - accuracy: 0.4060 - val_loss: 1.3174 - val_accuracy: 0.3759\n",
      "Epoch 6/7\n",
      "161/161 [==============================] - 2s 13ms/step - loss: 1.2904 - accuracy: 0.4286 - val_loss: 1.2815 - val_accuracy: 0.4062\n",
      "Epoch 7/7\n",
      "161/161 [==============================] - 2s 13ms/step - loss: 1.2647 - accuracy: 0.4607 - val_loss: 1.2974 - val_accuracy: 0.3953\n"
     ]
    }
   ],
   "source": [
    "# Train the CNN model\n",
    "history = model.fit(flattened_train_images, train_labels,\n",
    "                    batch_size=32,\n",
    "                    epochs=7,\n",
    "                    validation_data=(flattened_validation_images, valid_labels))\n"
   ]
  },
  {
   "cell_type": "code",
   "execution_count": 20,
   "id": "b62f9e29",
   "metadata": {},
   "outputs": [
    {
     "name": "stdout",
     "output_type": "stream",
     "text": [
      "41/41 [==============================] - 0s 3ms/step\n"
     ]
    },
    {
     "name": "stderr",
     "output_type": "stream",
     "text": [
      "2023-08-02 16:53:23.756718: I tensorflow/core/grappler/optimizers/custom_graph_optimizer_registry.cc:114] Plugin optimizer for device_type GPU is enabled.\n"
     ]
    },
    {
     "name": "stdout",
     "output_type": "stream",
     "text": [
      "Validation Accuracy: 0.3953307392996109\n",
      "51/51 [==============================] - 0s 3ms/step\n",
      "Test Accuracy: 0.3823163138231631\n"
     ]
    }
   ],
   "source": [
    "# Make predictions on the validation set\n",
    "valid_predictions_probs = model.predict(flattened_validation_images)\n",
    "valid_predictions = np.argmax(valid_predictions_probs, axis=1)\n",
    "\n",
    "# Calculate validation accuracy\n",
    "valid_accuracy = accuracy_score(valid_generator.labels, valid_predictions)\n",
    "print(\"Validation Accuracy:\", valid_accuracy)\n",
    "\n",
    "# Make predictions on the test set\n",
    "test_predictions_probs = model.predict(flattened_test_images)\n",
    "test_predictions = np.argmax(test_predictions_probs, axis=1)\n",
    "\n",
    "# Calculate test accuracy\n",
    "test_accuracy = accuracy_score(test_generator.labels, test_predictions)\n",
    "print(\"Test Accuracy:\", test_accuracy)"
   ]
  },
  {
   "cell_type": "code",
   "execution_count": 21,
   "id": "f750b7c9",
   "metadata": {},
   "outputs": [
    {
     "name": "stdout",
     "output_type": "stream",
     "text": [
      "Validation Classification Report:\n",
      "               precision    recall  f1-score   support\n",
      "\n",
      "       clubs       0.58      0.28      0.38       310\n",
      "    diamonds       0.34      0.73      0.46       313\n",
      "      hearts       0.41      0.30      0.35       316\n",
      "      spades       0.44      0.27      0.34       346\n",
      "\n",
      "    accuracy                           0.40      1285\n",
      "   macro avg       0.44      0.40      0.38      1285\n",
      "weighted avg       0.44      0.40      0.38      1285\n",
      "\n",
      "Test Classification Report:\n",
      "               precision    recall  f1-score   support\n",
      "\n",
      "       clubs       0.50      0.26      0.35       387\n",
      "    diamonds       0.33      0.70      0.45       392\n",
      "      hearts       0.44      0.32      0.37       395\n",
      "      spades       0.37      0.25      0.30       432\n",
      "\n",
      "    accuracy                           0.38      1606\n",
      "   macro avg       0.41      0.39      0.37      1606\n",
      "weighted avg       0.41      0.38      0.37      1606\n",
      "\n"
     ]
    }
   ],
   "source": [
    "# Get the class names from the generator (assuming it has the 'class_indices' attribute)\n",
    "class_names = list(test_generator.class_indices.keys())\n",
    "\n",
    "# Calculate classification report for validation set\n",
    "valid_report = classification_report(valid_generator.labels, valid_predictions, target_names=class_names)\n",
    "print(\"Validation Classification Report:\\n\", valid_report)\n",
    "\n",
    "# Calculate classification report for test set\n",
    "test_report = classification_report(test_generator.labels, test_predictions, target_names=class_names)\n",
    "print(\"Test Classification Report:\\n\", test_report)"
   ]
  },
  {
   "cell_type": "code",
   "execution_count": 22,
   "id": "6853b181",
   "metadata": {},
   "outputs": [],
   "source": [
    "train_labels = np.array(train_generator.labels)\n",
    "valid_labels = np.array(valid_generator.labels)\n",
    "test_labels = np.array(test_generator.labels)"
   ]
  },
  {
   "cell_type": "code",
   "execution_count": 23,
   "id": "acee60b0",
   "metadata": {},
   "outputs": [
    {
     "data": {
      "image/png": "[encoded data removed]",
      "text/plain": [
       "<Figure size 640x480 with 2 Axes>"
      ]
     },
     "metadata": {},
     "output_type": "display_data"
    }
   ],
   "source": [
    "# Generating the confusion matrix for test dataset\n",
    "test_confusion_matrix = confusion_matrix(test_labels, test_predictions)\n",
    "\n",
    "# Displaying the confustion matrix\n",
    "test_display_matrix = ConfusionMatrixDisplay(confusion_matrix = test_confusion_matrix,\n",
    "                                             display_labels = class_names)\n",
    "\n",
    "# Display Confusion Matrix\n",
    "test_display_matrix.plot(cmap=plt.cm.Blues)\n",
    "test_display_matrix.ax_.set_title('Validation Confusion Matrix')\n",
    "plt.show()"
   ]
  },
  {
   "cell_type": "code",
   "execution_count": 24,
   "id": "8f33a2b5",
   "metadata": {},
   "outputs": [
    {
     "data": {
      "image/png": "[encoded data removed]",
      "text/plain": [
       "<Figure size 640x480 with 2 Axes>"
      ]
     },
     "metadata": {},
     "output_type": "display_data"
    }
   ],
   "source": [
    "# Generating the confusion matrix validation dataset\n",
    "val_confusion_matrix = confusion_matrix(valid_labels, valid_predictions)\n",
    "\n",
    "# Displaying the confustion matrix\n",
    "val_display_matrix = ConfusionMatrixDisplay(confusion_matrix = val_confusion_matrix,\n",
    "                                            display_labels = class_names)\n",
    "\n",
    "# Display Confusion Matrix\n",
    "val_display_matrix.plot(cmap=plt.cm.Blues)\n",
    "val_display_matrix.ax_.set_title('Validation Confusion Matrix')\n",
    "plt.show()"
   ]
  },
  {
   "cell_type": "code",
   "execution_count": null,
   "id": "f451fba5",
   "metadata": {},
   "outputs": [],
   "source": []
  }
 ],
 "metadata": {
  "kernelspec": {
   "display_name": "Python 3 (ipykernel)",
   "language": "python",
   "name": "python3"
  },
  "language_info": {
   "codemirror_mode": {
    "name": "ipython",
    "version": 3
   },
   "file_extension": ".py",
   "mimetype": "text/x-python",
   "name": "python",
   "nbconvert_exporter": "python",
   "pygments_lexer": "ipython3",
   "version": "3.9.15"
  }
 },
 "nbformat": 4,
 "nbformat_minor": 5
}
