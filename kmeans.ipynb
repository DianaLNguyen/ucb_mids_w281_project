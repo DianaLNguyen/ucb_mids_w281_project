{
 "cells": [
  {
   "cell_type": "code",
   "execution_count": 1,
   "id": "d5797caa",
   "metadata": {},
   "outputs": [],
   "source": [
    "import os\n",
    "import cv2\n",
    "import pandas as pd\n",
    "import numpy as np\n",
    "import matplotlib.pyplot as plt\n",
    "import sklearn\n",
    "from sklearn.cluster import KMeans\n",
    "from utils import *\n",
    "from feature_util import *\n",
    "from sklearn import preprocessing"
   ]
  },
  {
   "cell_type": "code",
   "execution_count": 2,
   "id": "5d9938cb",
   "metadata": {},
   "outputs": [],
   "source": [
    "#load data\n",
    "all_images, all_labels = load_images_and_augment()\n",
    "X_train, X_val, X_test, y_train, y_val, y_test = train_test_validation_split(all_images,all_labels)"
   ]
  },
  {
   "cell_type": "code",
   "execution_count": 44,
   "id": "cce8c61d",
   "metadata": {},
   "outputs": [],
   "source": [
    "#encodes the labels\n",
    "label_encoder = preprocessing.LabelEncoder()\n",
    "y_train_encoded = label_encoder.fit_transform(y_train)\n",
    "y_val_encoded = label_encoder.fit_transform(y_val)\n",
    "y_test_encoded = label_encoder.fit_transform(y_test)\n",
    "n_clusters = np.unique(y_train_encoded)"
   ]
  },
  {
   "cell_type": "code",
   "execution_count": 45,
   "id": "47ddf377",
   "metadata": {},
   "outputs": [],
   "source": [
    "#flattening dataset\n",
    "flat_X_train = []\n",
    "for image in (X_train):\n",
    "    flat_image = np.ravel(image)\n",
    "    flat_X_train.append(flat_image)"
   ]
  },
  {
   "cell_type": "code",
   "execution_count": 46,
   "id": "b48079d9",
   "metadata": {},
   "outputs": [],
   "source": [
    "#Performing KMeans on the grayscaled images\n",
    "kmeans = KMeans(n_clusters = 4, random_state = 10, init = 'k-means++', n_init = 5).fit(flat_X_train)"
   ]
  },
  {
   "cell_type": "code",
   "execution_count": 47,
   "id": "0ea554db",
   "metadata": {},
   "outputs": [
    {
     "name": "stdout",
     "output_type": "stream",
     "text": [
      "[3 2 1 ... 0 0 2]\n",
      "[2 0 3 ... 3 1 0]\n"
     ]
    }
   ],
   "source": [
    "#getting the labels of each of the images\n",
    "testing = kmeans.labels_\n",
    "\n",
    "#ground truth labels\n",
    "testing_gt = y_train_encoded\n",
    "print(testing)\n",
    "print(testing_gt)"
   ]
  },
  {
   "cell_type": "code",
   "execution_count": 48,
   "id": "b87f0869",
   "metadata": {},
   "outputs": [
    {
     "name": "stdout",
     "output_type": "stream",
     "text": [
      "0.24470734744707348\n"
     ]
    }
   ],
   "source": [
    "#accuracy metric\n",
    "acc_count = 0\n",
    "for i in range(len(y_test_encoded)):\n",
    "    if testing[i] == testing_gt[i]:\n",
    "        acc_count += 1\n",
    "\n",
    "total_accuracy = acc_count/len(y_test_encoded)\n",
    "print(total_accuracy)\n",
    "    "
   ]
  },
  {
   "cell_type": "code",
   "execution_count": 49,
   "id": "d385aded",
   "metadata": {},
   "outputs": [
    {
     "data": {
      "text/plain": [
       "12846"
      ]
     },
     "execution_count": 49,
     "metadata": {},
     "output_type": "execute_result"
    }
   ],
   "source": [
    "#KMEANS on KEY FEATURE POINTS\n",
    "\n",
    "#getting the main key points for each image\n",
    "image_kp = []\n",
    "image_labels = []\n",
    "kp_len = []\n",
    "\n",
    "for i in range(len(X_train)):\n",
    "\n",
    "    image  = X_train[i]\n",
    "    image = cv2.normalize(image,  None, 0, 255, cv2.NORM_MINMAX)\n",
    "    image = image.astype(np.uint8)\n",
    "    label = y_train[i]\n",
    "    pixels = key_point_pixels(image, 30)[0]\n",
    "    v_lengths = key_point_pixels(image, 30)[1]\n",
    "    kp_len.append(v_lengths)\n",
    "    image_kp.append(pixels)\n",
    "    image_labels.append(label)\n",
    "\n",
    "len(image_kp)"
   ]
  },
  {
   "cell_type": "code",
   "execution_count": 50,
   "id": "a665a081",
   "metadata": {},
   "outputs": [],
   "source": [
    "#finding the images with exactly 30 keypoints\n",
    "min_30_kp = []\n",
    "label_30_kp = []\n",
    "\n",
    "for i in range(len(image_kp)):\n",
    "    if kp_len[i] == 30:\n",
    "        min_30_kp.append(image_kp[i])\n",
    "        label_30_kp.append(image_labels[i])"
   ]
  },
  {
   "cell_type": "code",
   "execution_count": 51,
   "id": "7c5ec8eb",
   "metadata": {},
   "outputs": [],
   "source": [
    "#Performing KMeans on the pixels that were considered to be key feature points\n",
    "kmeans_kp =  KMeans(n_clusters = 4, random_state = 10, init = 'k-means++', n_init = 5).fit(min_30_kp)"
   ]
  },
  {
   "cell_type": "code",
   "execution_count": 54,
   "id": "183caed8",
   "metadata": {},
   "outputs": [
    {
     "name": "stdout",
     "output_type": "stream",
     "text": [
      "[3 3 2 1 0 2 2 0 3 3]\n",
      "[2 0 3 2 2 0 1 0 3 3]\n"
     ]
    }
   ],
   "source": [
    "#encoding the labels to do th comparison\n",
    "label_30_kp_encoded = label_encoder.fit_transform(label_30_kp)\n",
    "\n",
    "#getting the labels of each of the images\n",
    "kp_test = kmeans_kp.labels_\n",
    "\n",
    "#ground truth labels\n",
    "kp_test_gt = label_30_kp_encoded\n",
    "\n",
    "\n",
    "print(kp_test[:10])\n",
    "print(kp_test_gt[:10])"
   ]
  },
  {
   "cell_type": "code",
   "execution_count": 56,
   "id": "613080c1",
   "metadata": {},
   "outputs": [
    {
     "name": "stdout",
     "output_type": "stream",
     "text": [
      "0.25465628174737553\n"
     ]
    }
   ],
   "source": [
    "#calculating the accuracy of the clustering\n",
    "kp_accuracy_count = 0\n",
    "for i in range(len(kp_test)):\n",
    "    if kp_test[i] == kp_test_gt[i]:\n",
    "        kp_accuracy_count += 1\n",
    "\n",
    "total_kp_accuracy = kp_accuracy_count/len(kp_test_gt)\n",
    "print(total_kp_accuracy)"
   ]
  },
  {
   "cell_type": "code",
   "execution_count": null,
   "id": "bff11fd1",
   "metadata": {},
   "outputs": [],
   "source": []
  }
 ],
 "metadata": {
  "kernelspec": {
   "display_name": "Python 3 (ipykernel)",
   "language": "python",
   "name": "python3"
  },
  "language_info": {
   "codemirror_mode": {
    "name": "ipython",
    "version": 3
   },
   "file_extension": ".py",
   "mimetype": "text/x-python",
   "name": "python",
   "nbconvert_exporter": "python",
   "pygments_lexer": "ipython3",
   "version": "3.9.15"
  }
 },
 "nbformat": 4,
 "nbformat_minor": 5
}
