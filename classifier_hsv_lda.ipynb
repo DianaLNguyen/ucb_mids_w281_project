{
 "cells": [
  {
   "cell_type": "code",
   "execution_count": 1,
   "id": "048c5e7c",
   "metadata": {},
   "outputs": [],
   "source": [
    "import pandas as pd\n",
    "import numpy as np\n",
    "import cv2\n",
    "import tensorflow as tf\n",
    "import matplotlib.pyplot as plt\n",
    "import matplotlib.patches as patches\n",
    "from skimage.feature import hog\n",
    "from skimage import exposure\n",
    "\n",
    "from tensorflow.keras.models import Sequential\n",
    "from tensorflow.keras.layers import Dense, Dropout\n",
    "from tensorflow.keras.optimizers import Adam\n",
    "from tensorflow.keras.utils import to_categorical\n",
    "from tensorflow.keras.preprocessing.image import load_img, img_to_array\n",
    "from tensorflow.keras.preprocessing.image import ImageDataGenerator\n",
    "\n",
    "from skimage import exposure\n",
    "from skimage import color\n",
    "from skimage.filters import threshold_otsu\n",
    "from skimage.morphology import binary_erosion\n",
    "from skimage.measure import regionprops, find_contours\n",
    "from tensorflow.keras.preprocessing.image import load_img, img_to_array\n",
    "\n",
    "from sklearn.model_selection import train_test_split\n",
    "from sklearn.metrics import classification_report\n",
    "from sklearn.metrics import precision_score, recall_score, f1_score\n",
    "from sklearn.decomposition import PCA\n",
    "from sklearn.preprocessing import StandardScaler\n",
    "\n",
    "from sklearn.svm import SVC\n",
    "from sklearn.discriminant_analysis import LinearDiscriminantAnalysis\n",
    "from sklearn.metrics import accuracy_score\n",
    "from sklearn.metrics import confusion_matrix\n",
    "from sklearn.metrics import ConfusionMatrixDisplay\n",
    "from sklearn.model_selection import GridSearchCV\n",
    "\n",
    "from utils import *\n",
    "from feature_util import *\n",
    "\n",
    "\n",
    "\n"
   ]
  },
  {
   "cell_type": "code",
   "execution_count": 2,
   "id": "8cda539c",
   "metadata": {},
   "outputs": [
    {
     "data": {
      "text/html": [
       "<div>\n",
       "<style scoped>\n",
       "    .dataframe tbody tr th:only-of-type {\n",
       "        vertical-align: middle;\n",
       "    }\n",
       "\n",
       "    .dataframe tbody tr th {\n",
       "        vertical-align: top;\n",
       "    }\n",
       "\n",
       "    .dataframe thead th {\n",
       "        text-align: right;\n",
       "    }\n",
       "</style>\n",
       "<table border=\"1\" class=\"dataframe\">\n",
       "  <thead>\n",
       "    <tr style=\"text-align: right;\">\n",
       "      <th></th>\n",
       "      <th>filepaths</th>\n",
       "      <th>suit</th>\n",
       "    </tr>\n",
       "  </thead>\n",
       "  <tbody>\n",
       "    <tr>\n",
       "      <th>0</th>\n",
       "      <td>Dataset/train/ace of clubs/001.jpg</td>\n",
       "      <td>clubs</td>\n",
       "    </tr>\n",
       "    <tr>\n",
       "      <th>1</th>\n",
       "      <td>Dataset/train/ace of clubs/002.jpg</td>\n",
       "      <td>clubs</td>\n",
       "    </tr>\n",
       "    <tr>\n",
       "      <th>2</th>\n",
       "      <td>Dataset/train/ace of clubs/003.jpg</td>\n",
       "      <td>clubs</td>\n",
       "    </tr>\n",
       "    <tr>\n",
       "      <th>3</th>\n",
       "      <td>Dataset/train/ace of clubs/004.jpg</td>\n",
       "      <td>clubs</td>\n",
       "    </tr>\n",
       "    <tr>\n",
       "      <th>4</th>\n",
       "      <td>Dataset/train/ace of clubs/005.jpg</td>\n",
       "      <td>clubs</td>\n",
       "    </tr>\n",
       "  </tbody>\n",
       "</table>\n",
       "</div>"
      ],
      "text/plain": [
       "                            filepaths   suit\n",
       "0  Dataset/train/ace of clubs/001.jpg  clubs\n",
       "1  Dataset/train/ace of clubs/002.jpg  clubs\n",
       "2  Dataset/train/ace of clubs/003.jpg  clubs\n",
       "3  Dataset/train/ace of clubs/004.jpg  clubs\n",
       "4  Dataset/train/ace of clubs/005.jpg  clubs"
      ]
     },
     "execution_count": 2,
     "metadata": {},
     "output_type": "execute_result"
    }
   ],
   "source": [
    "# Load the image paths and labels from the DataFrame\n",
    "df = pd.read_csv('Dataset/cards.csv')\n",
    "\n",
    "# For column names that contain space, replace the space with an underscore\n",
    "df.columns = [c.replace(' ', '_') for c in df.columns]\n",
    "\n",
    "# Add suits column\n",
    "df['suit'] = df['labels'].str.split().str[-1]\n",
    "\n",
    "# Remove rows with jokers\n",
    "df = df[~df['suit'].str.contains('joker', case=False)]\n",
    "\n",
    "# Remove unwanted columns\n",
    "df = df.drop(columns = ['data_set'])\n",
    "df = df.drop(columns = ['class_index'])\n",
    "df = df.drop(columns = ['labels'])\n",
    "df = df.drop(columns = ['card_type'])\n",
    "\n",
    "# Add folder name to the filepath\n",
    "df['filepaths'] = df['filepaths'].apply(lambda x: 'Dataset/' + x)\n",
    "df.head()"
   ]
  },
  {
   "cell_type": "code",
   "execution_count": 3,
   "id": "2fabeb0a",
   "metadata": {},
   "outputs": [
    {
     "name": "stdout",
     "output_type": "stream",
     "text": [
      "Train Set - Class Distribution:\n",
      "spades      0.269171\n",
      "hearts      0.246010\n",
      "diamonds    0.243675\n",
      "clubs       0.241144\n",
      "Name: suit, dtype: float64\n",
      "Validation Set - Class Distribution:\n",
      "spades      0.269261\n",
      "hearts      0.245914\n",
      "diamonds    0.243580\n",
      "clubs       0.241245\n",
      "Name: suit, dtype: float64\n",
      "Test Set - Class Distribution:\n",
      "spades      0.268991\n",
      "hearts      0.245953\n",
      "diamonds    0.244085\n",
      "clubs       0.240971\n",
      "Name: suit, dtype: float64\n"
     ]
    }
   ],
   "source": [
    "# Split dataframe into train and test sets, stratified by the 'suit' column\n",
    "train_df, test_df = train_test_split(df, test_size=0.2, stratify=df['suit'], random_state=42)\n",
    "\n",
    "# Split train set into train and validation sets, stratified by the 'suit' column\n",
    "train_df, val_df = train_test_split(train_df, test_size=0.2, stratify=train_df['suit'], random_state=42)\n",
    "\n",
    "# Check class distribution in the train, validation, and test sets\n",
    "train_class_distribution = train_df['suit'].value_counts(normalize=True)\n",
    "val_class_distribution = val_df['suit'].value_counts(normalize=True)\n",
    "test_class_distribution = test_df['suit'].value_counts(normalize=True)\n",
    "\n",
    "print(\"Train Set - Class Distribution:\")\n",
    "print(train_class_distribution)\n",
    "\n",
    "print(\"Validation Set - Class Distribution:\")\n",
    "print(val_class_distribution)\n",
    "\n",
    "print(\"Test Set - Class Distribution:\")\n",
    "print(test_class_distribution)"
   ]
  },
  {
   "cell_type": "markdown",
   "id": "2b360a9b",
   "metadata": {},
   "source": [
    "## Augment Images"
   ]
  },
  {
   "cell_type": "code",
   "execution_count": 4,
   "id": "2dd1b9bc",
   "metadata": {},
   "outputs": [
    {
     "name": "stdout",
     "output_type": "stream",
     "text": [
      "Found 5138 validated image filenames belonging to 4 classes.\n",
      "Found 1285 validated image filenames belonging to 4 classes.\n",
      "Found 1606 validated image filenames belonging to 4 classes.\n"
     ]
    }
   ],
   "source": [
    "# Initialize data generator class\n",
    "\n",
    "train_data_generator = ImageDataGenerator(\n",
    "    #rescale = 1/255.0,   #Want 0 to 255 values for the color histogram\n",
    "    rotation_range= 45,\n",
    "    zoom_range= 0.2,\n",
    "    width_shift_range = 0.2,\n",
    "    height_shift_range = 0.2,\n",
    "    shear_range= 0.2,\n",
    "    horizontal_flip=True,\n",
    "    vertical_flip=True\n",
    ")\n",
    "\n",
    "test_data_generator = ImageDataGenerator() #rescale = 1/255.0) #want 0 to 255 values for the color histogram\n",
    "\n",
    "# Create data generators for train, validation, and test\n",
    "batch_size = 32\n",
    "\n",
    "train_generator = train_data_generator.flow_from_dataframe(\n",
    "    dataframe = train_df,\n",
    "    x_col = 'filepaths',\n",
    "    y_col = 'suit',\n",
    "    target_size = (224,224),\n",
    "    batch_size = batch_size,\n",
    "    class_mode = 'categorical',\n",
    "    shuffle=False\n",
    ")\n",
    "\n",
    "valid_generator = test_data_generator.flow_from_dataframe( #change this to use test_data_generator since don't want to augment the valid images\n",
    "    dataframe = val_df,\n",
    "    x_col = 'filepaths',\n",
    "    y_col = 'suit',\n",
    "    target_size = (224,224),\n",
    "    batch_size = batch_size,\n",
    "    class_mode = 'categorical',\n",
    "    shuffle=False\n",
    ")\n",
    "\n",
    "test_generator = test_data_generator.flow_from_dataframe( #change this to use test_data_generator since don't want to augment the valid images\n",
    "    dataframe = test_df,\n",
    "    x_col = 'filepaths',\n",
    "    y_col = 'suit',\n",
    "    target_size = (224,224),\n",
    "    batch_size = batch_size,\n",
    "    class_mode = 'categorical',\n",
    "    shuffle=False\n",
    ")\n"
   ]
  },
  {
   "cell_type": "markdown",
   "id": "13e5af2a",
   "metadata": {},
   "source": [
    "### Hue"
   ]
  },
  {
   "cell_type": "code",
   "execution_count": 5,
   "id": "43437342",
   "metadata": {},
   "outputs": [],
   "source": [
    "\n",
    "def hist_hue(image):\n",
    "    \n",
    "    # Convert the image from RGB to HSV\n",
    "    image_hsv = cv2.cvtColor(image, cv2.COLOR_RGB2HSV)\n",
    "    \n",
    "    # Calculate histograms for each channel\n",
    "    hist_hue = cv2.calcHist([image_hsv], [0], None , [255], [0, 256]).astype(np.uint8)\n",
    "\n",
    "    #normalize \n",
    "    hist_hue_normalized = (hist_hue - np.min(hist_hue)) / (np.max(hist_hue)  - np.min(hist_hue) )\n",
    "    \n",
    "    # Scale the normalized histogram to have values between 0 and 255\n",
    "    hist_hue_scaled = (hist_hue_normalized * 255).astype(np.uint8)\n",
    "    \n",
    "    return hist_hue_scaled\n",
    "\n",
    "# Function to compute hsv features for a batch of images\n",
    "def extract_hue_features_from_generator(data_generator):\n",
    "    hsv_features = []\n",
    "    labels = []\n",
    "    num_batches = len(data_generator)\n",
    "    \n",
    "    for _ in range(num_batches):\n",
    "        batch_images, class_labels = data_generator.next()  # Get the next batch of augmented images (ignoring the labels)\n",
    "        \n",
    "        # Compute hue features for each image in the batch\n",
    "        for image, label in zip(batch_images,class_labels):\n",
    "            hue_feature = hist_hue(image).flatten()  \n",
    "            hsv_features.append(hue_feature)\n",
    "            label = list(label)\n",
    "            labels.append(label)\n",
    "            \n",
    "    return np.array(hsv_features),labels\n",
    "\n",
    "\n"
   ]
  },
  {
   "cell_type": "code",
   "execution_count": 6,
   "id": "824f9848",
   "metadata": {},
   "outputs": [
    {
     "name": "stderr",
     "output_type": "stream",
     "text": [
      "<ipython-input-5-d33417abbb76>:10: RuntimeWarning: invalid value encountered in true_divide\n",
      "  hist_hue_normalized = (hist_hue - np.min(hist_hue)) / (np.max(hist_hue)  - np.min(hist_hue) )\n"
     ]
    }
   ],
   "source": [
    "\n",
    "train_hue_features, train_labels = extract_hue_features_from_generator(train_generator)\n",
    "valid_hue_features, valid_labels = extract_hue_features_from_generator(valid_generator)\n",
    "test_hue_features, test_labels = extract_hue_features_from_generator(test_generator)\n",
    "\n",
    "train_labels = np.array(train_labels)\n",
    "valid_labels = np.array(valid_labels)\n",
    "test_labels = np.array(test_labels)"
   ]
  },
  {
   "cell_type": "markdown",
   "id": "abf90ed0",
   "metadata": {},
   "source": [
    "### LDA Classification"
   ]
  },
  {
   "cell_type": "code",
   "execution_count": 7,
   "id": "294f5130",
   "metadata": {},
   "outputs": [
    {
     "data": {
      "text/plain": [
       "array([171, 238, 244,  27,  93, 224, 176, 156,  12, 225,  55, 137,  14,\n",
       "       148, 142, 125,  96,  84,  89, 110, 115, 199,  81,  97, 146, 248,\n",
       "         0, 158, 129,  18,   6, 217, 232, 255, 248, 124, 135, 110, 151,\n",
       "        56, 220, 141,  92, 222, 162,  73,  92, 170, 161, 191, 142,  82,\n",
       "        38,  12,  19,  65,  53,  47,  96, 175, 206, 190, 168, 175, 166,\n",
       "       192, 187, 101, 247, 166, 188, 211, 150, 129, 132, 135, 106, 115,\n",
       "        91, 124,  83,  99, 110, 100,  99,  90,  63,  85,  82,  94,  97,\n",
       "       102, 123,  55,  61,  58,  63,  42,  47,  56,  55,  52,  37,  41,\n",
       "        35,  34,  33,  35,  29,  32,  44,  29,  21,  27,  24,  21,  23,\n",
       "        22,  22,  31,  20,  16,  27,  28,  25,  20,  22,  20,  21,  23,\n",
       "        22,  22,  17,  16,  19,  17,  14,  14,  28,  21,  12,  16,  20,\n",
       "        15,  13,  13,  18,  19,   9,  13,   7,  13,  12,  13,  10,  10,\n",
       "        12,  16,  16,  29,  12,   7,   4,  19,   7,  12,  15,  12,  11,\n",
       "        11,   9,   7,   7,   6,   9,   6,   3,   6,   8,  10,   7,   4,\n",
       "         7,   7,   7,   8,   4,   7,  17,  10,   3,  10,   6,   6,   6,\n",
       "        11,   7,   7,   2,   8,   4,   7,  11,  11,   8,   7,   5,   8,\n",
       "         5,   5,   3,   4,   6,   7,   6,   6,   6,   9,   7,  46,   5,\n",
       "         7,   6,   6,   3,   3,  10,   9,   6,   3,   7,   4,   8,   7,\n",
       "         4,  13,   4,   6,   8,   7,   3,   5,   8,   8,   5,   4,   9,\n",
       "         9,   2,   7,   7,   7,   6,   7,  11], dtype=uint8)"
      ]
     },
     "execution_count": 7,
     "metadata": {},
     "output_type": "execute_result"
    }
   ],
   "source": [
    "train_hue_features[25]"
   ]
  },
  {
   "cell_type": "code",
   "execution_count": 8,
   "id": "1bed53fe",
   "metadata": {},
   "outputs": [
    {
     "name": "stdout",
     "output_type": "stream",
     "text": [
      "Validation Accuracy: 0.4178988326848249\n"
     ]
    }
   ],
   "source": [
    "# Initialize and fit the LDA model\n",
    "lda_model = LinearDiscriminantAnalysis()\n",
    "lda_model.fit(train_hue_features, train_generator.labels)\n",
    "\n",
    "# Transform the validation features to the LDA space\n",
    "valid_features_lda = lda_model.transform(valid_hue_features)\n",
    "\n",
    "# Predict on the validation data\n",
    "valid_predictions = lda_model.predict(valid_hue_features)\n",
    "\n",
    "\n",
    "# Calculate the accuracy of the LDA model\n",
    "accuracy = accuracy_score(valid_generator.labels,valid_predictions)\n",
    "print(\"Validation Accuracy:\", accuracy)"
   ]
  },
  {
   "cell_type": "code",
   "execution_count": 9,
   "id": "381d9a15",
   "metadata": {},
   "outputs": [
    {
     "name": "stdout",
     "output_type": "stream",
     "text": [
      "Validation Classification Report:\n",
      "               precision    recall  f1-score   support\n",
      "\n",
      "           0       0.42      0.19      0.26       310\n",
      "           1       0.39      0.15      0.22       313\n",
      "           2       0.39      0.72      0.51       316\n",
      "           3       0.45      0.59      0.51       346\n",
      "\n",
      "    accuracy                           0.42      1285\n",
      "   macro avg       0.42      0.41      0.37      1285\n",
      "weighted avg       0.42      0.42      0.38      1285\n",
      "\n"
     ]
    }
   ],
   "source": [
    "# Get the class names from the generator (assuming it has the 'class_indices' attribute)\n",
    "class_indices = train_generator.class_indices\n",
    "class_names = list(class_indices.keys())\n",
    "\n",
    "# Calculate classification report for validation set\n",
    "valid_report = classification_report(valid_generator.labels, valid_predictions)\n",
    "print(\"Validation Classification Report:\\n\", valid_report)\n"
   ]
  },
  {
   "cell_type": "code",
   "execution_count": 10,
   "id": "195adf20",
   "metadata": {},
   "outputs": [
    {
     "data": {
      "text/plain": [
       "<sklearn.metrics._plot.confusion_matrix.ConfusionMatrixDisplay at 0x7f8f33216ee0>"
      ]
     },
     "execution_count": 10,
     "metadata": {},
     "output_type": "execute_result"
    },
    {
     "data": {
      "image/png": "[encoded data removed]",
      "text/plain": [
       "<Figure size 432x288 with 2 Axes>"
      ]
     },
     "metadata": {
      "needs_background": "light"
     },
     "output_type": "display_data"
    }
   ],
   "source": [
    "confusion = confusion_matrix(valid_generator.labels,valid_predictions)\n",
    "disp = ConfusionMatrixDisplay(confusion,display_labels = class_names)\n",
    "disp.plot()"
   ]
  },
  {
   "cell_type": "markdown",
   "id": "a509af81",
   "metadata": {},
   "source": [
    "### Grid search LDA: "
   ]
  },
  {
   "cell_type": "code",
   "execution_count": 11,
   "id": "61dc8bda",
   "metadata": {},
   "outputs": [
    {
     "name": "stderr",
     "output_type": "stream",
     "text": [
      "/Users/caseyhahn/opt/anaconda3/lib/python3.8/site-packages/sklearn/model_selection/_validation.py:610: FitFailedWarning: Estimator fit failed. The score on this train-test partition for these parameters will be set to nan. Details: \n",
      "Traceback (most recent call last):\n",
      "  File \"/Users/caseyhahn/opt/anaconda3/lib/python3.8/site-packages/sklearn/model_selection/_validation.py\", line 593, in _fit_and_score\n",
      "    estimator.fit(X_train, y_train, **fit_params)\n",
      "  File \"/Users/caseyhahn/opt/anaconda3/lib/python3.8/site-packages/sklearn/discriminant_analysis.py\", line 547, in fit\n",
      "    raise NotImplementedError('shrinkage not supported')\n",
      "NotImplementedError: shrinkage not supported\n",
      "\n",
      "  warnings.warn(\"Estimator fit failed. The score on this train-test\"\n",
      "/Users/caseyhahn/opt/anaconda3/lib/python3.8/site-packages/sklearn/model_selection/_validation.py:610: FitFailedWarning: Estimator fit failed. The score on this train-test partition for these parameters will be set to nan. Details: \n",
      "Traceback (most recent call last):\n",
      "  File \"/Users/caseyhahn/opt/anaconda3/lib/python3.8/site-packages/sklearn/model_selection/_validation.py\", line 593, in _fit_and_score\n",
      "    estimator.fit(X_train, y_train, **fit_params)\n",
      "  File \"/Users/caseyhahn/opt/anaconda3/lib/python3.8/site-packages/sklearn/discriminant_analysis.py\", line 547, in fit\n",
      "    raise NotImplementedError('shrinkage not supported')\n",
      "NotImplementedError: shrinkage not supported\n",
      "\n",
      "  warnings.warn(\"Estimator fit failed. The score on this train-test\"\n",
      "/Users/caseyhahn/opt/anaconda3/lib/python3.8/site-packages/sklearn/model_selection/_validation.py:610: FitFailedWarning: Estimator fit failed. The score on this train-test partition for these parameters will be set to nan. Details: \n",
      "Traceback (most recent call last):\n",
      "  File \"/Users/caseyhahn/opt/anaconda3/lib/python3.8/site-packages/sklearn/model_selection/_validation.py\", line 593, in _fit_and_score\n",
      "    estimator.fit(X_train, y_train, **fit_params)\n",
      "  File \"/Users/caseyhahn/opt/anaconda3/lib/python3.8/site-packages/sklearn/discriminant_analysis.py\", line 547, in fit\n",
      "    raise NotImplementedError('shrinkage not supported')\n",
      "NotImplementedError: shrinkage not supported\n",
      "\n",
      "  warnings.warn(\"Estimator fit failed. The score on this train-test\"\n",
      "/Users/caseyhahn/opt/anaconda3/lib/python3.8/site-packages/sklearn/model_selection/_validation.py:610: FitFailedWarning: Estimator fit failed. The score on this train-test partition for these parameters will be set to nan. Details: \n",
      "Traceback (most recent call last):\n",
      "  File \"/Users/caseyhahn/opt/anaconda3/lib/python3.8/site-packages/sklearn/model_selection/_validation.py\", line 593, in _fit_and_score\n",
      "    estimator.fit(X_train, y_train, **fit_params)\n",
      "  File \"/Users/caseyhahn/opt/anaconda3/lib/python3.8/site-packages/sklearn/discriminant_analysis.py\", line 547, in fit\n",
      "    raise NotImplementedError('shrinkage not supported')\n",
      "NotImplementedError: shrinkage not supported\n",
      "\n",
      "  warnings.warn(\"Estimator fit failed. The score on this train-test\"\n",
      "/Users/caseyhahn/opt/anaconda3/lib/python3.8/site-packages/sklearn/model_selection/_validation.py:610: FitFailedWarning: Estimator fit failed. The score on this train-test partition for these parameters will be set to nan. Details: \n",
      "Traceback (most recent call last):\n",
      "  File \"/Users/caseyhahn/opt/anaconda3/lib/python3.8/site-packages/sklearn/model_selection/_validation.py\", line 593, in _fit_and_score\n",
      "    estimator.fit(X_train, y_train, **fit_params)\n",
      "  File \"/Users/caseyhahn/opt/anaconda3/lib/python3.8/site-packages/sklearn/discriminant_analysis.py\", line 547, in fit\n",
      "    raise NotImplementedError('shrinkage not supported')\n",
      "NotImplementedError: shrinkage not supported\n",
      "\n",
      "  warnings.warn(\"Estimator fit failed. The score on this train-test\"\n",
      "/Users/caseyhahn/opt/anaconda3/lib/python3.8/site-packages/sklearn/model_selection/_validation.py:610: FitFailedWarning: Estimator fit failed. The score on this train-test partition for these parameters will be set to nan. Details: \n",
      "Traceback (most recent call last):\n",
      "  File \"/Users/caseyhahn/opt/anaconda3/lib/python3.8/site-packages/sklearn/model_selection/_validation.py\", line 593, in _fit_and_score\n",
      "    estimator.fit(X_train, y_train, **fit_params)\n",
      "  File \"/Users/caseyhahn/opt/anaconda3/lib/python3.8/site-packages/sklearn/discriminant_analysis.py\", line 547, in fit\n",
      "    raise NotImplementedError('shrinkage not supported')\n",
      "NotImplementedError: shrinkage not supported\n",
      "\n",
      "  warnings.warn(\"Estimator fit failed. The score on this train-test\"\n",
      "/Users/caseyhahn/opt/anaconda3/lib/python3.8/site-packages/sklearn/model_selection/_validation.py:610: FitFailedWarning: Estimator fit failed. The score on this train-test partition for these parameters will be set to nan. Details: \n",
      "Traceback (most recent call last):\n",
      "  File \"/Users/caseyhahn/opt/anaconda3/lib/python3.8/site-packages/sklearn/model_selection/_validation.py\", line 593, in _fit_and_score\n",
      "    estimator.fit(X_train, y_train, **fit_params)\n",
      "  File \"/Users/caseyhahn/opt/anaconda3/lib/python3.8/site-packages/sklearn/discriminant_analysis.py\", line 547, in fit\n",
      "    raise NotImplementedError('shrinkage not supported')\n",
      "NotImplementedError: shrinkage not supported\n",
      "\n",
      "  warnings.warn(\"Estimator fit failed. The score on this train-test\"\n",
      "/Users/caseyhahn/opt/anaconda3/lib/python3.8/site-packages/sklearn/model_selection/_validation.py:610: FitFailedWarning: Estimator fit failed. The score on this train-test partition for these parameters will be set to nan. Details: \n",
      "Traceback (most recent call last):\n",
      "  File \"/Users/caseyhahn/opt/anaconda3/lib/python3.8/site-packages/sklearn/model_selection/_validation.py\", line 593, in _fit_and_score\n",
      "    estimator.fit(X_train, y_train, **fit_params)\n",
      "  File \"/Users/caseyhahn/opt/anaconda3/lib/python3.8/site-packages/sklearn/discriminant_analysis.py\", line 547, in fit\n",
      "    raise NotImplementedError('shrinkage not supported')\n",
      "NotImplementedError: shrinkage not supported\n",
      "\n",
      "  warnings.warn(\"Estimator fit failed. The score on this train-test\"\n",
      "/Users/caseyhahn/opt/anaconda3/lib/python3.8/site-packages/sklearn/model_selection/_validation.py:610: FitFailedWarning: Estimator fit failed. The score on this train-test partition for these parameters will be set to nan. Details: \n",
      "Traceback (most recent call last):\n",
      "  File \"/Users/caseyhahn/opt/anaconda3/lib/python3.8/site-packages/sklearn/model_selection/_validation.py\", line 593, in _fit_and_score\n",
      "    estimator.fit(X_train, y_train, **fit_params)\n",
      "  File \"/Users/caseyhahn/opt/anaconda3/lib/python3.8/site-packages/sklearn/discriminant_analysis.py\", line 547, in fit\n",
      "    raise NotImplementedError('shrinkage not supported')\n",
      "NotImplementedError: shrinkage not supported\n",
      "\n",
      "  warnings.warn(\"Estimator fit failed. The score on this train-test\"\n",
      "/Users/caseyhahn/opt/anaconda3/lib/python3.8/site-packages/sklearn/model_selection/_validation.py:610: FitFailedWarning: Estimator fit failed. The score on this train-test partition for these parameters will be set to nan. Details: \n",
      "Traceback (most recent call last):\n",
      "  File \"/Users/caseyhahn/opt/anaconda3/lib/python3.8/site-packages/sklearn/model_selection/_validation.py\", line 593, in _fit_and_score\n",
      "    estimator.fit(X_train, y_train, **fit_params)\n",
      "  File \"/Users/caseyhahn/opt/anaconda3/lib/python3.8/site-packages/sklearn/discriminant_analysis.py\", line 547, in fit\n",
      "    raise NotImplementedError('shrinkage not supported')\n",
      "NotImplementedError: shrinkage not supported\n",
      "\n",
      "  warnings.warn(\"Estimator fit failed. The score on this train-test\"\n",
      "/Users/caseyhahn/opt/anaconda3/lib/python3.8/site-packages/sklearn/model_selection/_validation.py:610: FitFailedWarning: Estimator fit failed. The score on this train-test partition for these parameters will be set to nan. Details: \n",
      "Traceback (most recent call last):\n",
      "  File \"/Users/caseyhahn/opt/anaconda3/lib/python3.8/site-packages/sklearn/model_selection/_validation.py\", line 593, in _fit_and_score\n",
      "    estimator.fit(X_train, y_train, **fit_params)\n",
      "  File \"/Users/caseyhahn/opt/anaconda3/lib/python3.8/site-packages/sklearn/discriminant_analysis.py\", line 547, in fit\n",
      "    raise NotImplementedError('shrinkage not supported')\n",
      "NotImplementedError: shrinkage not supported\n",
      "\n",
      "  warnings.warn(\"Estimator fit failed. The score on this train-test\"\n",
      "/Users/caseyhahn/opt/anaconda3/lib/python3.8/site-packages/sklearn/model_selection/_validation.py:610: FitFailedWarning: Estimator fit failed. The score on this train-test partition for these parameters will be set to nan. Details: \n",
      "Traceback (most recent call last):\n",
      "  File \"/Users/caseyhahn/opt/anaconda3/lib/python3.8/site-packages/sklearn/model_selection/_validation.py\", line 593, in _fit_and_score\n",
      "    estimator.fit(X_train, y_train, **fit_params)\n",
      "  File \"/Users/caseyhahn/opt/anaconda3/lib/python3.8/site-packages/sklearn/discriminant_analysis.py\", line 547, in fit\n",
      "    raise NotImplementedError('shrinkage not supported')\n",
      "NotImplementedError: shrinkage not supported\n",
      "\n",
      "  warnings.warn(\"Estimator fit failed. The score on this train-test\"\n",
      "/Users/caseyhahn/opt/anaconda3/lib/python3.8/site-packages/sklearn/model_selection/_validation.py:610: FitFailedWarning: Estimator fit failed. The score on this train-test partition for these parameters will be set to nan. Details: \n",
      "Traceback (most recent call last):\n",
      "  File \"/Users/caseyhahn/opt/anaconda3/lib/python3.8/site-packages/sklearn/model_selection/_validation.py\", line 593, in _fit_and_score\n",
      "    estimator.fit(X_train, y_train, **fit_params)\n",
      "  File \"/Users/caseyhahn/opt/anaconda3/lib/python3.8/site-packages/sklearn/discriminant_analysis.py\", line 547, in fit\n",
      "    raise NotImplementedError('shrinkage not supported')\n",
      "NotImplementedError: shrinkage not supported\n",
      "\n",
      "  warnings.warn(\"Estimator fit failed. The score on this train-test\"\n",
      "/Users/caseyhahn/opt/anaconda3/lib/python3.8/site-packages/sklearn/model_selection/_validation.py:610: FitFailedWarning: Estimator fit failed. The score on this train-test partition for these parameters will be set to nan. Details: \n",
      "Traceback (most recent call last):\n",
      "  File \"/Users/caseyhahn/opt/anaconda3/lib/python3.8/site-packages/sklearn/model_selection/_validation.py\", line 593, in _fit_and_score\n",
      "    estimator.fit(X_train, y_train, **fit_params)\n",
      "  File \"/Users/caseyhahn/opt/anaconda3/lib/python3.8/site-packages/sklearn/discriminant_analysis.py\", line 547, in fit\n",
      "    raise NotImplementedError('shrinkage not supported')\n",
      "NotImplementedError: shrinkage not supported\n",
      "\n",
      "  warnings.warn(\"Estimator fit failed. The score on this train-test\"\n",
      "/Users/caseyhahn/opt/anaconda3/lib/python3.8/site-packages/sklearn/model_selection/_validation.py:610: FitFailedWarning: Estimator fit failed. The score on this train-test partition for these parameters will be set to nan. Details: \n",
      "Traceback (most recent call last):\n",
      "  File \"/Users/caseyhahn/opt/anaconda3/lib/python3.8/site-packages/sklearn/model_selection/_validation.py\", line 593, in _fit_and_score\n",
      "    estimator.fit(X_train, y_train, **fit_params)\n",
      "  File \"/Users/caseyhahn/opt/anaconda3/lib/python3.8/site-packages/sklearn/discriminant_analysis.py\", line 547, in fit\n",
      "    raise NotImplementedError('shrinkage not supported')\n",
      "NotImplementedError: shrinkage not supported\n",
      "\n",
      "  warnings.warn(\"Estimator fit failed. The score on this train-test\"\n"
     ]
    },
    {
     "name": "stderr",
     "output_type": "stream",
     "text": [
      "/Users/caseyhahn/opt/anaconda3/lib/python3.8/site-packages/sklearn/model_selection/_search.py:918: UserWarning: One or more of the test scores are non-finite: [0.38399876 0.38399876 0.38399876        nan 0.38497096 0.38497096\n",
      "        nan 0.39372942 0.39372942        nan 0.39820508 0.39820508]\n",
      "  warnings.warn(\n"
     ]
    },
    {
     "name": "stdout",
     "output_type": "stream",
     "text": [
      "Validation Accuracy with LDA: 0.4178988326848249\n",
      "Best Hyperparameters: {'shrinkage': None, 'solver': 'svd'}\n"
     ]
    }
   ],
   "source": [
    "param_grid = {\n",
    "    'solver': ['svd', 'lsqr', 'eigen'],  # Different solver options for LDA\n",
    "    'shrinkage': [None, 'auto', 0.1, 0.5],  # Shrinkage parameter (None means no shrinkage)\n",
    "}\n",
    "\n",
    "# Initialize the GridSearchCV with the LDA model and parameter grid\n",
    "grid_search = GridSearchCV(lda_model, param_grid, cv=5)\n",
    "\n",
    "# Fit the GridSearchCV on the training data\n",
    "grid_search.fit(train_hue_features, train_generator.labels)\n",
    "\n",
    "# Get the best LDA model from the grid search\n",
    "best_lda_model = grid_search.best_estimator_\n",
    "\n",
    "# Predict on the validation data using the best model\n",
    "valid_predictions = best_lda_model.predict(valid_hue_features)\n",
    "\n",
    "# Calculate the accuracy of the best LDA model\n",
    "accuracy = accuracy_score(valid_generator.labels, valid_predictions)\n",
    "print(\"Validation Accuracy with LDA:\", accuracy)\n",
    "\n",
    "# Print the best hyperparameters found by GridSearchCV\n",
    "print(\"Best Hyperparameters:\", grid_search.best_params_)"
   ]
  },
  {
   "cell_type": "markdown",
   "id": "bf64f43e",
   "metadata": {},
   "source": [
    "### hue and hog combined feature"
   ]
  },
  {
   "cell_type": "code",
   "execution_count": 22,
   "id": "59799125",
   "metadata": {},
   "outputs": [],
   "source": [
    "\n",
    "\n",
    "def extract_hog_hue_features_from_generator(data_generator):\n",
    "    hog_features = []\n",
    "    hsv_features = []\n",
    "    labels = []\n",
    "    num_batches = len(data_generator)\n",
    "    \n",
    "    for _ in range(num_batches):\n",
    "        batch_images, class_labels = data_generator.next()  # Get the next batch of augmented images (ignoring the labels)\n",
    "        \n",
    "        # Compute hue features for each image in the batch\n",
    "        for image, label in zip(batch_images,class_labels):\n",
    "            hue_feature = hist_hue(image).flatten()  \n",
    "            hsv_features.append(hue_feature)\n",
    "            label = list(label)\n",
    "            labels.append(label)\n",
    "            hog_features_channel = []\n",
    "            gray_image = cv2.cvtColor(image, cv2.COLOR_RGB2GRAY) \n",
    "            gray_image = gray_image.astype(np.uint8)\n",
    "            hog_feature = hog(gray_image, pixels_per_cell=(8, 8), cells_per_block=(2, 2))\n",
    "            hog_features.append(hog_feature)\n",
    "    hog_hue_feature = np.hstack((hog_features, hsv_features))\n",
    "            \n",
    "    return np.array(hog_hue_feature), np.array(labels)\n"
   ]
  },
  {
   "cell_type": "code",
   "execution_count": 23,
   "id": "88338537",
   "metadata": {},
   "outputs": [
    {
     "name": "stderr",
     "output_type": "stream",
     "text": [
      "<ipython-input-5-d33417abbb76>:10: RuntimeWarning: invalid value encountered in true_divide\n",
      "  hist_hue_normalized = (hist_hue - np.min(hist_hue)) / (np.max(hist_hue)  - np.min(hist_hue) )\n"
     ]
    }
   ],
   "source": [
    "train_hog_hue_features, train_labels = extract_hog_hue_features_from_generator(train_generator)\n",
    "valid_hog_hue_features, valid_labels = extract_hog_hue_features_from_generator(valid_generator)\n",
    "test_hog_hue_features, test_labels = extract_hog_hue_features_from_generator(test_generator)"
   ]
  },
  {
   "cell_type": "code",
   "execution_count": 25,
   "id": "31330b6c",
   "metadata": {},
   "outputs": [
    {
     "name": "stdout",
     "output_type": "stream",
     "text": [
      "Validation Accuracy: 0.3229571984435798\n"
     ]
    }
   ],
   "source": [
    "# Initialize and fit the LDA model\n",
    "lda_model = LinearDiscriminantAnalysis()\n",
    "lda_model.fit(train_hog_hue_features, train_generator.labels)\n",
    "\n",
    "# Transform the validation features to the LDA space\n",
    "valid_features_lda = lda_model.transform(valid_hog_hue_features)\n",
    "\n",
    "# Predict on the validation data\n",
    "valid_predictions = lda_model.predict(valid_hog_hue_features)\n",
    "\n",
    "\n",
    "# Calculate the accuracy of the LDA model\n",
    "accuracy = accuracy_score(valid_generator.labels,valid_predictions)\n",
    "print(\"Validation Accuracy:\", accuracy)"
   ]
  },
  {
   "cell_type": "code",
   "execution_count": 26,
   "id": "657cda70",
   "metadata": {},
   "outputs": [
    {
     "data": {
      "image/png": "[encoded data removed]",
      "text/plain": [
       "<Figure size 864x432 with 1 Axes>"
      ]
     },
     "metadata": {
      "needs_background": "light"
     },
     "output_type": "display_data"
    }
   ],
   "source": [
    "# Perform PCA on the HOG features.\n",
    "pca = PCA(n_components = 100)\n",
    "train_hog_hue_features_pca = pca.fit_transform(train_hog_hue_features)\n",
    "valid_hog_hue_features_pca = pca.fit_transform(valid_hog_hue_features)\n",
    "\n",
    "# Cumulative explained variance.\n",
    "explained_variance_ratio = pca.explained_variance_ratio_\n",
    "cumulative_explained_variance = np.cumsum(explained_variance_ratio)\n",
    "\n",
    "# Determine the number of principal components to plot with increments of 100.\n",
    "num_components = 100 #hog_hue_features_pca.shape[1]\n",
    "components_range = np.arange(1, num_components + 1, 10)\n",
    "\n",
    "plt.figure(figsize=(12, 6))\n",
    "plt.plot(components_range, cumulative_explained_variance[components_range - 1], marker='o')\n",
    "plt.xlabel('Number of Principal Components')\n",
    "plt.ylabel('Cumulative Explained Variance')\n",
    "plt.title('PCA - Cumulative Explained Variance')\n",
    "plt.xticks(components_range, fontsize=6)\n",
    "plt.grid(True)\n",
    "plt.show()"
   ]
  },
  {
   "cell_type": "code",
   "execution_count": 27,
   "id": "941bd020",
   "metadata": {},
   "outputs": [
    {
     "name": "stdout",
     "output_type": "stream",
     "text": [
      "Validation Accuracy: 0.3478599221789883\n"
     ]
    }
   ],
   "source": [
    "# Initialize and fit the LDA model\n",
    "lda_model = LinearDiscriminantAnalysis()\n",
    "lda_model.fit(train_hog_hue_features_pca, train_generator.labels)\n",
    "\n",
    "# Transform the validation features to the LDA space\n",
    "#valid_features_lda = lda_model.transform(valid_hog_hue_features_pca)\n",
    "\n",
    "# Predict on the validation data\n",
    "valid_predictions = lda_model.predict(valid_hog_hue_features_pca)\n",
    "\n",
    "\n",
    "# Calculate the accuracy of the LDA model\n",
    "accuracy = accuracy_score(valid_generator.labels,valid_predictions)\n",
    "print(\"Validation Accuracy:\", accuracy)"
   ]
  }
 ],
 "metadata": {
  "kernelspec": {
   "display_name": "Python 3",
   "language": "python",
   "name": "python3"
  },
  "language_info": {
   "codemirror_mode": {
    "name": "ipython",
    "version": 3
   },
   "file_extension": ".py",
   "mimetype": "text/x-python",
   "name": "python",
   "nbconvert_exporter": "python",
   "pygments_lexer": "ipython3",
   "version": "3.8.8"
  }
 },
 "nbformat": 4,
 "nbformat_minor": 5
}
