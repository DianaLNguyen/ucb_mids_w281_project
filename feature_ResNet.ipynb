{
 "cells": [
  {
   "cell_type": "code",
   "execution_count": null,
   "id": "db328c8b",
   "metadata": {},
   "outputs": [],
   "source": [
    "#!pip3 install opencv-python\n",
    "#!pip3 install scikit-image\n",
    "\n",
    "import os\n",
    "import cv2\n",
    "import pandas as pd\n",
    "import numpy as np\n",
    "import matplotlib.pyplot as plt\n",
    "import random\n",
    "import math\n",
    "\n",
    "from sklearn.model_selection import train_test_split\n",
    "\n",
    "from scipy.ndimage import convolve, binary_fill_holes\n",
    "from scipy.stats import mode\n",
    "\n",
    "from skimage import io, exposure\n",
    "from skimage.color import rgb2gray\n",
    "from skimage.feature import canny\n",
    "from skimage.transform import rotate, hough_line, hough_line_peaks, resize\n",
    "from skimage.filters import threshold_otsu, sobel, gaussian, threshold_local\n",
    "\n",
    "import tensorflow as tf\n",
    "from tensorflow.keras.layers import Input, Lambda, Dense, Flatten, GlobalAveragePooling2D\n",
    "from tensorflow.keras.models import Model\n",
    "from tensorflow.keras.applications import ResNet50\n",
    "from tensorflow.keras.preprocessing import image\n",
    "from tensorflow.keras.preprocessing.image import ImageDataGenerator, load_img, img_to_array\n",
    "from tensorflow.keras.models import Sequential\n",
    "from tensorflow.keras.optimizers.legacy import Adam\n",
    "\n",
    "\n",
    "from glob import glob\n",
    "\n",
    "\n",
    "from sklearn.model_selection import train_test_split\n",
    "from sklearn.preprocessing import OneHotEncoder\n",
    "from sklearn.metrics import precision_score, recall_score, f1_score"
   ]
  },
  {
   "cell_type": "code",
   "execution_count": null,
   "id": "075b4490",
   "metadata": {},
   "outputs": [],
   "source": [
    "# Load images from csv file\n",
    "\n",
    "path = pd.read_csv('Dataset/cards.csv')\n",
    "path_df = pd.DataFrame(path)\n",
    "# For column names that contain space, replace the space with an underscore\n",
    "path_df.columns = [c.replace(' ', '_') for c in path_df.columns]\n",
    "path_df.head()"
   ]
  },
  {
   "cell_type": "code",
   "execution_count": null,
   "id": "60422b49",
   "metadata": {},
   "outputs": [],
   "source": [
    "path_df['suit'] = path_df['labels'].str.split().str[-1]\n",
    "print(path_df['suit'].unique())"
   ]
  },
  {
   "cell_type": "code",
   "execution_count": null,
   "id": "bbdc3450",
   "metadata": {},
   "outputs": [],
   "source": [
    "# Remove rows with jokers\n",
    "path_df = path_df[~path_df['suit'].str.contains('joker', case=False)]\n",
    "card_suits = path_df['suit'].unique()\n",
    "print(card_suits)\n",
    "print(\"Unique suits without Jokers: \", path_df['suit'].unique())"
   ]
  },
  {
   "cell_type": "code",
   "execution_count": null,
   "id": "39d03283",
   "metadata": {},
   "outputs": [],
   "source": [
    "path_df.head()"
   ]
  },
  {
   "cell_type": "code",
   "execution_count": null,
   "id": "4552a493",
   "metadata": {},
   "outputs": [],
   "source": [
    "# def img(filepath):\n",
    "#     filename = 'Dataset/' + filepath\n",
    "#     image = cv2.imread(filename)\n",
    "#     rgb_image = cv2.cvtColor(image, cv2.COLOR_BGR2RGB)\n",
    "#     return rgb_image\n",
    "\n",
    "# # NORMALIZATION\n",
    "# def normalize_img(image):\n",
    "#     normalized = (img(image) - np.min(img(image)))/(np.max(img(image)) - np.min(img(image)))   \n",
    "#     return normalized\n",
    "\n",
    "# test_colored_image = 'train/ace of diamonds/112.jpg'\n",
    "# test_img = normalize_img(test_colored_image)\n",
    "# im = test_img\n",
    "\n",
    "# plt.imshow(im)\n",
    "# plt.show()"
   ]
  },
  {
   "cell_type": "code",
   "execution_count": null,
   "id": "e1c22676",
   "metadata": {},
   "outputs": [],
   "source": [
    "# path_df['image_pixels'] = path_df['filepaths'].apply(img)"
   ]
  },
  {
   "cell_type": "code",
   "execution_count": null,
   "id": "334fcc24",
   "metadata": {},
   "outputs": [],
   "source": [
    "# path_df.head()"
   ]
  },
  {
   "cell_type": "code",
   "execution_count": null,
   "id": "19be46ca",
   "metadata": {},
   "outputs": [],
   "source": [
    "# path_df['image_pixels'][0].shape"
   ]
  },
  {
   "cell_type": "code",
   "execution_count": null,
   "id": "36009a89",
   "metadata": {},
   "outputs": [],
   "source": [
    "path_df = path_df.drop(columns = ['data_set'])"
   ]
  },
  {
   "cell_type": "code",
   "execution_count": null,
   "id": "9fe92b5d",
   "metadata": {},
   "outputs": [],
   "source": [
    "path_df.head()"
   ]
  },
  {
   "cell_type": "code",
   "execution_count": null,
   "id": "19f65292",
   "metadata": {},
   "outputs": [],
   "source": [
    "path_df['filepaths'] = path_df['filepaths'].apply(lambda x: 'Dataset/' + x)"
   ]
  },
  {
   "cell_type": "code",
   "execution_count": null,
   "id": "bbaa338f",
   "metadata": {},
   "outputs": [],
   "source": [
    "path_df.head()"
   ]
  },
  {
   "cell_type": "code",
   "execution_count": null,
   "id": "5f1bec93",
   "metadata": {},
   "outputs": [],
   "source": [
    "# Split dataframe into train and test sets\n",
    "train_df, test_df = train_test_split(path_df, test_size=0.2, random_state=42)\n",
    "\n",
    "# Split train set into train and validation sets\n",
    "test_df, val_df = train_test_split(train_df, test_size=0.5, random_state=42)"
   ]
  },
  {
   "cell_type": "markdown",
   "id": "11e34d22",
   "metadata": {},
   "source": [
    "## ResNet"
   ]
  },
  {
   "cell_type": "code",
   "execution_count": null,
   "id": "9f86dfc7",
   "metadata": {},
   "outputs": [],
   "source": [
    "image_size = [224, 224]\n",
    "\n",
    "# Load the pre-trained ResNet50 model\n",
    "base_model = ResNet50(weights='imagenet', include_top=False, input_shape=(image_size + [3]))\n",
    "\n",
    "print(base_model.summary())"
   ]
  },
  {
   "cell_type": "code",
   "execution_count": null,
   "id": "9e733871",
   "metadata": {},
   "outputs": [],
   "source": [
    "# Don't want to train model because it is already trained.\n",
    "for layer in base_model.layers:\n",
    "    layer.trainable = False"
   ]
  },
  {
   "cell_type": "code",
   "execution_count": null,
   "id": "64632a4a",
   "metadata": {},
   "outputs": [],
   "source": [
    "num_class = len(card_suits)\n",
    "print(num_class)"
   ]
  },
  {
   "cell_type": "code",
   "execution_count": null,
   "id": "8d92e260",
   "metadata": {},
   "outputs": [],
   "source": [
    "flatten_layer = Flatten()(base_model.output)\n",
    "prediction  = Dense(52, activation='softmax')(flatten_layer)\n",
    "model = Model(inputs=base_model.input, outputs=prediction)\n",
    "print(model.summary())"
   ]
  },
  {
   "cell_type": "code",
   "execution_count": null,
   "id": "78b7d841",
   "metadata": {},
   "outputs": [],
   "source": [
    "model.compile(\n",
    "    loss='categorical_crossentropy',\n",
    "    optimizer='adam',\n",
    "    metrics=['accuracy'])"
   ]
  },
  {
   "cell_type": "code",
   "execution_count": null,
   "id": "11d144a4",
   "metadata": {},
   "outputs": [],
   "source": [
    "# train_folder = \"/home/diana/w281/ucb_mids_w281_project/Dataset/train\"\n",
    "# test_folder = \"/home/diana/w281/ucb_mids_w281_project/Dataset/test\"\n",
    "# val_folder = \"/home/diana/w281/ucb_mids_w281_project/Dataset/valid\"\n",
    "\n",
    "train_data_generator = ImageDataGenerator(rescale = 1. /255,\n",
    "                                             shear_range=0.2,\n",
    "                                             zoom_range=0.2,\n",
    "                                             horizontal_flip=True)\n",
    "\n",
    "test_data_generator = ImageDataGenerator(rescale=1. /255)\n",
    "\n",
    "# training_set = train_data_generator.flow_from_directory(train_folder, target_size=(224,224), batch_size=32, class_mode='categorical')\n",
    "# test_set = test_data_generator.flow_from_directory(val_folder, target_size=(224,224), batch_size=32, class_mode='categorical')\n",
    "\n",
    "\n",
    "training_set = train_data_generator.flow_from_dataframe(\n",
    "    dataframe = train_df,\n",
    "    x_col='filepaths',\n",
    "    y_col='labels',\n",
    "    target_size=(224,224), \n",
    "    batch_size=32, \n",
    "    class_mode='categorical')\n",
    "\n",
    "val_set = test_data_generator.flow_from_dataframe(\n",
    "    dataframe = val_df,\n",
    "    x_col='filepaths',\n",
    "    y_col='labels',\n",
    "    target_size=(224,224), \n",
    "    batch_size=32, \n",
    "    class_mode='categorical')\n",
    "\n",
    "test_set = test_data_generator.flow_from_dataframe(\n",
    "    dataframe = test_df,\n",
    "    x_col='filepaths',\n",
    "    y_col='labels',\n",
    "    target_size=(224,224), \n",
    "    batch_size=32, \n",
    "    class_mode='categorical')\n",
    "\n"
   ]
  },
  {
   "cell_type": "code",
   "execution_count": null,
   "id": "fc53541c",
   "metadata": {},
   "outputs": [],
   "source": [
    "result = model.fit(training_set, \n",
    "                   validation_data=val_set, \n",
    "                   epochs=30,\n",
    "                   steps_per_epoch=len(training_set),\n",
    "                   validation_steps=len(val_set))"
   ]
  },
  {
   "cell_type": "code",
   "execution_count": null,
   "id": "15c7616a",
   "metadata": {},
   "outputs": [],
   "source": [
    "#Plot accuracy\n",
    "plt.plot(result.history['accuracy'], label='train_acc')\n",
    "plt.plot(result.history['val_accuracy'], label='val_acc')\n",
    "plt.legend()\n",
    "plt.show()"
   ]
  },
  {
   "cell_type": "code",
   "execution_count": null,
   "id": "afdd8772",
   "metadata": {},
   "outputs": [],
   "source": [
    "#Plot Loss\n",
    "plt.plot(result.history['loss'], label='train_loss')\n",
    "plt.plot(result.history['val_loss'], label='val_loss')\n",
    "plt.legend()\n",
    "plt.show()"
   ]
  },
  {
   "cell_type": "code",
   "execution_count": null,
   "id": "dcfee134",
   "metadata": {},
   "outputs": [],
   "source": [
    "# Evaluate the model on the test set\n",
    "evaluation = model.evaluate(test_set, steps=len(test_set))\n",
    "\n",
    "# Print the evaluation metrics\n",
    "print(\"Loss:\", evaluation[0])\n",
    "print(\"Accuracy:\", evaluation[1])\n"
   ]
  },
  {
   "cell_type": "code",
   "execution_count": null,
   "id": "b1733ade",
   "metadata": {},
   "outputs": [],
   "source": [
    "# Perform predictions on the test set\n",
    "predictions = model.predict(test_set, steps=len(test_set))\n",
    "\n",
    "# Convert the predictions to class labels\n",
    "predicted_labels = np.argmax(predictions, axis=1)\n",
    "\n",
    "# Print the predicted labels\n",
    "print(predicted_labels)\n"
   ]
  },
  {
   "cell_type": "code",
   "execution_count": null,
   "id": "8131333a",
   "metadata": {},
   "outputs": [],
   "source": [
    "# Ground truth labels for the test set\n",
    "true_labels = test_set.labels\n",
    "\n",
    "# Calculate precision\n",
    "precision = precision_score(true_labels, predicted_labels, average='macro')\n",
    "\n",
    "# Calculate recall\n",
    "recall = recall_score(true_labels, predicted_labels, average='macro')\n",
    "\n",
    "# Calculate F1 score\n",
    "f1 = f1_score(true_labels, predicted_labels, average='macro')\n",
    "\n",
    "# Print the metrics\n",
    "print(\"Precision:\", precision)\n",
    "print(\"Recall:\", recall)\n",
    "print(\"F1 Score:\", f1)"
   ]
  },
  {
   "cell_type": "code",
   "execution_count": null,
   "id": "8d4721a7",
   "metadata": {},
   "outputs": [],
   "source": []
  },
  {
   "cell_type": "code",
   "execution_count": null,
   "id": "5dd5322d",
   "metadata": {},
   "outputs": [],
   "source": []
  },
  {
   "cell_type": "code",
   "execution_count": null,
   "id": "536b496b",
   "metadata": {},
   "outputs": [],
   "source": []
  },
  {
   "cell_type": "code",
   "execution_count": null,
   "id": "a2fdf9ed",
   "metadata": {},
   "outputs": [],
   "source": []
  },
  {
   "cell_type": "code",
   "execution_count": null,
   "id": "57e3b214",
   "metadata": {},
   "outputs": [],
   "source": []
  },
  {
   "cell_type": "code",
   "execution_count": null,
   "id": "4cc76464",
   "metadata": {},
   "outputs": [],
   "source": []
  },
  {
   "cell_type": "code",
   "execution_count": null,
   "id": "1f0a61a0",
   "metadata": {},
   "outputs": [],
   "source": []
  },
  {
   "cell_type": "code",
   "execution_count": null,
   "id": "5b3fbf14",
   "metadata": {},
   "outputs": [],
   "source": [
    "path_df.head()"
   ]
  },
  {
   "cell_type": "code",
   "execution_count": null,
   "id": "6df2cb95",
   "metadata": {},
   "outputs": [],
   "source": [
    "# Set the desired input size for ResNet\n",
    "input_size = (224, 224)\n",
    "\n",
    "# Preprocess the image data\n",
    "all_images = []\n",
    "all_labels = []\n",
    "\n",
    "for idx, row in path_df.iterrows():\n",
    "    filepath = 'Dataset/' + row['filepaths']\n",
    "    image = load_img(filepath, target_size=input_size)\n",
    "    image_array = img_to_array(image)\n",
    "    all_images.append(image_array)\n",
    "    all_labels.append(row['labels'])\n",
    "\n",
    "all_images = np.array(all_images) / 255.0\n",
    "all_labels = np.array(all_labels)"
   ]
  },
  {
   "cell_type": "code",
   "execution_count": null,
   "id": "9bb4c8a7",
   "metadata": {},
   "outputs": [],
   "source": [
    "from sklearn.preprocessing import LabelEncoder\n",
    "\n",
    "# Perform label encoding on the string labels\n",
    "label_encoder = LabelEncoder()\n",
    "encoded_labels = label_encoder.fit_transform(all_labels)"
   ]
  },
  {
   "cell_type": "code",
   "execution_count": null,
   "id": "45ff9449",
   "metadata": {},
   "outputs": [],
   "source": [
    "# Split the data into train, validation, and test sets\n",
    "X_train, X_test_val, y_train, y_test_val = train_test_split(\n",
    "    all_images, encoded_labels, test_size=0.2, random_state=42\n",
    ")\n",
    "\n",
    "X_test, X_val, y_test, y_val = train_test_split(\n",
    "    X_test_val, y_test_val, test_size=0.5, random_state=42\n",
    ")\n"
   ]
  },
  {
   "cell_type": "code",
   "execution_count": null,
   "id": "90585887",
   "metadata": {},
   "outputs": [],
   "source": [
    "train_dataset = tf.data.Dataset.from_tensor_slices((X_train, y_train))\n",
    "val_dataset = tf.data.Dataset.from_tensor_slices((X_val, y_val))\n",
    "test_dataset = tf.data.Dataset.from_tensor_slices((X_test, y_test))\n",
    "\n",
    "# Convert the encoded labels to TensorFlow tensors\n",
    "train_labels = tf.convert_to_tensor(y_train)\n",
    "val_labels = tf.convert_to_tensor(y_val)\n",
    "test_labels = tf.convert_to_tensor(y_test)"
   ]
  },
  {
   "cell_type": "code",
   "execution_count": null,
   "id": "1124ade4",
   "metadata": {},
   "outputs": [],
   "source": [
    "# Shuffle and batch the datasets\n",
    "batch_size = 32\n",
    "train_dataset = train_dataset.shuffle(len(X_train)).batch(batch_size)\n",
    "val_dataset = val_dataset.batch(batch_size)\n",
    "test_dataset = test_dataset.batch(batch_size)"
   ]
  },
  {
   "cell_type": "code",
   "execution_count": null,
   "id": "7b217918",
   "metadata": {},
   "outputs": [],
   "source": []
  },
  {
   "cell_type": "code",
   "execution_count": null,
   "id": "dfc27cab",
   "metadata": {},
   "outputs": [],
   "source": []
  },
  {
   "cell_type": "code",
   "execution_count": null,
   "id": "f04a0374",
   "metadata": {},
   "outputs": [],
   "source": []
  },
  {
   "cell_type": "markdown",
   "id": "217f4379",
   "metadata": {},
   "source": [
    "## ResNet"
   ]
  },
  {
   "cell_type": "code",
   "execution_count": null,
   "id": "0e7d81d5",
   "metadata": {},
   "outputs": [],
   "source": [
    "image_size = [224, 224]\n",
    "\n",
    "# Load the pre-trained ResNet50 model\n",
    "base_model = ResNet50(weights='imagenet', include_top=False, input_shape=(image_size + [3]))\n",
    "\n",
    "print(base_model.summary())"
   ]
  },
  {
   "cell_type": "code",
   "execution_count": null,
   "id": "56d83d13",
   "metadata": {},
   "outputs": [],
   "source": [
    "# Add custom classification layers on top of the pre-trained ResNet50\n",
    "x = base_model.output\n",
    "x = GlobalAveragePooling2D()(x)\n",
    "x = Dense(1024, activation='relu')(x)\n",
    "predictions = Dense(4, activation='softmax')(x)\n",
    "\n",
    "model = Model(inputs=base_model.input, outputs=predictions)"
   ]
  },
  {
   "cell_type": "code",
   "execution_count": null,
   "id": "86ab6c79",
   "metadata": {},
   "outputs": [],
   "source": [
    "# Freeze the pre-trained layers (optional)\n",
    "for layer in base_model.layers:\n",
    "    layer.trainable = False\n",
    "\n",
    "# Compile the model\n",
    "model.compile(optimizer='adam', loss='sparse_categorical_crossentropy', metrics=['accuracy'])"
   ]
  },
  {
   "cell_type": "code",
   "execution_count": null,
   "id": "76e5cf00",
   "metadata": {},
   "outputs": [],
   "source": [
    "# Train the model\n",
    "epochs = 1\n",
    "model.fit(\n",
    "    train_dataset,\n",
    "    epochs=epochs,\n",
    "    validation_data=val_dataset\n",
    ")"
   ]
  },
  {
   "cell_type": "code",
   "execution_count": null,
   "id": "62e2ecb4",
   "metadata": {},
   "outputs": [],
   "source": [
    "# Evaluate the model\n",
    "model.evaluate(test_dataset)"
   ]
  },
  {
   "cell_type": "code",
   "execution_count": null,
   "id": "efb4d10c",
   "metadata": {},
   "outputs": [],
   "source": []
  },
  {
   "cell_type": "code",
   "execution_count": null,
   "id": "e41410ff",
   "metadata": {},
   "outputs": [],
   "source": []
  },
  {
   "cell_type": "code",
   "execution_count": null,
   "id": "eb2176cf",
   "metadata": {},
   "outputs": [],
   "source": []
  },
  {
   "cell_type": "code",
   "execution_count": null,
   "id": "7357014a",
   "metadata": {},
   "outputs": [],
   "source": []
  },
  {
   "cell_type": "code",
   "execution_count": null,
   "id": "5598232a",
   "metadata": {},
   "outputs": [],
   "source": []
  },
  {
   "cell_type": "code",
   "execution_count": null,
   "id": "eab94d2b",
   "metadata": {},
   "outputs": [],
   "source": []
  },
  {
   "cell_type": "code",
   "execution_count": null,
   "id": "b74237cf",
   "metadata": {},
   "outputs": [],
   "source": []
  },
  {
   "cell_type": "code",
   "execution_count": null,
   "id": "45bf9e89",
   "metadata": {},
   "outputs": [],
   "source": []
  },
  {
   "cell_type": "code",
   "execution_count": null,
   "id": "e0549afb",
   "metadata": {},
   "outputs": [],
   "source": []
  },
  {
   "cell_type": "code",
   "execution_count": null,
   "id": "fbb190b9",
   "metadata": {},
   "outputs": [],
   "source": [
    "# Split the data into features (X) and labels (y)\n",
    "X = np.array(path_df['image_pixels'])  # Replace 'target_variable_name' with the actual name of your target variable\n",
    "y = np.array(path_df['suit'])  # Replace 'target_variable_name' with the actual name of your target variable\n",
    "\n"
   ]
  },
  {
   "cell_type": "code",
   "execution_count": null,
   "id": "cee36b72",
   "metadata": {},
   "outputs": [],
   "source": [
    "X_train, X_test, y_train, y_test = train_test_split(X, y, test_size=0.2, random_state=42)\n",
    "X_test, X_val, y_test, y_val = train_test_split(X_test, y_test, test_size=0.5, random_state=42)\n",
    "\n",
    "# Print the shapes of the resulting sets\n",
    "print(\"Training set shape:\", X_train.shape)\n",
    "print(\"Testing set shape:\", X_test.shape)\n",
    "print(\"Validation set shape:\", X_val.shape)"
   ]
  },
  {
   "cell_type": "code",
   "execution_count": null,
   "id": "a565b001",
   "metadata": {},
   "outputs": [],
   "source": [
    "print(type(X_train))"
   ]
  },
  {
   "cell_type": "code",
   "execution_count": null,
   "id": "d4cdebb3",
   "metadata": {},
   "outputs": [],
   "source": [
    "train_dataset = tf.data.Dataset.from_tensor_slices((X_train, y_train))\n",
    "print(train_dataset)"
   ]
  },
  {
   "cell_type": "code",
   "execution_count": null,
   "id": "22ac78fd",
   "metadata": {},
   "outputs": [],
   "source": [
    "# # Convert 'image_pixels' column to a TensorFlow tensor dataset\n",
    "# image_dataset = tf.data.Dataset.from_tensor_slices(path_df['image_pixels'].values)\n",
    "\n",
    "# # Iterate through the dataset\n",
    "# for tensor in image_dataset:\n",
    "#     print(tensor)"
   ]
  },
  {
   "cell_type": "code",
   "execution_count": null,
   "id": "6563750e",
   "metadata": {},
   "outputs": [],
   "source": [
    "# print(type(X_train))\n",
    "# X_train = tf.convert_to_tensor(np.array(X_train), dtype=tf.float32)\n",
    "# X_test = tf.convert_to_tensor(np.array(X_train), dtype=tf.float32)\n",
    "# X_val = tf.convert_to_tensor(np.array(X_train), dtype=tf.float32)\n",
    "# y_train = tf.convert_to_tensor(np.array(X_train), dtype=tf.float32)\n",
    "# y_test = tf.convert_to_tensor(np.array(X_train), dtype=tf.float32)\n",
    "# y_val = tf.convert_to_tensor(np.array(X_train), dtype=tf.float32)\n",
    "\n",
    "# print(type(X_train))"
   ]
  },
  {
   "cell_type": "code",
   "execution_count": null,
   "id": "c4dd7283",
   "metadata": {},
   "outputs": [],
   "source": [
    "base_model = ResNet50(include_top=False, weights='imagenet', input_shape=(224,224,3))"
   ]
  },
  {
   "cell_type": "code",
   "execution_count": null,
   "id": "63ee923b",
   "metadata": {},
   "outputs": [],
   "source": [
    "# Add custom classification layers on top of the pre-trained ResNet50\n",
    "x = base_model.output\n",
    "x = GlobalAveragePooling2D()(x)\n",
    "x = Dense(1024, activation='relu')(x)\n",
    "predictions = Dense(4, activation='softmax')(x)\n",
    "\n",
    "model = Model(inputs=base_model.input, outputs=predictions)\n",
    "\n",
    "for layer in base_model.layers:\n",
    "    layer.trainable = False"
   ]
  },
  {
   "cell_type": "code",
   "execution_count": null,
   "id": "baf4289f",
   "metadata": {},
   "outputs": [],
   "source": [
    "model.compile(optimizer='adam', loss='categorical_crossentropy', metrics=['accuracy'])"
   ]
  },
  {
   "cell_type": "code",
   "execution_count": null,
   "id": "14a0e860",
   "metadata": {},
   "outputs": [],
   "source": [
    "model.fit(\n",
    "    X_train, y_train,\n",
    "    batch_size=32,\n",
    "    epochs=1,\n",
    "    validation_data=(X_val, y_val)\n",
    ")"
   ]
  },
  {
   "cell_type": "code",
   "execution_count": null,
   "id": "fe063bb2",
   "metadata": {},
   "outputs": [],
   "source": []
  },
  {
   "cell_type": "code",
   "execution_count": null,
   "id": "25f827fd",
   "metadata": {},
   "outputs": [],
   "source": []
  },
  {
   "cell_type": "code",
   "execution_count": null,
   "id": "a1d9a08f",
   "metadata": {},
   "outputs": [],
   "source": []
  }
 ],
 "metadata": {
  "kernelspec": {
   "display_name": "Python 3 (ipykernel)",
   "language": "python",
   "name": "python3"
  },
  "language_info": {
   "codemirror_mode": {
    "name": "ipython",
    "version": 3
   },
   "file_extension": ".py",
   "mimetype": "text/x-python",
   "name": "python",
   "nbconvert_exporter": "python",
   "pygments_lexer": "ipython3",
   "version": "3.10.6"
  }
 },
 "nbformat": 4,
 "nbformat_minor": 5
}
